{
 "cells": [
  {
   "cell_type": "markdown",
   "metadata": {},
   "source": [
    "# Question 1"
   ]
  },
  {
   "cell_type": "markdown",
   "metadata": {},
   "source": [
    "## (a) SIRD Model"
   ]
  },
  {
   "cell_type": "markdown",
   "metadata": {},
   "source": [
    "**Updated list of variables in the model**\n",
    "\n",
    "N: total population\n",
    "\n",
    "S(t): number of people susceptible on day t\n",
    "\n",
    "I(t): number of people infected on day t\n",
    "\n",
    "R(t): number of people recovered on day t\n",
    "\n",
    "D(t): number of people dead on day t\n",
    "\n",
    "β: expected amount of people an infected person infects per day\n",
    "\n",
    "D: number of days an infected person has and can spread the disease\n",
    "\n",
    "γ: the proportion of infected recovering per day (γ = 1/D)\n",
    "\n",
    "R₀: Basic reproduction number\n",
    "\n",
    "μ: mortality rate"
   ]
  },
  {
   "cell_type": "markdown",
   "metadata": {},
   "source": [
    "**ODE System**\n",
    "\n",
    "$\\frac{dS}{dt}= -β·I·\\frac{S}{N}$\n",
    "\n",
    "$\\frac{dI}{dt}= β·I·\\frac{S}{N} - γ·I -μ·I$\n",
    "\n",
    "$\\frac{dR}{dt} =γ·I$\n",
    "\n",
    "$\\frac{dD}{dt} =μ·I$"
   ]
  },
  {
   "cell_type": "markdown",
   "metadata": {},
   "source": [
    "**Updated R₀ and Explanation**\n",
    "\n",
    "$R^{SIRD}_{0}=\\frac{β}{γ+μ}$\n",
    "\n",
    "- The original R₀ = β ⋅ D =  β / γ\n",
    "\n",
    "\n",
    "- Taking Death rate into consideration, everyday, there are 1/γ of infected people recovered and 1/μ R.I.P. Therefore, denominator should be (γ+μ)"
   ]
  },
  {
   "cell_type": "markdown",
   "metadata": {},
   "source": [
    "$R^{SIRD}_{eff}=R_{0}*\\frac{S_{t}}{N}$"
   ]
  },
  {
   "cell_type": "markdown",
   "metadata": {},
   "source": [
    "**Plot**"
   ]
  },
  {
   "cell_type": "code",
   "execution_count": 5,
   "metadata": {},
   "outputs": [
    {
     "name": "stdout",
     "output_type": "stream",
     "text": [
      "R_eff_sir<=1 at t=23d\n"
     ]
    }
   ],
   "source": [
    "import numpy as np\n",
    "import pandas as pd\n",
    "import math\n",
    "from scipy.integrate import odeint\n",
    "import matplotlib.pyplot as plt\n",
    "%matplotlib inline\n",
    "\n",
    "# Population size\n",
    "N = 3000\n",
    "\n",
    "# Initial conditions: 50 Infected, no Recovered or dead individuals\n",
    "S0,I0, R0,D0 = N-50, 50, 0, 0 \n",
    "\n",
    "beta = 0.35\n",
    "gamma = 0.15\n",
    "mu = 0.04\n",
    "R_nought_sird = beta/(mu +gamma)\n",
    "\n",
    "\n",
    "\n",
    "# A grid of time points (in days)\n",
    "t = np.linspace(0, 365, 365)\n",
    "\n",
    "# SIR model (coupled nonlinear system of ODEs)\n",
    "def deriv_sird(y, t, N, beta, gamma,mu):\n",
    "    S, I, R ,D = y\n",
    "    dSdt = -beta * S * I / N\n",
    "    dIdt = beta * S * I / N - gamma * I - mu*I\n",
    "    dRdt = gamma * I\n",
    "    dDdt = mu*I\n",
    "    \n",
    "    return dSdt, dIdt, dRdt,dDdt\n",
    "\n",
    "# Initial conditions vector\n",
    "y0 = S0, I0, R0, D0\n",
    "\n",
    "# Integrate the SIR equations over the time grid, t.\n",
    "ret = odeint(deriv_sird, y0, t, args=(N, beta, gamma,mu))\n",
    "S, I, R, D = ret.T \n",
    "\n",
    "t_1 = 0\n",
    "for time in range(0,len(S)):\n",
    "    if R_nought_sird*S[time]/N <= 1: \n",
    "        t_1 = time\n",
    "        break\n",
    "print(f\"R_eff_sir<=1 at t={t_1}d\")"
   ]
  },
  {
   "cell_type": "code",
   "execution_count": 8,
   "metadata": {},
   "outputs": [],
   "source": [
    "def plot_sird(t, S, I, R, D):\n",
    "    f, ax = plt.subplots(1,1,figsize=(10,4))\n",
    "    ax.plot(t, S/N, 'b', alpha=0.7, linewidth=2, label='Susceptible%')\n",
    "    ax.plot(t, I/N, 'r', alpha=0.7, linewidth=2, label='Infected%')\n",
    "    ax.plot(t, R/N, 'g', alpha=0.7, linewidth=2, label='Recovered%')\n",
    "    ax.plot(t, D/N, 'k', alpha=0.7, linewidth=2, label='Dead%')\n",
    "    ax.plot(t, R_nought_sird*S/N, \"gray\", alpha=0.5, lw=2, label=\"R_effective\")\n",
    "    ax.vlines(t_1, 0, 1, colors='k', linestyles='dashed')\n",
    "    ax.set_xlabel('Time (days)')\n",
    "    ax.set_ylabel('% of Compartment / R_effective')\n",
    "\n",
    "    ax.yaxis.set_tick_params(length=0)\n",
    "    ax.xaxis.set_tick_params(length=0)\n",
    "    \n",
    "    #ax.grid(b=True, which='major', c='w', lw=2, ls='-')\n",
    "    legend = ax.legend(borderpad=2.0)\n",
    "    legend.get_frame().set_alpha(0.5)\n",
    "    for spine in ('top', 'right', 'bottom', 'left'):\n",
    "        ax.spines[spine].set_visible(False)\n",
    "    plt.title(\"SIRD Model\")\n",
    "    plt.show()"
   ]
  },
  {
   "cell_type": "code",
   "execution_count": 9,
   "metadata": {},
   "outputs": [
    {
     "data": {
      "image/png": "[encoded data removed]",
      "text/plain": [
       "<Figure size 720x288 with 1 Axes>"
      ]
     },
     "metadata": {
      "needs_background": "light"
     },
     "output_type": "display_data"
    }
   ],
   "source": [
    "plot_sird(t, S, I, R, D)"
   ]
  },
  {
   "cell_type": "markdown",
   "metadata": {},
   "source": [
    "## Influnce of $\\mu$ and $R_{0}$ on Death"
   ]
  },
  {
   "cell_type": "markdown",
   "metadata": {},
   "source": [
    "### **2.1.Change 𝜇 with other variables fixed**\n",
    "\n",
    "It's given that μ ∈ \\[0.4%, 4%]\n",
    "\n",
    "The change of 𝜇 will also change the R<sub>0</sub>, we have to carefully select beta and gamma to guarantee that R0 is in \\[3.0, 4.0], or satisfies following inequality equations:\n",
    "\n",
    "$\\frac{\\beta}{Ɣ+0.04}$ <= 4\n",
    "\n",
    "$\\frac{\\beta}{Ɣ+0.4}$ >= 3\n",
    "\n",
    "By solving the inequality equations, we found:\n",
    "- Ɣ has to >= 0.104 so that $\\beta$ has solutions \n",
    "- Assume Ɣ =0.15 unchanged from previous question\n",
    "- Then $\\beta$ is in \\[0.57, 0.76]\n",
    "- In following cells, we use $\\beta$ = 0.65 in order to keep R<sub>0</sub>=4"
   ]
  },
  {
   "cell_type": "code",
   "execution_count": 35,
   "metadata": {
    "scrolled": true
   },
   "outputs": [],
   "source": [
    "# Population size\n",
    "N = 3000\n",
    "\n",
    "# Initial conditions: 50 Infected, no Recovered or dead individuals\n",
    "S0,I0, R0,D0 = N-50, 50, 0, 0 \n",
    "\n",
    "beta = 0.8\n",
    "gamma = 0.2\n",
    "mu_points = list(np.linspace(0.004, 0.04, 20))\n",
    "R_nought_sird = beta/(mu +gamma)\n",
    "\n",
    "\n",
    "# A grid of time points (in days)\n",
    "t = np.linspace(0, 365, 365)\n",
    "\n",
    "\n",
    "def deriv_sird(y, t, N, beta, gamma,mu):\n",
    "    S, I, R ,D = y\n",
    "    dSdt = -beta * S * I / N\n",
    "    dIdt = beta * S * I / N - gamma * I - mu*I\n",
    "    dRdt = gamma * I\n",
    "    dDdt = mu*I\n",
    "    \n",
    "    return dSdt, dIdt, dRdt,dDdt\n",
    "\n",
    "# Initial conditions vector\n",
    "y0 = S0, I0, R0, D0\n",
    "\n",
    "\n",
    "# For loop to calculate the Death(365) under different mu\n",
    "RIP = []\n",
    "for m in mu_points:\n",
    "    ret = odeint(deriv_sird, y0, t, args=(N, beta, gamma,m))\n",
    "    S, I, R, D = ret.T \n",
    "    RIP.append(D[364])"
   ]
  },
  {
   "cell_type": "markdown",
   "metadata": {},
   "source": [
    "**Plot the cumulated death number under different mu**"
   ]
  },
  {
   "cell_type": "code",
   "execution_count": 36,
   "metadata": {},
   "outputs": [
    {
     "data": {
      "image/png": "[encoded data removed]",
      "text/plain": [
       "<Figure size 720x288 with 1 Axes>"
      ]
     },
     "metadata": {
      "needs_background": "light"
     },
     "output_type": "display_data"
    }
   ],
   "source": [
    "fig = plt.figure(figsize=(10, 4))\n",
    "#ax = fig.add_axes([0,0,1,1])\n",
    "plt.plot(mu_points,RIP)\n",
    "plt.title(\"Cumulative death count under mu\")\n",
    "plt.xlabel(\"mortality rates (mu)\")\n",
    "plt.ylabel(\"cumulative deaths\")\n",
    "# for spine in (\"top\", \"right\"):\n",
    "#     ax.spines[spine].set_visible(False)\n",
    "plt.show()"
   ]
  },
  {
   "cell_type": "markdown",
   "metadata": {},
   "source": [
    "### **Other Var Fixed, Changing 𝑅0**"
   ]
  },
  {
   "cell_type": "markdown",
   "metadata": {},
   "source": [
    "We keep 𝜇 = 0.04"
   ]
  },
  {
   "cell_type": "markdown",
   "metadata": {},
   "source": [
    "$3 <= \\frac{\\beta}{\\gamma+0.04} <= 4$"
   ]
  },
  {
   "cell_type": "markdown",
   "metadata": {},
   "source": [
    "- Beta is decided by gamma and R0\n",
    "\n",
    "\n",
    "- Gamma (0, 1] , R_0 [3, 4]\n",
    "\n",
    "\n",
    "- Beta = R_0 * (Gamma + 0.04), therefore, beta (0,4]"
   ]
  },
  {
   "cell_type": "code",
   "execution_count": 46,
   "metadata": {
    "scrolled": true
   },
   "outputs": [],
   "source": [
    "gamma_points = list(np.linspace(0.01, 1, 10))\n",
    "R_0_points = list(np.linspace(3, 4, 10))\n",
    "beta_list = []\n",
    "df_data = {'R_0':[],\n",
    "           'Gamma':[],\n",
    "           'Beta':[],\n",
    "           'cc_death':[]\n",
    "}\n",
    "\n",
    "for r in R_0_points:\n",
    "    for g in gamma_points:\n",
    "        beta = r*(g+0.04)\n",
    "        ret = odeint(deriv_sird, y0, t, args=(N, beta, gamma,0.04))\n",
    "        S, I, R, D = ret.T \n",
    "        cc_death = D[364]\n",
    "        df_data['R_0'].append(r)\n",
    "        df_data['Gamma'].append(g)\n",
    "        df_data['Beta'].append(round(beta,3))\n",
    "        df_data['cc_death'].append(D[364])"
   ]
  },
  {
   "cell_type": "code",
   "execution_count": 48,
   "metadata": {},
   "outputs": [
    {
     "data": {
      "text/html": [
       "<div>\n",
       "<style scoped>\n",
       "    .dataframe tbody tr th:only-of-type {\n",
       "        vertical-align: middle;\n",
       "    }\n",
       "\n",
       "    .dataframe tbody tr th {\n",
       "        vertical-align: top;\n",
       "    }\n",
       "\n",
       "    .dataframe thead th {\n",
       "        text-align: right;\n",
       "    }\n",
       "</style>\n",
       "<table border=\"1\" class=\"dataframe\">\n",
       "  <thead>\n",
       "    <tr style=\"text-align: right;\">\n",
       "      <th></th>\n",
       "      <th>R_0</th>\n",
       "      <th>Gamma</th>\n",
       "      <th>Beta</th>\n",
       "      <th>cc_death</th>\n",
       "    </tr>\n",
       "  </thead>\n",
       "  <tbody>\n",
       "    <tr>\n",
       "      <th>0</th>\n",
       "      <td>3.0</td>\n",
       "      <td>0.01</td>\n",
       "      <td>0.15</td>\n",
       "      <td>21.178526</td>\n",
       "    </tr>\n",
       "    <tr>\n",
       "      <th>1</th>\n",
       "      <td>3.0</td>\n",
       "      <td>0.12</td>\n",
       "      <td>0.48</td>\n",
       "      <td>401.215783</td>\n",
       "    </tr>\n",
       "    <tr>\n",
       "      <th>2</th>\n",
       "      <td>3.0</td>\n",
       "      <td>0.23</td>\n",
       "      <td>0.81</td>\n",
       "      <td>480.855261</td>\n",
       "    </tr>\n",
       "    <tr>\n",
       "      <th>3</th>\n",
       "      <td>3.0</td>\n",
       "      <td>0.34</td>\n",
       "      <td>1.14</td>\n",
       "      <td>495.563120</td>\n",
       "    </tr>\n",
       "    <tr>\n",
       "      <th>4</th>\n",
       "      <td>3.0</td>\n",
       "      <td>0.45</td>\n",
       "      <td>1.47</td>\n",
       "      <td>498.910027</td>\n",
       "    </tr>\n",
       "    <tr>\n",
       "      <th>...</th>\n",
       "      <td>...</td>\n",
       "      <td>...</td>\n",
       "      <td>...</td>\n",
       "      <td>...</td>\n",
       "    </tr>\n",
       "    <tr>\n",
       "      <th>95</th>\n",
       "      <td>4.0</td>\n",
       "      <td>0.56</td>\n",
       "      <td>2.40</td>\n",
       "      <td>499.977668</td>\n",
       "    </tr>\n",
       "    <tr>\n",
       "      <th>96</th>\n",
       "      <td>4.0</td>\n",
       "      <td>0.67</td>\n",
       "      <td>2.84</td>\n",
       "      <td>499.996431</td>\n",
       "    </tr>\n",
       "    <tr>\n",
       "      <th>97</th>\n",
       "      <td>4.0</td>\n",
       "      <td>0.78</td>\n",
       "      <td>3.28</td>\n",
       "      <td>499.999429</td>\n",
       "    </tr>\n",
       "    <tr>\n",
       "      <th>98</th>\n",
       "      <td>4.0</td>\n",
       "      <td>0.89</td>\n",
       "      <td>3.72</td>\n",
       "      <td>499.999909</td>\n",
       "    </tr>\n",
       "    <tr>\n",
       "      <th>99</th>\n",
       "      <td>4.0</td>\n",
       "      <td>1.00</td>\n",
       "      <td>4.16</td>\n",
       "      <td>499.999985</td>\n",
       "    </tr>\n",
       "  </tbody>\n",
       "</table>\n",
       "<p>100 rows × 4 columns</p>\n",
       "</div>"
      ],
      "text/plain": [
       "    R_0  Gamma  Beta    cc_death\n",
       "0   3.0   0.01  0.15   21.178526\n",
       "1   3.0   0.12  0.48  401.215783\n",
       "2   3.0   0.23  0.81  480.855261\n",
       "3   3.0   0.34  1.14  495.563120\n",
       "4   3.0   0.45  1.47  498.910027\n",
       "..  ...    ...   ...         ...\n",
       "95  4.0   0.56  2.40  499.977668\n",
       "96  4.0   0.67  2.84  499.996431\n",
       "97  4.0   0.78  3.28  499.999429\n",
       "98  4.0   0.89  3.72  499.999909\n",
       "99  4.0   1.00  4.16  499.999985\n",
       "\n",
       "[100 rows x 4 columns]"
      ]
     },
     "execution_count": 48,
     "metadata": {},
     "output_type": "execute_result"
    }
   ],
   "source": [
    "df = pd.DataFrame(df_data)\n",
    "df"
   ]
  },
  {
   "cell_type": "code",
   "execution_count": 85,
   "metadata": {
    "scrolled": true
   },
   "outputs": [
    {
     "data": {
      "text/html": [
       "<div>\n",
       "<style scoped>\n",
       "    .dataframe tbody tr th:only-of-type {\n",
       "        vertical-align: middle;\n",
       "    }\n",
       "\n",
       "    .dataframe tbody tr th {\n",
       "        vertical-align: top;\n",
       "    }\n",
       "\n",
       "    .dataframe thead th {\n",
       "        text-align: right;\n",
       "    }\n",
       "</style>\n",
       "<table border=\"1\" class=\"dataframe\">\n",
       "  <thead>\n",
       "    <tr style=\"text-align: right;\">\n",
       "      <th></th>\n",
       "      <th>Gamma</th>\n",
       "      <th>Beta</th>\n",
       "      <th>cc_death</th>\n",
       "    </tr>\n",
       "    <tr>\n",
       "      <th>R_0</th>\n",
       "      <th></th>\n",
       "      <th></th>\n",
       "      <th></th>\n",
       "    </tr>\n",
       "  </thead>\n",
       "  <tbody>\n",
       "    <tr>\n",
       "      <th>3.000000</th>\n",
       "      <td>0.505</td>\n",
       "      <td>1.6350</td>\n",
       "      <td>439.735793</td>\n",
       "    </tr>\n",
       "    <tr>\n",
       "      <th>3.111111</th>\n",
       "      <td>0.505</td>\n",
       "      <td>1.6956</td>\n",
       "      <td>441.128061</td>\n",
       "    </tr>\n",
       "    <tr>\n",
       "      <th>3.222222</th>\n",
       "      <td>0.505</td>\n",
       "      <td>1.7561</td>\n",
       "      <td>442.384705</td>\n",
       "    </tr>\n",
       "    <tr>\n",
       "      <th>3.333333</th>\n",
       "      <td>0.505</td>\n",
       "      <td>1.8167</td>\n",
       "      <td>443.528605</td>\n",
       "    </tr>\n",
       "    <tr>\n",
       "      <th>3.444444</th>\n",
       "      <td>0.505</td>\n",
       "      <td>1.8772</td>\n",
       "      <td>444.579923</td>\n",
       "    </tr>\n",
       "    <tr>\n",
       "      <th>3.555556</th>\n",
       "      <td>0.505</td>\n",
       "      <td>1.9378</td>\n",
       "      <td>445.556791</td>\n",
       "    </tr>\n",
       "    <tr>\n",
       "      <th>3.666667</th>\n",
       "      <td>0.505</td>\n",
       "      <td>1.9983</td>\n",
       "      <td>446.475891</td>\n",
       "    </tr>\n",
       "    <tr>\n",
       "      <th>3.777778</th>\n",
       "      <td>0.505</td>\n",
       "      <td>2.0589</td>\n",
       "      <td>447.352976</td>\n",
       "    </tr>\n",
       "    <tr>\n",
       "      <th>3.888889</th>\n",
       "      <td>0.505</td>\n",
       "      <td>2.1194</td>\n",
       "      <td>448.203319</td>\n",
       "    </tr>\n",
       "    <tr>\n",
       "      <th>4.000000</th>\n",
       "      <td>0.505</td>\n",
       "      <td>2.1800</td>\n",
       "      <td>449.042069</td>\n",
       "    </tr>\n",
       "  </tbody>\n",
       "</table>\n",
       "</div>"
      ],
      "text/plain": [
       "          Gamma    Beta    cc_death\n",
       "R_0                                \n",
       "3.000000  0.505  1.6350  439.735793\n",
       "3.111111  0.505  1.6956  441.128061\n",
       "3.222222  0.505  1.7561  442.384705\n",
       "3.333333  0.505  1.8167  443.528605\n",
       "3.444444  0.505  1.8772  444.579923\n",
       "3.555556  0.505  1.9378  445.556791\n",
       "3.666667  0.505  1.9983  446.475891\n",
       "3.777778  0.505  2.0589  447.352976\n",
       "3.888889  0.505  2.1194  448.203319\n",
       "4.000000  0.505  2.1800  449.042069"
      ]
     },
     "execution_count": 85,
     "metadata": {},
     "output_type": "execute_result"
    }
   ],
   "source": [
    "df_R0 = df.groupby('R_0').mean()\n",
    "df_R0"
   ]
  },
  {
   "cell_type": "markdown",
   "metadata": {},
   "source": [
    "**Average Cumulative Death over increasing R0**"
   ]
  },
  {
   "cell_type": "code",
   "execution_count": 91,
   "metadata": {},
   "outputs": [
    {
     "data": {
      "image/png": "[encoded data removed]",
      "text/plain": [
       "<Figure size 720x288 with 1 Axes>"
      ]
     },
     "metadata": {
      "needs_background": "light"
     },
     "output_type": "display_data"
    }
   ],
   "source": [
    "fig = plt.figure(figsize=(10, 4))\n",
    "#ax = fig.add_axes([0,0,1,1])\n",
    "plt.plot(R_0_points,df_R0['cc_death'])\n",
    "plt.title(\"Cumulative death count under diff R_0)\")\n",
    "plt.xlabel(\"R_0\")\n",
    "plt.ylabel(\"Cumulative deaths\")\n",
    "# for spine in (\"top\", \"right\"):\n",
    "#     ax.spines[spine].set_visible(False)\n",
    "plt.show()"
   ]
  },
  {
   "cell_type": "markdown",
   "metadata": {},
   "source": [
    "### Plot R_effective"
   ]
  },
  {
   "cell_type": "markdown",
   "metadata": {},
   "source": [
    "$R_{eff}=R_{0}*\\frac{S_{t}}{N}$"
   ]
  },
  {
   "cell_type": "code",
   "execution_count": 79,
   "metadata": {},
   "outputs": [],
   "source": [
    "## Fixed Var\n",
    "beta = 0.35\n",
    "gamma = 0.15\n",
    "mu = 0.04\n",
    "R_nought = beta/(mu +gamma)\n",
    "\n",
    "# time\n",
    "t = np.linspace(0, 365, 365)\n",
    "# ODE and Int\n",
    "def deriv_sird(y, t, N, beta, gamma,mu):\n",
    "    S, I, R ,D = y\n",
    "    dSdt = -beta * S * I / N\n",
    "    dIdt = beta * S * I / N - gamma * I - mu*I\n",
    "    dRdt = gamma * I\n",
    "    dDdt = mu*I\n",
    "    \n",
    "    return dSdt, dIdt, dRdt,dDdt\n",
    "\n",
    "# Initial conditions vector\n",
    "y0 = S0, I0, R0, D0\n",
    "\n",
    "# Integrate the SIR equations over the time grid, t.\n",
    "ret = odeint(deriv_sird, y0, t, args=(N, beta, gamma,mu))\n",
    "S, I, R, D = ret.T "
   ]
  },
  {
   "cell_type": "code",
   "execution_count": 81,
   "metadata": {},
   "outputs": [],
   "source": [
    "# R_effective over time\n",
    "R_eff_list = []\n",
    "for s in S:\n",
    "    R_eff = R_nought * s/N\n",
    "    R_eff_list.append(R_eff)"
   ]
  },
  {
   "cell_type": "code",
   "execution_count": 82,
   "metadata": {},
   "outputs": [
    {
     "data": {
      "image/png": "[encoded data removed]",
      "text/plain": [
       "<Figure size 720x288 with 1 Axes>"
      ]
     },
     "metadata": {
      "needs_background": "light"
     },
     "output_type": "display_data"
    }
   ],
   "source": [
    "fig = plt.figure(figsize=(10, 4))\n",
    "#ax = fig.add_axes([0,0,1,1])\n",
    "plt.plot(t,R_eff_list)\n",
    "plt.title(\"R_effective over time\")\n",
    "plt.xlabel(\"Days\")\n",
    "plt.ylabel(\"R_effective\")\n",
    "# for spine in (\"top\", \"right\"):\n",
    "#     ax.spines[spine].set_visible(False)\n",
    "plt.show()"
   ]
  },
  {
   "cell_type": "markdown",
   "metadata": {},
   "source": [
    "## Lockdown"
   ]
  },
  {
   "cell_type": "markdown",
   "metadata": {},
   "source": [
    "### Hard lockdown"
   ]
  },
  {
   "cell_type": "markdown",
   "metadata": {},
   "source": [
    "- We assume on Day: L, a strict lockdown is imposed\n",
    "    \n",
    "- Before lockdown, R_0 = 4, the lockdown pushes R_0 to 0.9"
   ]
  },
  {
   "cell_type": "code",
   "execution_count": 73,
   "metadata": {},
   "outputs": [],
   "source": [
    "L = 50\n",
    "N = 3000\n",
    "beta = 0.35\n",
    "mu = 0.04\n",
    "\n",
    "def deriv_hard(y, t, N, beta,gamma,mu):\n",
    "    S, I, R ,D = y\n",
    "    dSdt = -beta * S * I / N\n",
    "    dIdt = beta * S * I / N - gamma * I - mu*I\n",
    "    dRdt = gamma * I\n",
    "    dDdt = mu*I\n",
    "    return dSdt, dIdt, dRdt,dDdt\n",
    "\n",
    "def R_0(t):\n",
    "    return 4.0 if t < L else 0.9\n",
    "def gamma(t):\n",
    "    return (beta / R_0(t)) - mu\n",
    "\n",
    "S0,I0,R0,D0 = N-50, 50, 0, 0 \n",
    "\n",
    "t = np.linspace(0, 365, 365)\n",
    "y0 = S0, I0, R0, D0\n",
    "\n",
    "ret = odeint(deriv_hard, y0, t, args=(N, beta, gamma,mu))\n",
    "S, I, R, D = ret.T "
   ]
  },
  {
   "cell_type": "code",
   "execution_count": 75,
   "metadata": {},
   "outputs": [
    {
     "data": {
      "text/plain": [
       "(4.0, 0.9)"
      ]
     },
     "execution_count": 75,
     "metadata": {},
     "output_type": "execute_result"
    }
   ],
   "source": [
    "R_0(5),R_0(51)"
   ]
  },
  {
   "cell_type": "code",
   "execution_count": 76,
   "metadata": {},
   "outputs": [],
   "source": [
    "def plot_hard(t, S, I, R, D):\n",
    "    f, ax = plt.subplots(1,1,figsize=(10,4))\n",
    "    ax.plot(t, S/N, 'b', alpha=0.7, linewidth=2, label='Susceptible%')\n",
    "    ax.plot(t, I/N, 'r', alpha=0.7, linewidth=2, label='Infected%')\n",
    "    ax.plot(t, R/N, 'g', alpha=0.7, linewidth=2, label='Recovered%')\n",
    "    ax.plot(t, D/N, 'k', alpha=0.7, linewidth=2, label='Dead%')\n",
    "    #ax.plot(t, R_nought_sird*S/N, \"gray\", alpha=0.5, lw=2, label=\"R_effective\")\n",
    "    #ax.vlines(t_1, 0, 1, colors='k', linestyles='dashed')\n",
    "    ax.set_xlabel('Time (days)')\n",
    "    ax.set_ylabel('% of Compartment / R_effective')\n",
    "\n",
    "    ax.yaxis.set_tick_params(length=0)\n",
    "    ax.xaxis.set_tick_params(length=0)\n",
    "    \n",
    "    #ax.grid(b=True, which='major', c='w', lw=2, ls='-')\n",
    "    legend = ax.legend(borderpad=2.0)\n",
    "    legend.get_frame().set_alpha(0.5)\n",
    "    for spine in ('top', 'right', 'bottom', 'left'):\n",
    "        ax.spines[spine].set_visible(False)\n",
    "    plt.title(\"Lockdown after {} days\".format(L))\n",
    "    plt.show()"
   ]
  },
  {
   "cell_type": "code",
   "execution_count": 77,
   "metadata": {},
   "outputs": [
    {
     "data": {
      "image/png": "[encoded data removed]",
      "text/plain": [
       "<Figure size 720x288 with 1 Axes>"
      ]
     },
     "metadata": {
      "needs_background": "light"
     },
     "output_type": "display_data"
    }
   ],
   "source": [
    "plot_hard(t, S, I, R, D)"
   ]
  },
  {
   "cell_type": "code",
   "execution_count": null,
   "metadata": {},
   "outputs": [],
   "source": []
  },
  {
   "cell_type": "code",
   "execution_count": null,
   "metadata": {},
   "outputs": [],
   "source": []
  },
  {
   "cell_type": "code",
   "execution_count": null,
   "metadata": {},
   "outputs": [],
   "source": []
  }
 ],
 "metadata": {
  "kernelspec": {
   "display_name": "Python 3",
   "language": "python",
   "name": "python3"
  },
  "language_info": {
   "codemirror_mode": {
    "name": "ipython",
    "version": 3
   },
   "file_extension": ".py",
   "mimetype": "text/x-python",
   "name": "python",
   "nbconvert_exporter": "python",
   "pygments_lexer": "ipython3",
   "version": "3.8.5"
  },
  "toc": {
   "base_numbering": 1,
   "nav_menu": {},
   "number_sections": true,
   "sideBar": true,
   "skip_h1_title": false,
   "title_cell": "Table of Contents",
   "title_sidebar": "Contents",
   "toc_cell": false,
   "toc_position": {},
   "toc_section_display": true,
   "toc_window_display": false
  }
 },
 "nbformat": 4,
 "nbformat_minor": 4
}