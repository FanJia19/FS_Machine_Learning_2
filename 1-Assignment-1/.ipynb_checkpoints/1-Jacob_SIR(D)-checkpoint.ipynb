{
 "cells": [
  {
   "cell_type": "markdown",
   "metadata": {},
   "source": [
    "# **assignment 1**"
   ]
  },
  {
   "cell_type": "code",
   "execution_count": 1,
   "metadata": {},
   "outputs": [],
   "source": [
    "# imports\n",
    "import numpy as np\n",
    "import pandas as pd\n",
    "import math\n",
    "from scipy.integrate import odeint\n",
    "import matplotlib.pyplot as plt\n",
    "import seaborn as sns"
   ]
  },
  {
   "cell_type": "markdown",
   "metadata": {},
   "source": [
    "# part 1 - COVID-19 Disasters"
   ]
  },
  {
   "cell_type": "markdown",
   "metadata": {},
   "source": [
    "### original SIR Model"
   ]
  },
  {
   "attachments": {
    "c6c33bec-b421-4dc6-8b74-2e6459f2576f.png": {
     "image/png": "[encoded data removed]"
    }
   },
   "cell_type": "markdown",
   "metadata": {},
   "source": [
    "![SIR.png](attachment:c6c33bec-b421-4dc6-8b74-2e6459f2576f.png)"
   ]
  },
  {
   "cell_type": "markdown",
   "metadata": {},
   "source": [
    "**list of parameters in the model:**\n",
    "\n",
    "$N$: total population set to 1\n",
    "\n",
    "$S(t)$: percentage of people susceptible on day t\n",
    "\n",
    "$I(t)$: percentage of people infected on day t\n",
    "\n",
    "$R(t)$: percentage of people recovered on day t\n",
    "\n",
    "\n",
    "\n",
    "$R_{0}$: basic reproduction number\n",
    "\n",
    "$R_{e}(t)$: effective reproduction number\n",
    "\n",
    "$\\beta$: infection rate\n",
    "\n",
    "$\\gamma$: recovery rate "
   ]
  },
  {
   "cell_type": "markdown",
   "metadata": {},
   "source": [
    "setting compartment sizes $S(t)$, $I(t)$, $R(t)$ at inception (t=0) ..."
   ]
  },
  {
   "cell_type": "code",
   "execution_count": 2,
   "metadata": {},
   "outputs": [],
   "source": [
    "# population size of 1 (constant) allows for fractional view\n",
    "N = 1\n",
    "# 5% infected individuals initially\n",
    "I0 = 0.05\n",
    "# 0% recovered individuals initially\n",
    "R0 = 0\n",
    "# solving N=S+I+R for initial value of S\n",
    "S0 = N - I0 - R0 \n",
    "# tuple representing vector encompassing initial compartment decisions \n",
    "y0 = S0, I0, R0"
   ]
  },
  {
   "cell_type": "markdown",
   "metadata": {},
   "source": [
    "setting rates of infection ($\\beta$) and recovery ($\\gamma$) ..."
   ]
  },
  {
   "cell_type": "code",
   "execution_count": 3,
   "metadata": {},
   "outputs": [],
   "source": [
    "# infection rate\n",
    "β = 0.5\n",
    "# recovery rate, interpretable as 1/D with average recovery duration D\n",
    "Ɣ = 0.15"
   ]
  },
  {
   "cell_type": "markdown",
   "metadata": {},
   "source": [
    "calculating basic reproduction number $R_{0}$ ..."
   ]
  },
  {
   "cell_type": "code",
   "execution_count": 4,
   "metadata": {},
   "outputs": [],
   "source": [
    "# basic reproduction number\n",
    "R_nought = β / Ɣ "
   ]
  },
  {
   "cell_type": "markdown",
   "metadata": {},
   "source": [
    "setting time horizon of 1 year with 365 days ..."
   ]
  },
  {
   "cell_type": "code",
   "execution_count": 5,
   "metadata": {},
   "outputs": [],
   "source": [
    "# creating 365 points in time\n",
    "t = np.linspace(0, 364, 365)"
   ]
  },
  {
   "cell_type": "markdown",
   "metadata": {},
   "source": [
    "setting up SIR model in terms of ODEs ..."
   ]
  },
  {
   "cell_type": "markdown",
   "metadata": {},
   "source": [
    "- $\\frac{dS}{dt} = -\\beta * I * \\frac{S}{N} $\n",
    "- $\\frac{dI}{dt} = \\beta * I * \\frac{S}{N} - \\gamma * I $\n",
    "- $\\frac{dR}{dt} = \\gamma * I $"
   ]
  },
  {
   "cell_type": "markdown",
   "metadata": {},
   "source": [
    "note that we set $N = 1$ so it vanishes from the ODEs above ..."
   ]
  },
  {
   "cell_type": "code",
   "execution_count": 6,
   "metadata": {},
   "outputs": [],
   "source": [
    "# SIR model\n",
    "def deriv_sir(y, t, N, β, Ɣ):\n",
    "    S, I, R = y\n",
    "    dSdt = -β * S * I \n",
    "    dIdt = β * S * I - Ɣ * I\n",
    "    dRdt = Ɣ * I\n",
    "    return dSdt, dIdt, dRdt"
   ]
  },
  {
   "cell_type": "markdown",
   "metadata": {},
   "source": [
    "solving ODE system for $S(t)$, $I(t)$, $R(t)$ for all days of the year ..."
   ]
  },
  {
   "cell_type": "code",
   "execution_count": 7,
   "metadata": {},
   "outputs": [],
   "source": [
    "# integration of ODEs yields S, I, and R\n",
    "ret = odeint(deriv_sir, y0, t, args=(N, β, Ɣ))\n",
    "S, I, R = ret.T "
   ]
  },
  {
   "cell_type": "markdown",
   "metadata": {},
   "source": [
    "creating a useful function to get the days of the compartments becoming a constant fraction and calculating the point in time where $R_{e}(t) = R_{0}*\\frac{S(t)}{N}$ is equal to or below 1 for the first time ..."
   ]
  },
  {
   "cell_type": "code",
   "execution_count": 8,
   "metadata": {},
   "outputs": [],
   "source": [
    "# get the date when S,I,D become constant and respective S,I,D fractions\n",
    "def get_stable_1(t, S, I, R):\n",
    "    S_bottom = round(min(S)*100, 2)\n",
    "    I_peak = round(max(I)*100, 2)\n",
    "    R_peak = round(max(R)*100, 2)\n",
    "\n",
    "    i = 0\n",
    "    while S[i] > min(S):\n",
    "            i += 1\n",
    "    S_bottom_date = int(t[i])\n",
    "\n",
    "    i = 0\n",
    "    while I[i] < max(I):\n",
    "            i += 1\n",
    "    I_peak_date = int(t[i])\n",
    "\n",
    "    i = 0\n",
    "    while R[i] < max(R):\n",
    "            i += 1\n",
    "    R_peak_date = int(t[i])\n",
    "\n",
    "    return S_bottom, S_bottom_date, I_peak, I_peak_date, R_peak, R_peak_date\n",
    "\n",
    "# get the day when S,I,D become constant and respective S,I,D fractions\n",
    "S_bottom, S_bottom_date, I_peak, I_peak_date, R_peak, R_peak_date = get_stable_1(t, S, I, R)\n",
    "\n",
    "# get the day when effective reproduction = 1\n",
    "t_1 = 0\n",
    "for time in range(0,len(S)):\n",
    "    if R_nought*S[time] < 1: \n",
    "        t_1 = time\n",
    "        break"
   ]
  },
  {
   "cell_type": "code",
   "execution_count": 9,
   "metadata": {},
   "outputs": [
    {
     "name": "stdout",
     "output_type": "stream",
     "text": [
      "population size: 1\n",
      "infected at t=0: 0.05\n",
      "R0=3.33\n",
      "R_eff=1 at t=11d\n",
      "susceptible reach bottom on day: 189\n",
      "susceptible bottom number is: 3.85%\n",
      "infected reach peak on day: 11\n",
      "infected peak is: 35.4%\n",
      "recovered reach peak on day: 189\n",
      "recovered peak is: 96.15%\n"
     ]
    },
    {
     "data": {
      "image/png": "[encoded data removed]",
      "text/plain": [
       "<Figure size 1080x720 with 1 Axes>"
      ]
     },
     "metadata": {},
     "output_type": "display_data"
    }
   ],
   "source": [
    "# print additional info\n",
    "print(f\"\"\"population size: {N}\n",
    "infected at t=0: {I0}\n",
    "R0={round(R_nought,2)}\n",
    "R_eff=1 at t={t_1}d\n",
    "susceptible reach bottom on day: {S_bottom_date}\n",
    "susceptible bottom number is: {S_bottom}%\n",
    "infected reach peak on day: {I_peak_date}\n",
    "infected peak is: {I_peak}%\n",
    "recovered reach peak on day: {R_peak_date}\n",
    "recovered peak is: {R_peak}%\"\"\")\n",
    "\n",
    "# plot graph \n",
    "fig = plt.figure(facecolor='w', figsize=(15, 10))\n",
    "ax = fig.add_subplot(111, axisbelow=True)\n",
    "ax.plot(t, S, 'b', alpha=0.5, lw=2, label=\"susceptible (S)\")\n",
    "ax.plot(t, I, 'r', alpha=0.5, lw=2, label=\"infected (I)\")\n",
    "ax.plot(t, R, 'g', alpha=0.5, lw=2, label=\"recovered (R)\")\n",
    "ax.plot(t, R_nought*S, 'gray', alpha=0.5, lw=2, label=\"eff. reproduction\")\n",
    "\n",
    "plt.figtext(.5,.9,f\"SIR Compartments & Effective Reproduction Number over Time\", fontsize=18, ha='center')\n",
    "plt.figtext(.5,.85,f\"with fixed parameters: β={β}, Ɣ={Ɣ} \", fontsize=12, ha='center')\n",
    "ax.set_xlabel('Time (Days)', fontsize=12)\n",
    "ax.set_ylabel('Fraction', fontsize=12)\n",
    "ax.set_ylim(0,2)\n",
    "ax.set_xlim(0,100)\n",
    "plt.axhline(y=1,linewidth=1, color=\"k\", label = \"total population\", linestyle=':')\n",
    "ax.vlines(t_1, 0, 1, colors='k', linestyles='dashed', label=\"eff. repr. ~ 1\")\n",
    "ax.yaxis.set_tick_params(length=0)\n",
    "ax.xaxis.set_tick_params(length=0)\n",
    "legend = ax.legend()\n",
    "legend.get_frame().set_alpha(0.5)\n",
    "for spine in ('top', 'right', 'bottom', 'left'):\n",
    "    ax.spines[spine].set_visible(False)\n",
    "plt.show()"
   ]
  },
  {
   "cell_type": "markdown",
   "metadata": {},
   "source": [
    "<div class=\"alert alert-success\"> <b>takeaway</b>:\n",
    "<br/>- under the pre-defined conditions, the unmitigated SIR case, saw the virus overruning the population in ~40 days with a peak infection share of ~35%\n",
    "<br/>- also, the intuition of the effective reproduction number was confirmed as values &gt 1 represent increasing infections and values &lt 1 represent decreasing number of infections (see vertical dashed line)\n",
    "</div>"
   ]
  },
  {
   "cell_type": "markdown",
   "metadata": {},
   "source": [
    "## part 1 (a)"
   ]
  },
  {
   "cell_type": "markdown",
   "metadata": {},
   "source": [
    "- the SIR model is a 3-compartment model (see above)\n",
    "- extend this model to 4 compartments, where the 4th compartment represents deaths ($D$)\n",
    "- mortality is modelled by new transitions from infected ($I$) $\\rightarrow$ dead ($D$) defined by the mortality rate $\\mu$\n",
    "- susceptible ($S$) and recovered ($R$) individuals do not die\n",
    "- derive the corresponding system of equations for $S$, $I$, $R$ and $D$\n",
    "- e.g., $\\frac{dD}{dt} = \\mu I$ (this is not the only difference to SIR)\n",
    "- in addition, the basic reproduction number may now depend on µ as well, how?"
   ]
  },
  {
   "cell_type": "markdown",
   "metadata": {},
   "source": [
    "### Extended SIRD Model"
   ]
  },
  {
   "attachments": {
    "6627e64f-9aae-417b-84b7-aa5962b8bf77.png": {
     "image/png": "[encoded data removed]"
    }
   },
   "cell_type": "markdown",
   "metadata": {},
   "source": [
    "![SIRD.png](attachment:6627e64f-9aae-417b-84b7-aa5962b8bf77.png)"
   ]
  },
  {
   "cell_type": "markdown",
   "metadata": {},
   "source": [
    "**updated list of parameters in the model:**\n",
    "\n",
    "$N$: total population set to 1\n",
    "\n",
    "$S(t)$: percentage of people susceptible on day t\n",
    "\n",
    "$I(t)$: percentage of people infected on day t\n",
    "\n",
    "$R(t)$: percentage of people recovered on day t\n",
    "\n",
    "**$D(t)$: percentage of people dead on day t**\n",
    "\n",
    "\n",
    "$R_{0}$: basic reproduction number\n",
    "\n",
    "$R_{e}(t)$: effective reproduction number\n",
    "\n",
    "$\\beta$: infection rate\n",
    "\n",
    "$\\gamma$: recovery rate \n",
    "\n",
    "**$\\mu$: mortality rate**\n",
    "\n",
    "\n",
    "**ODEs**\n",
    "- $\\frac{dS}{dt} = -\\beta * I * \\frac{S}{N} $\n",
    "    - unchanged\n",
    "- $\\frac{dI}{dt} = \\beta * I \\frac{S}{N} - \\gamma * I -\\mu * I$\n",
    "    - **incorporation of $\\mu$ since individuals leave the $I$ compartment for both $R$ and $D$**\n",
    "- $\\frac{dR}{dt} = \\gamma * I $\n",
    "    - unchanged\n",
    "- $\\frac{dD}{dt} = \\mu * I$\n",
    "    - **incorporation of compartment D with transition rate (mortality)**"
   ]
  },
  {
   "cell_type": "markdown",
   "metadata": {},
   "source": [
    "<div class=\"alert alert-success\"> <b>takeaway</b>:\n",
    "<br/>- $R_{0}=\\frac{\\beta}{\\gamma_{SIRD}+\\mu}$\n",
    "<br/>- $R_{0}$ is previously measured as $\\frac{\\beta}{\\gamma}$, the infection rate over the recovery rate, which gives a base-line infectiousness of COVID \n",
    "<br/>- taking death into consideration, represented by the death rate $\\mu$, we add one more scenario after infection, which is why we need to add $\\mu$ to the denominator\n",
    "<br/>- assuming the same $R_{0}$ as with the SIR model we know that the denominator needs to be the same so $\\gamma_{SIR} = \\gamma_{SIRD} + \\mu$ \n",
    "<br/>- as before, the effective reproduction number is calcualted by $R_{e}(t)=R_{0}*\\frac{S(t)}{N}$\n",
    "</div>"
   ]
  },
  {
   "cell_type": "markdown",
   "metadata": {},
   "source": [
    "note that the previously set parameters for the SIR models are used where possible, we need to set some new parameters as seen above ... "
   ]
  },
  {
   "cell_type": "code",
   "execution_count": 10,
   "metadata": {},
   "outputs": [],
   "source": [
    "# 0% deceased individuals initially\n",
    "D0 = 0\n",
    "# solving N=S+I+R.D for initial value of S\n",
    "S0 = N - I0 - R0 - D0 \n",
    "# tuple representing vector encompassing initial compartment decisions \n",
    "y0 = S0, I0, R0, D0\n",
    "# mortality rate\n",
    "μ = 0.05"
   ]
  },
  {
   "cell_type": "markdown",
   "metadata": {},
   "source": [
    "calculating $\\gamma$ using the same basic reproduction number $R_{0}$ as before ..."
   ]
  },
  {
   "cell_type": "code",
   "execution_count": 11,
   "metadata": {},
   "outputs": [
    {
     "name": "stdout",
     "output_type": "stream",
     "text": [
      "the new Ɣ for the sIRD model is 0.1\n"
     ]
    }
   ],
   "source": [
    "# calculate gamma by solving y_sir = y_sird + mu for y_sird\n",
    "Ɣ_sird = Ɣ - μ\n",
    "print(f\"the new Ɣ for the sIRD model is {round(Ɣ_sird, 2)}\")"
   ]
  },
  {
   "cell_type": "markdown",
   "metadata": {},
   "source": [
    "setting up SIRD model in terms of ODEs ..."
   ]
  },
  {
   "cell_type": "code",
   "execution_count": 12,
   "metadata": {},
   "outputs": [],
   "source": [
    "def deriv_sird(y, t, N, β, Ɣ, μ):\n",
    "    S, I, R, D = y\n",
    "    dSdt = -β * S * I \n",
    "    dIdt = β * S * I - Ɣ * I - μ * I\n",
    "    dRdt = Ɣ * I\n",
    "    dDdt = μ * I\n",
    "    return dSdt, dIdt, dRdt, dDdt"
   ]
  },
  {
   "cell_type": "markdown",
   "metadata": {},
   "source": [
    "solving ODE system for $S(t)$, $I(t)$, $R(t)$, $D(t)$  for all days of the year ..."
   ]
  },
  {
   "cell_type": "code",
   "execution_count": 13,
   "metadata": {},
   "outputs": [],
   "source": [
    "# integration of ODEs yields S, I, and R\n",
    "ret = odeint(deriv_sird, y0, t, args=(N, β, Ɣ_sird, μ))\n",
    "S, I, R, D = ret.T"
   ]
  },
  {
   "cell_type": "markdown",
   "metadata": {},
   "source": [
    "creating a useful function to get the days of the compartments becoming a constant fraction and calculating the point in time where $R_{e}(t) = R_{0}*\\frac{S(t)}{N}$ is equal to or below 1 for the first time ..."
   ]
  },
  {
   "cell_type": "code",
   "execution_count": 14,
   "metadata": {},
   "outputs": [],
   "source": [
    "# get the day when S,I,R,D become constant and respective S,I,R,D fractions\n",
    "def get_stable_2(t, S, I, R, D):\n",
    "    S_bottom = round(min(S)*100, 2)\n",
    "    I_peak = round(max(I)*100, 2)\n",
    "    R_peak = round(max(R)*100, 2)\n",
    "    D_peak = round(max(D)*100, 2)\n",
    "\n",
    "    i = 0\n",
    "    while S[i] > min(S):\n",
    "            i += 1\n",
    "    S_bottom_date = int(t[i])\n",
    "\n",
    "    i = 0\n",
    "    while I[i] < max(I):\n",
    "            i += 1\n",
    "    I_peak_date = int(t[i])\n",
    "\n",
    "    i = 0\n",
    "    while R[i] < max(R):\n",
    "            i += 1\n",
    "    R_peak_date = int(t[i])\n",
    "\n",
    "    i = 0\n",
    "    while D[i] < max(D):\n",
    "            i += 1\n",
    "    D_peak_date = int(t[i])\n",
    "\n",
    "    return S_bottom, S_bottom_date, I_peak, I_peak_date, R_peak, R_peak_date, D_peak, D_peak_date\n",
    "\n",
    "# get the day when S,I,R,D become constant and respective S,I,RD fractions\n",
    "S_bottom, S_bottom_date, I_peak, I_peak_date, R_peak, R_peak_date, D_peak, D_peak_date = get_stable_2(t, S, I, R, D)\n",
    "\n",
    "# get the day when effective reproduction = 1\n",
    "t_1 = 0\n",
    "for time in range(0,len(S)):\n",
    "    if R_nought*S[time] < 1:  \n",
    "        t_1 = time\n",
    "        break"
   ]
  },
  {
   "cell_type": "code",
   "execution_count": 15,
   "metadata": {},
   "outputs": [
    {
     "name": "stdout",
     "output_type": "stream",
     "text": [
      "population size: 1\n",
      "infected at t=0: 0.05\n",
      "R0=3.33\n",
      "R_eff=1 at t=11d\n",
      "susceptible reach bottom on day: 190\n",
      "susceptible bottom number is: 3.85%\n",
      "infected reach peak on day: 11\n",
      "infected peak is: 35.4%\n",
      "recovered reach peak on day: 190\n",
      "recovered peak is: 64.1\n",
      "dead reach peak on day: 190\n",
      "dead peak is: 32.05%\n"
     ]
    },
    {
     "data": {
      "image/png": "[encoded data removed]",
      "text/plain": [
       "<Figure size 1080x720 with 1 Axes>"
      ]
     },
     "metadata": {},
     "output_type": "display_data"
    }
   ],
   "source": [
    "# print additional info\n",
    "print(f\"\"\"population size: {N}\n",
    "infected at t=0: {I0}\n",
    "R0={round(R_nought,2)}\n",
    "R_eff=1 at t={t_1}d\n",
    "susceptible reach bottom on day: {S_bottom_date}\n",
    "susceptible bottom number is: {S_bottom}%\n",
    "infected reach peak on day: {I_peak_date}\n",
    "infected peak is: {I_peak}%\n",
    "recovered reach peak on day: {R_peak_date}\n",
    "recovered peak is: {R_peak}\n",
    "dead reach peak on day: {D_peak_date}\n",
    "dead peak is: {D_peak}%\"\"\")\n",
    "\n",
    "# plot graph \n",
    "fig = plt.figure(facecolor='w', figsize=(15, 10))\n",
    "ax = fig.add_subplot(111, axisbelow=True)\n",
    "ax.plot(t, S, 'b', alpha=0.5, lw=2, label=\"susceptible (S)\")\n",
    "ax.plot(t, I, 'r', alpha=0.5, lw=2, label=\"infected (I)\")\n",
    "ax.plot(t, R, 'g', alpha=0.5, lw=2, label=\"recovered (R)\")\n",
    "ax.plot(t, D, 'm', alpha=0.5, lw=2, label=\"dead (D)\")\n",
    "ax.plot(t, R_nought*S, 'gray', alpha=0.5, lw=2, label=\"eff. reproduction\")\n",
    "plt.figtext(.5,.9,f\"SIR Compartments & Effective Reproduction Number over Time\", fontsize=18, ha='center')\n",
    "plt.figtext(.5,.85,f\"with fixed parameters: β={β}, Ɣ={round(Ɣ_sird, 2)}, μ={μ}\", fontsize=12, ha='center')\n",
    "ax.set_xlabel('Time (Days)', fontsize=12)\n",
    "ax.set_ylabel('Fraction', fontsize=12)\n",
    "ax.set_ylim(0,2)\n",
    "ax.set_xlim(0,100)\n",
    "plt.axhline(y=1,linewidth=1, color=\"k\", label = \"total population\", linestyle=':')\n",
    "ax.vlines(t_1, 0, 1, colors='k', linestyles='dashed', label=\"eff. repr. ~ 1\")\n",
    "ax.yaxis.set_tick_params(length=0)\n",
    "ax.xaxis.set_tick_params(length=0)\n",
    "legend = ax.legend()\n",
    "legend.get_frame().set_alpha(0.5)\n",
    "for spine in ('top', 'right', 'bottom', 'left'):\n",
    "    ax.spines[spine].set_visible(False)\n",
    "plt.show()"
   ]
  },
  {
   "cell_type": "markdown",
   "metadata": {},
   "source": [
    "<div class=\"alert alert-success\"> <b>takeaway</b>:\n",
    "<br/>- under the pre-defined conditions, the unmitigated SIRD case, saw the virus overruning the population, just as the SIR model, in ~40 days with a peak infection share of ~35% (same as SIR)\n",
    "<br/>- also, the intuition of the SIRD-specific effective reproduction number was, again, confirmed as values &gt 1 represent increasing infections and values &lt 1 represent decreasing number of infections (see vertical dashed line)\n",
    "<br/>- it can clearly be seen that, deceased people make up a considerable chunk of the total population at ~32% in the end  \n",
    "</div>"
   ]
  },
  {
   "cell_type": "markdown",
   "metadata": {},
   "source": [
    "## part 1 (b)"
   ]
  },
  {
   "cell_type": "markdown",
   "metadata": {},
   "source": [
    "- assume that the basic reproduction number $R_{0}$ for B.1.1.7 is not exactly known but only the range $R_{0} \\in [3.0, 4.0]$\n",
    "- assume that the mortality rate $\\mu$ is also not exactly known but in the range $\\mu \\in [0.4\\%, 4\\%]$\n",
    "- study how these parameter uncertainties affect the prediction of $D$ at $t = 365d$\n",
    "- what about the cumulative number of deaths after a year?"
   ]
  },
  {
   "cell_type": "markdown",
   "metadata": {},
   "source": [
    "we know that $R_{0} = \\frac{\\beta}{\\gamma + \\mu}$ so changing all those variables can result in a different $R_{0}$ value"
   ]
  },
  {
   "cell_type": "markdown",
   "metadata": {},
   "source": [
    "note that, if not explcitly mentioned, the previously set parameters are used"
   ]
  },
  {
   "cell_type": "markdown",
   "metadata": {},
   "source": [
    "### (b) changing $\\mu$ (ceteris paribus)"
   ]
  },
  {
   "cell_type": "markdown",
   "metadata": {},
   "source": [
    "we know that $\\mu \\in [0.4\\%, 4\\%]$\n",
    "\n",
    "the change of $\\mu$ will also change the $R_{0}$, we have to carefully select beta and gamma to guarantee that $R_{0} \\in [3.0, 4.0]$\n",
    "\n",
    "$3 \\leq \\frac{\\beta}{\\gamma+\\mu} \\geq 4 $ where $\\mu \\in [0.4\\%, 4\\%]$\n",
    "\n",
    "by solving the inequality equations, we found:\n",
    "- $\\gamma$ has to $\\geq 0.104$ so that $\\beta$ has a solution \n",
    "- assume $\\gamma =0.2$, then $\\beta$ is $\\in [0.72, 0.96]$\n",
    "- in following cells, we use $\\beta = 0.8$ in order to keep $R_{0}=4$"
   ]
  },
  {
   "cell_type": "code",
   "execution_count": 16,
   "metadata": {},
   "outputs": [
    {
     "name": "stdout",
     "output_type": "stream",
     "text": [
      "population size: 1\n",
      "infected at t=0: 0.05\n"
     ]
    },
    {
     "data": {
      "image/png": "[encoded data removed]",
      "text/plain": [
       "<Figure size 1080x576 with 2 Axes>"
      ]
     },
     "metadata": {
      "needs_background": "light"
     },
     "output_type": "display_data"
    }
   ],
   "source": [
    "# setting parameters\n",
    "β = 0.8 \n",
    "Ɣ = 0.2 \n",
    "\n",
    "# pick 20 differenty mortality rates within the specified range\n",
    "mu_list = list(np.linspace(0.004, 0.04, 20)) \n",
    "\n",
    "# loop to integrate and calculate final deaths with different mus\n",
    "RIP = []\n",
    "R0s = []\n",
    "for μ in mu_list:\n",
    "    ret = odeint(deriv_sird, y0, t, args=(N, β, Ɣ, μ))\n",
    "    S, I, R, D = ret.T \n",
    "    R0s.append(β/(Ɣ+μ))\n",
    "    RIP.append(D[-1])\n",
    "\n",
    "# print additional info\n",
    "print(f\"\"\"population size: {N}\n",
    "infected at t=0: {I0}\"\"\")\n",
    "    \n",
    "# plot the relationship \n",
    "fig, ax1 = plt.subplots(figsize=(15, 8))\n",
    "plt.xlabel(\"Death Rates (μ)\", fontsize=12, ha='center')\n",
    "ax2 = ax1.twinx()\n",
    "ax1.plot(mu_list,RIP, label=\"Cumulative Deaths\")\n",
    "ax2.plot(mu_list,R0s, label=\"Basic Reproduction Rates\", color='gray')\n",
    "ax2.ylim = (3,4)\n",
    "ax1.set_ylabel(\"Cumulative Deaths\")\n",
    "ax2.set_ylabel('basic reproduction number')\n",
    "plt.figtext(.5,.9,\"Cumulative Deaths (t=365) with Different Mortalities μ\", fontsize=18, ha='center')\n",
    "plt.figtext(.5,.85,f\"with fixed parameters: β={β}, Ɣ={Ɣ}\", fontsize=12, ha='center')\n",
    "ax1.legend(bbox_to_anchor=(0.82, 0.82))\n",
    "ax2.legend(bbox_to_anchor=(1, 0.3))\n",
    "ax1.spines['top'].set_visible(False)\n",
    "ax2.spines['top'].set_visible(False)\n",
    "plt.show()"
   ]
  },
  {
   "cell_type": "markdown",
   "metadata": {},
   "source": [
    "<div class=\"alert alert-success\"> <b>takeaway</b>:\n",
    "<br/>- from the graph above, we can clearly see that given certain β and Ɣ, death number is highly determined by death rate μ with a positive correlation\n",
    "</div>"
   ]
  },
  {
   "cell_type": "markdown",
   "metadata": {},
   "source": [
    "### (b) changing $R_{0}$ (ceteris paribus)"
   ]
  },
  {
   "cell_type": "markdown",
   "metadata": {},
   "source": [
    "we keep $\\mu = 0.04$\n",
    "\n",
    "still, $3 \\leq \\frac{\\beta}{\\gamma+\\mu} \\geq 4 $ has to hold\n",
    "\n",
    "we know $\\gamma \\in (0, 1]$\n",
    "\n",
    "we also know $\\beta$ is defined by $\\gamma$ and $R_{0}$ by $\\beta = R_{0} * (\\gamma + 0.04)$\n",
    "\n",
    "therefore, $\\beta \\in (0.12,4.16]$ by solving for the extreme cases"
   ]
  },
  {
   "cell_type": "code",
   "execution_count": 17,
   "metadata": {},
   "outputs": [
    {
     "name": "stdout",
     "output_type": "stream",
     "text": [
      "population size: 1\n",
      "infected at t=0: 0.05\n"
     ]
    },
    {
     "data": {
      "image/png": "[encoded data removed]",
      "text/plain": [
       "<Figure size 1080x576 with 1 Axes>"
      ]
     },
     "metadata": {
      "needs_background": "light"
     },
     "output_type": "display_data"
    }
   ],
   "source": [
    "gamma_list = list(np.linspace(0.00001, 1, 10)) #Define γ range\n",
    "R0_list = list(np.linspace(3, 4, 10)) #Define R0 range\n",
    "beta_list = [] #Calculate beta and put them in here\n",
    "para_dict = {'R0':[], 'Gamma':[], 'Beta':[], 'Death':[]} #Empty dictionary to be filled\n",
    "\n",
    "# solving ODEs for different combinations of gamma and R0\n",
    "for r in R0_list:\n",
    "    for g in gamma_list:\n",
    "        beta = r*(g + μ)\n",
    "        ret = odeint(deriv_sird, y0, t, args=(N, beta, g, μ))\n",
    "        S, I, R, D = ret.T \n",
    "        # fill para_dict with results\n",
    "        para_dict['R0'].append(r) \n",
    "        para_dict['Gamma'].append(g)\n",
    "        para_dict['Beta'].append(round(beta,3))\n",
    "        para_dict['Death'].append(D[-1])\n",
    "\n",
    "# data Transformation\n",
    "df = pd.DataFrame(para_dict) #Create dataframe\n",
    "df_R0 = df.groupby('R0').mean() #Calculate mean values across all columns per R0\n",
    "\n",
    "# print additional info\n",
    "print(f\"\"\"population size: {N}\n",
    "infected at t=0: {I0}\"\"\")\n",
    "\n",
    "# plot the relationship\n",
    "fig, ax = plt.subplots(figsize=(15, 8))\n",
    "plt.plot(R0_list, df_R0['Death'])\n",
    "plt.figtext(.5,.9,\"Cumulative Deaths (t=365) with different R0s\", fontsize=18, ha='center')\n",
    "plt.figtext(.5,.85,f\"with fixed parameters: μ={μ} fixed and Ɣ ∈ (0, 1]\", fontsize=12, ha='center')\n",
    "plt.xlabel(\"Basic Reproduction Numbers\", fontsize=12, ha='center')\n",
    "plt.ylabel(\"Cumulative Deaths\", fontsize=12, ha='center')\n",
    "ax.spines['top'].set_visible(False)\n",
    "plt.show()"
   ]
  },
  {
   "cell_type": "markdown",
   "metadata": {},
   "source": [
    "<div class=\"alert alert-success\"> <b>takeaway</b>:\n",
    "<br/>- From the graph above, we can also see a positive effect of R0 on death counts, however, this effect is much less significant than that of μ. Therefore, we decide to further investigate the interaction between R0 and μ, and their combined effect of death counts\n",
    "</div>"
   ]
  },
  {
   "cell_type": "markdown",
   "metadata": {},
   "source": [
    "### (b) comparing different $R_{0}$ compositions (ceteris paribus)"
   ]
  },
  {
   "cell_type": "code",
   "execution_count": 18,
   "metadata": {},
   "outputs": [
    {
     "name": "stdout",
     "output_type": "stream",
     "text": [
      "the following combinations were yielded (gammas are represented as index with betas within table):\n"
     ]
    },
    {
     "data": {
      "text/html": [
       "<div>\n",
       "<style scoped>\n",
       "    .dataframe tbody tr th:only-of-type {\n",
       "        vertical-align: middle;\n",
       "    }\n",
       "\n",
       "    .dataframe tbody tr th {\n",
       "        vertical-align: top;\n",
       "    }\n",
       "\n",
       "    .dataframe thead th {\n",
       "        text-align: right;\n",
       "    }\n",
       "</style>\n",
       "<table border=\"1\" class=\"dataframe\">\n",
       "  <thead>\n",
       "    <tr style=\"text-align: right;\">\n",
       "      <th></th>\n",
       "      <th>3</th>\n",
       "      <th>4</th>\n",
       "    </tr>\n",
       "  </thead>\n",
       "  <tbody>\n",
       "    <tr>\n",
       "      <th>0.050</th>\n",
       "      <td>0.27</td>\n",
       "      <td>0.36</td>\n",
       "    </tr>\n",
       "    <tr>\n",
       "      <th>0.075</th>\n",
       "      <td>0.345</td>\n",
       "      <td>0.46</td>\n",
       "    </tr>\n",
       "    <tr>\n",
       "      <th>0.100</th>\n",
       "      <td>0.42</td>\n",
       "      <td>0.56</td>\n",
       "    </tr>\n",
       "    <tr>\n",
       "      <th>0.125</th>\n",
       "      <td>0.495</td>\n",
       "      <td>0.66</td>\n",
       "    </tr>\n",
       "    <tr>\n",
       "      <th>0.150</th>\n",
       "      <td>0.57</td>\n",
       "      <td>0.76</td>\n",
       "    </tr>\n",
       "  </tbody>\n",
       "</table>\n",
       "</div>"
      ],
      "text/plain": [
       "           3     4\n",
       "0.050   0.27  0.36\n",
       "0.075  0.345  0.46\n",
       "0.100   0.42  0.56\n",
       "0.125  0.495  0.66\n",
       "0.150   0.57  0.76"
      ]
     },
     "execution_count": 18,
     "metadata": {},
     "output_type": "execute_result"
    }
   ],
   "source": [
    "# finding 5 combinations for R_nought = 3 and 4 respectively\n",
    "target_values = [3, 4]\n",
    "gamma_picks = [0.05, 0.075, 0.1, 0.125, 0.15]\n",
    "results = pd.DataFrame(index = gamma_picks, columns = target_values)\n",
    "for target in target_values:\n",
    "    for gamma in gamma_picks:\n",
    "        beta_interim = target*(gamma+μ)\n",
    "        results.loc[gamma, target] = beta_interim\n",
    "print(\"the following combinations were yielded (gammas are represented as index with betas within table):\")\n",
    "results "
   ]
  },
  {
   "cell_type": "markdown",
   "metadata": {},
   "source": [
    "calculating deaths for different combinations yielding $R_{0}^{SIRD} = 3$ ..."
   ]
  },
  {
   "cell_type": "code",
   "execution_count": 19,
   "metadata": {},
   "outputs": [
    {
     "name": "stdout",
     "output_type": "stream",
     "text": [
      "cumulative deaths including 365th day: {'Ɣ0.05, β0.27': 0.41958215633497076, 'Ɣ0.075, β0.345': 0.32836864395967474, 'Ɣ0.1, β0.42': 0.2697313861073448, 'Ɣ0.125, β0.495': 0.2288629942708768, 'Ɣ0.15, β0.57': 0.19874944239137482}\n"
     ]
    }
   ],
   "source": [
    "# calculate D cumulatively for combinations resulting in R_nought of 3\n",
    "cumulative_deaths_r03 = {}\n",
    "\n",
    "for i in range(len(results)):\n",
    "    beta_interim = round(results.loc[results.index[i], 3], 3)\n",
    "    gamma_interim = round(results.index[i], 3)\n",
    "    ret = odeint(deriv_sird, y0, t, args=(N, beta_interim, gamma_interim, μ))\n",
    "    S, I, R, D = ret.T\n",
    "    cumulative_deaths_r03[f\"Ɣ{gamma_interim}, β{beta_interim}\"] = D[364]\n",
    "    \n",
    "print(\"cumulative deaths including 365th day:\", cumulative_deaths_r03)"
   ]
  },
  {
   "cell_type": "code",
   "execution_count": null,
   "metadata": {},
   "outputs": [],
   "source": [
    "# print additional info\n",
    "print(f\"\"\"population size: {N}\n",
    "infected at t=0: {I0}\"\"\")\n",
    "\n",
    "# print additional info\n",
    "print(f\"\"\"population size: {N}\n",
    "infected at t=0: {I0}\"\"\")\n",
    "\n",
    "# plot\n",
    "fig = plt.figure(figsize=(10, 6))\n",
    "ax = fig.add_axes([0,0,1,1])\n",
    "ax.bar(cumulative_deaths_r03.keys(),cumulative_deaths_r03.values())\n",
    "avg_r03 = round(np.array(list(cumulative_deaths_r03.values())).mean(),2)\n",
    "plt.axhline(y=avg_r03,linewidth=1, color=\"k\", label = f\"average: {avg_r03}\")\n",
    "plt.legend(bbox_to_anchor=(1, 0.75), loc=1, borderaxespad=0., fontsize = 13)\n",
    "plt.figtext(.5,1,\"Cumulative Deaths for R_nought = 3 across rates of Contact (β) and recovery (Ɣ)\", fontsize=15, ha=\"center\")\n",
    "plt.figtext(.5,.95,f\"with fixed parameters: μ={μ} and R0=3\", fontsize=12, ha='center')\n",
    "plt.xlabel(\"Combinations of Rates of Infection (β) and Recovery (Ɣ)\")\n",
    "plt.ylabel(\"Cumulative Deaths\")\n",
    "for spine in (\"top\", \"right\"): \n",
    "    ax.spines[spine].set_visible(False)\n",
    "plt.show()"
   ]
  },
  {
   "cell_type": "markdown",
   "metadata": {},
   "source": [
    "<div class=\"alert alert-success\"> <b>takeaway</b>:\n",
    "<br/>- there seem to be large differences in cumulative deaths across different compositions of the same $R_{0}$\n",
    "<br/>- the smaller the recovery rate ($\\gamma$) (equivalent to longer recovery durations), the greater the amount of deaths, even though the infection rate ($\\beta$) decreases simultaneously when holding $R_{0} = 3$\n",
    "</div>"
   ]
  },
  {
   "cell_type": "markdown",
   "metadata": {},
   "source": [
    "calculating deaths for different combinations yielding $R_{0} = 4$ ..."
   ]
  },
  {
   "cell_type": "code",
   "execution_count": null,
   "metadata": {},
   "outputs": [],
   "source": [
    "# calculate D cumulatively for combinations resulting in R_nought of 3\n",
    "cumulative_deaths_r04 = {}\n",
    "\n",
    "for i in range(len(results)):\n",
    "    beta_interim = round(results.loc[results.index[i], 4], 3)\n",
    "    gamma_interim = round(results.index[i], 3)\n",
    "    ret = odeint(deriv_sird, y0, t, args=(N, beta_interim, gamma_interim, μ))\n",
    "    S, I, R, D = ret.T\n",
    "    cumulative_deaths_r04[f\"Ɣ{gamma_interim}, β{beta_interim}\"] = D[364]\n",
    "    \n",
    "print(\"cumulative deaths including 365th day:\", cumulative_deaths_r04)"
   ]
  },
  {
   "cell_type": "code",
   "execution_count": null,
   "metadata": {},
   "outputs": [],
   "source": [
    "# print additional info\n",
    "print(f\"\"\"population size: {N}\n",
    "infected at t=0: {I0}\"\"\")\n",
    "\n",
    "# plot\n",
    "fig = plt.figure(figsize=(10, 6))\n",
    "ax = fig.add_axes([0,0,1,1])\n",
    "ax.bar(cumulative_deaths_r04.keys(),cumulative_deaths_r04.values())\n",
    "avg_r04 = round(np.array(list(cumulative_deaths_r04.values())).mean(),2)\n",
    "plt.axhline(y=avg_r04,linewidth=1, color=\"k\", label = f\"average: {avg_r04}\")\n",
    "plt.legend(bbox_to_anchor=(1, 0.75), loc=1, borderaxespad=0., fontsize = 13)\n",
    "plt.figtext(.5,1,\"Cumulative Deaths for R_nought = 4 across rates of contact (β) and recovery (Ɣ)\", fontsize=15, ha=\"center\")\n",
    "plt.figtext(.5,.95,f\"with fixed parameters: β={β} and RO=4\", fontsize=12, ha='center')\n",
    "plt.xlabel(\"Combinations of Rates of Infection (β) and Recovery (Ɣ)\")\n",
    "plt.ylabel(\"Cumulative Deaths\")\n",
    "for spine in (\"top\", \"right\"): \n",
    "    ax.spines[spine].set_visible(False)\n",
    "plt.show()"
   ]
  },
  {
   "cell_type": "markdown",
   "metadata": {},
   "source": [
    "<div class=\"alert alert-success\"> <b>takeaway</b>:\n",
    "<br/>- the previous observations of large differences in cumulative deaths across different compositions of the same $R_{0}$ can be confirmed\n",
    "<br/>- again, the smaller $\\gamma$s result in more deaths with decreasing $\\beta$s unable to counteracting this inverse relation between number of deaths and $\\gamma$\n",
    "<br/>- comparing both ends of the spectrum of $R_{0} \\in [3,4]$ we can see that higher basic production numbers ($R_{0} = 4$) only lead to slightly higher average cumulative death counts (30%) compared to 29% from $R_{0} = 3$, all other things held equal\n",
    "</div>"
   ]
  },
  {
   "cell_type": "markdown",
   "metadata": {},
   "source": [
    "### (b) deep dive into the relationship between $R_{0}$ & $\\mu$ (ceteris paribus)"
   ]
  },
  {
   "cell_type": "markdown",
   "metadata": {},
   "source": [
    "we assume $\\beta$ is 1/10 of $R_{0}$\n",
    "\n",
    "now we can create two arrays for $\\mu \\in [0.4\\%,4\\%]$ and $R_{0} \\in [3,4]$ as columns and indexes of a dataframe, which contains the calculated cumulative deaths at t=365"
   ]
  },
  {
   "cell_type": "code",
   "execution_count": null,
   "metadata": {},
   "outputs": [],
   "source": [
    "# dataframe creation\n",
    "df = pd.DataFrame(index=np.linspace(3, 4, 20), #R_nought\n",
    "                  columns=np.linspace(0.004, 0.04, 20)) #mu\n",
    "\n",
    "# solvinf ODEs\n",
    "for r in df.index:\n",
    "    β = r/10 #Calculate β from R_nought, Assuming \n",
    "    \n",
    "    for μ in df.columns:\n",
    "        Ɣ = β/r - μ #Calculate μ from β & R_nought\n",
    "        \n",
    "        # integrate the SIRD equations over the time grid t\n",
    "        ret = odeint(deriv_sird, y0, t, args=(N, β, Ɣ, μ))\n",
    "        S, I, R, D = ret.T \n",
    "        df.loc[r,[μ]]= D[-1]\n",
    "\n",
    "print(f\"\"\"population size: {N}\n",
    "infected at t=0: {I0}\"\"\")\n",
    "        \n",
    "# plot the data:\n",
    "fig = plt.figure(figsize=(10, 6))\n",
    "plt.plot(df.index, df, color = \"gray\")\n",
    "plt.title(\"Cumulative Deaths for Combinations of \\n μ ∈[0.4%,4%] and R0 ∈ [3.0,4.0]\", fontsize=15, ha='center')\n",
    "plt.xlabel(\"Basic Reproduction Numbers\", fontsize=12, ha='center')\n",
    "plt.ylabel(\"Cumulative Deaths\", fontsize=12, ha='center')\n",
    "props = dict(boxstyle='round', facecolor='wheat', alpha=0.5)\n",
    "plt.text(0.55, 0.12, \"lines represent different μ\\ndescending from top to bottom\", transform=ax.transAxes, fontsize=14, verticalalignment='bottom', bbox=props)\n",
    "plt.show()"
   ]
  },
  {
   "cell_type": "markdown",
   "metadata": {},
   "source": [
    "<div class=\"alert alert-success\"> <b>takeaway</b>:\n",
    "<br/>- from the graph above, we can see: with regard to the prediction of death number at year end, also known as the cumulative number of deaths, $R_{0}$ has little impact as shown in the following graph\n",
    "<br/>- however, the death number is highly determined by the death rate $\\mu$\n",
    "</div>"
   ]
  },
  {
   "cell_type": "markdown",
   "metadata": {},
   "source": [
    "it could also be insightful to take a look into the effect of $\\mu$ on the spread between minimum and maximum deaths (cumulative) other factors held constant ..."
   ]
  },
  {
   "cell_type": "code",
   "execution_count": null,
   "metadata": {},
   "outputs": [],
   "source": [
    "# calculating measures\n",
    "stat = df.astype(float).describe()\n",
    "spread = stat.loc['max'] - stat.loc['min']\n",
    "\n",
    "print(f\"\"\"population size: {N}\n",
    "infected at t=0: {I0}\"\"\")\n",
    "\n",
    "# plot the relationship\n",
    "fig = plt.figure(figsize=(10, 6))\n",
    "plt.plot(stat.columns, spread)\n",
    "plt.title(\"The magnifying effect of μ on cumulative death difference between max and min R0\", fontsize=15, ha='center')\n",
    "plt.xlabel(\"Mortality Rates (μ)\", fontsize=12, ha='center')\n",
    "plt.ylabel(\"Death Difference between max and min R0\", fontsize=12, ha='center')\n",
    "plt.show()"
   ]
  },
  {
   "cell_type": "markdown",
   "metadata": {},
   "source": [
    "<div class=\"alert alert-success\"> <b>takeaway</b>:\n",
    "<br/>- from the graph above, we can see: There is one interesting finding about the interaction of $\\mu$ and $R_{0}$: as $\\mu$ increases, the effect of $R_{0}$, silmulated by max death number associated with highest $R_{0} = 4$ minus min death number associated with low, is increasing as well. Therefore, μ magnifies the impact of $R_{0}$\n",
    "<br/>- the higher the μ value, the larger impact $R_{0}$ can make to the cumulative death\n",
    "</div>"
   ]
  },
  {
   "cell_type": "markdown",
   "metadata": {},
   "source": [
    "### (b) plotting $R_{e}$ over time"
   ]
  },
  {
   "cell_type": "markdown",
   "metadata": {},
   "source": [
    "let's recall that $R_{e}(t) = R_{0}*\\frac{S(t)}{N}$ and see how it behaves over time (all other thingsheld equal)"
   ]
  },
  {
   "cell_type": "code",
   "execution_count": null,
   "metadata": {},
   "outputs": [],
   "source": [
    "# solving ODEs\n",
    "ret = odeint(deriv_sird, y0, t, args=(N, β, Ɣ_sird, μ))\n",
    "S, I, R, D = ret.T\n",
    "\n",
    "print(f\"\"\"population size: {N}\n",
    "infected at t=0: {I0}\"\"\")\n",
    "\n",
    "# plotting effective reproduction rate    \n",
    "fig, ax = plt.subplots(figsize=(10, 6))\n",
    "plt.plot(t, R_nought*S, 'gray', alpha=0.5, lw=2, label=\"eff. reproduction\")\n",
    "plt.ylim(0,1)\n",
    "plt.xlabel(\"Time (Days)\")\n",
    "plt.ylabel(\"Effective Reproduction Number\")\n",
    "plt.figtext(.5,0.9,\"Effective Reproduction Rate\", fontsize=15, ha=\"center\")\n",
    "plt.figtext(.5,.85,f\"with fixed parameters: μ={μ}, β={β}, Ɣ={round(Ɣ_sird, 2)}\", fontsize=12, ha='center')\n",
    "for spine in (\"top\", \"right\"): \n",
    "    ax.spines[spine].set_visible(False)\n",
    "plt.show()"
   ]
  },
  {
   "cell_type": "markdown",
   "metadata": {},
   "source": [
    "<div class=\"alert alert-success\"> <b>takeaway</b>:\n",
    "<br/>- the effective reproduction number $R_{e}$ declines steeply in the beginning and asymptotically moves towards 0.2\n",
    "</div>"
   ]
  },
  {
   "cell_type": "markdown",
   "metadata": {},
   "source": [
    "as a little bonus graph, let's quickly have a look on the effect of $\\mu$ (ceteris paribus) ..."
   ]
  },
  {
   "cell_type": "code",
   "execution_count": null,
   "metadata": {},
   "outputs": [],
   "source": [
    "# function to calculate R_eff\n",
    "def get_R_eff(t, S, N):\n",
    "    R_eff = R_nought*S/N\n",
    "    return R_eff"
   ]
  },
  {
   "cell_type": "code",
   "execution_count": null,
   "metadata": {},
   "outputs": [],
   "source": [
    "mus_5 = np.linspace(0.004, 0.04, 5)\n",
    "R_eff_mus_5 = {}\n",
    "\n",
    "for i in range(len(mus_5)):\n",
    "    mu = round(mus_5[i], 3)\n",
    "    ret = odeint(deriv_sird, y0, t, args=(N, β, Ɣ_sird, mu))\n",
    "    S, I, R, D = ret.T\n",
    "    R_eff_mus_5[f\"mu:{mu}\"] = get_R_eff(t, S, N)\n",
    "\n",
    "print(f\"\"\"population size: {N}\n",
    "infected at t=0: {I0}\"\"\")\n",
    "    \n",
    "fig, ax = plt.subplots(figsize=(10, 6))\n",
    "plt.ylim(0,0.5)\n",
    "for i in R_eff_mus_5.keys():\n",
    "    plt.plot(t, R_eff_mus_5[i])\n",
    "plt.xlabel(\"Time (days)\")\n",
    "plt.ylabel(\"Effective Reproduction Number\")\n",
    "plt.legend(R_eff_mus_5.keys())\n",
    "plt.figtext(.5,0.9,\"Effective Reproduction Number across Mortalities (μ) with R0 = 3\", fontsize=15, ha=\"center\")\n",
    "plt.figtext(.5,.85,f\"with fixed parameters: β={β}, Ɣ={round(Ɣ_sird, 2)}\", fontsize=12, ha='center')\n",
    "for spine in (\"top\", \"right\"): \n",
    "    ax.spines[spine].set_visible(False)\n",
    "plt.show()"
   ]
  },
  {
   "cell_type": "markdown",
   "metadata": {},
   "source": [
    "<div class=\"alert alert-success\"> <b>takeaway</b>:\n",
    "<br/>- $\\mu$ seems to have a positive impact on how high the level of $R_{e}$ will be in equilibrium\n",
    "<br/>- the lower the mortality $\\mu$ for fixed  $R_{0}$s, the higher the level of $R_{eff}(t)$ at all times\n",
    "</div>"
   ]
  },
  {
   "cell_type": "markdown",
   "metadata": {},
   "source": [
    "## part 1 (c)"
   ]
  },
  {
   "cell_type": "markdown",
   "metadata": {},
   "source": [
    "- study numerically the effects of a hard versus soft lockdown (by two for you reasonable values of β), in terms of D(365d)\n",
    "- what about the cumulative number of deaths after a year?\n",
    "- assume $\\mu = 1\\%$ and $\\gamma$ compatible with $R_{0} = 4$"
   ]
  },
  {
   "cell_type": "markdown",
   "metadata": {},
   "source": [
    "we need to set the parameters to the the information, also we set $\\beta = 0.5$"
   ]
  },
  {
   "cell_type": "markdown",
   "metadata": {},
   "source": [
    "note that we use the $\\gamma$ previously used $\\gamma = 0.01$"
   ]
  },
  {
   "cell_type": "code",
   "execution_count": null,
   "metadata": {},
   "outputs": [],
   "source": [
    "# setting parameters\n",
    "μ = 0.01\n",
    "R_nought = 4\n",
    "# calculating β compatible with R_nought = 4\n",
    "β = R_nought * (Ɣ_sird + μ)"
   ]
  },
  {
   "cell_type": "markdown",
   "metadata": {},
   "source": [
    "#### intro lockdowns"
   ]
  },
  {
   "cell_type": "markdown",
   "metadata": {},
   "source": [
    "in the following sections, lockdowns are being introduced which are represented by new $R_{0}$s called $R_{0_{lock}}$ via changed $\\beta$s (think of it as decreasing the contact rate component of $\\beta$)) at the time of the respective lockdown inception\n",
    "\n",
    "soft lockdowns only cause slightly reduced $R_{0_{lock}}$s while hard lockdowns cause sigificantly reduced $R_{0_{lock}}$s comparet to initial $R_{0}$s"
   ]
  },
  {
   "cell_type": "code",
   "execution_count": null,
   "metadata": {},
   "outputs": [],
   "source": [
    "print(f\"recall that the initial basic reproduction nmber is {round(R_nought, 2)}\")"
   ]
  },
  {
   "cell_type": "markdown",
   "metadata": {},
   "source": [
    "first, we need establish a function of $R_{0}$ that changes via $\\beta$ when the lockdown becomes effective ... "
   ]
  },
  {
   "cell_type": "code",
   "execution_count": null,
   "metadata": {},
   "outputs": [],
   "source": [
    "# lockdown function changing the R_nought at a specified date\n",
    "def R_nought_lock_down(t):\n",
    "    if t >= L_day:\n",
    "        new_R_nought = new_R0\n",
    "    else:\n",
    "        new_R_nought = R_nought\n",
    "    return new_R_nought\n",
    "\n",
    "# corresponding function for respective beta\n",
    "def beta_lockdown(t):\n",
    "    # solving R_nouhgt_sird formula for gamma\n",
    "    beta = R_nought_lock_down(t) * (Ɣ_sird + μ)\n",
    "    return beta\n",
    "\n",
    "# set lockdown day\n",
    "L_day = 10"
   ]
  },
  {
   "cell_type": "code",
   "execution_count": null,
   "metadata": {},
   "outputs": [],
   "source": [
    "# integration of ODEs yields S, I, and R\n",
    "ret = odeint(deriv_sird, y0, t, args=(N, β, Ɣ_sird, μ))\n",
    "S, I, R, D = ret.T"
   ]
  },
  {
   "cell_type": "code",
   "execution_count": null,
   "metadata": {},
   "outputs": [],
   "source": [
    "# get the day when S,I,R,D become constant and respective S,I,RD fractions\n",
    "S_bottom, S_bottom_date, I_peak, I_peak_date, R_peak, R_peak_date, D_peak, D_peak_date = get_stable_2(t, S, I, R, D)\n",
    "\n",
    "# get the day when effective reproduction = 1\n",
    "t_1 = 0\n",
    "for time in range(0,len(S)):\n",
    "    if R_nought*S[time] < 1:  \n",
    "        t_1 = time\n",
    "        break"
   ]
  },
  {
   "cell_type": "markdown",
   "metadata": {},
   "source": [
    "no lockdown would look like this ..."
   ]
  },
  {
   "cell_type": "code",
   "execution_count": null,
   "metadata": {},
   "outputs": [],
   "source": [
    "# print additional info\n",
    "print(f\"\"\"population size: {N}\n",
    "infected at t=0: {I0}\n",
    "R0={round(R_nought,2)}\n",
    "R_eff=1 at t={t_1}d\n",
    "susceptible reach bottom on day: {S_bottom_date}\n",
    "susceptible bottom number is: {S_bottom}%\n",
    "infected reach peak on day: {I_peak_date}\n",
    "infected peak is: {I_peak}%\n",
    "recovered reach peak on day: {R_peak_date}\n",
    "recovered peak is: {R_peak}\n",
    "dead reach peak on day: {D_peak_date}\n",
    "dead peak is: {D_peak}%\"\"\")\n",
    "\n",
    "# plotting the data with 4 separate curves for S(t), I(t), R(t) and  D(t)\n",
    "fig, ax = plt.subplots(figsize=(15, 10))\n",
    "ax.plot(t, S/N, \"b\", alpha=0.5, lw=2, label=\"susceptible (S)\")\n",
    "ax.plot(t, I/N, \"r\", alpha=0.5, lw=2, label=\"infected (I)\")\n",
    "ax.plot(t, R/N, \"g\", alpha=0.5, lw=2, label=\"recovered (R)\")\n",
    "ax.plot(t, D/N, \"m\", alpha=0.5, lw=2, label=\"deceased (D)\")\n",
    "ax.plot(t, R_nought*S, 'gray', alpha=0.5, lw=2, label=\"eff. reproduction\")\n",
    "ax.set_xlabel(\"time (days)\")\n",
    "ax.set_ylabel(\"fraction/absolute reproduction value\")\n",
    "ax.set_ylim(0,2)\n",
    "ax.set_xlim(0,100)\n",
    "plt.axhline(y=1,linewidth=1, color=\"k\", label = \"total population\", linestyle=':')\n",
    "ax.vlines(t_1, 0, 1, colors='k', linestyles='dashed')\n",
    "ax.yaxis.set_tick_params(length=0)\n",
    "ax.xaxis.set_tick_params(length=0)\n",
    "ax.grid(b=True, which='major', c='w', lw=2, ls='-')\n",
    "legend = ax.legend()\n",
    "legend.get_frame().set_alpha(0.5)\n",
    "for spine in (\"top\", \"right\", \"bottom\", \"left\"):\n",
    "    ax.spines[spine].set_visible(False)\n",
    "plt.figtext(.5,.9,f\"SIR Compartments & Effective Reproduction Number over Time\", fontsize=18, ha='center')\n",
    "plt.figtext(.5,.85,f\"with fixed parameters: Ɣ={round(Ɣ_sird, 2)}, μ={μ}\", fontsize=12, ha='center')\n",
    "plt.legend(fontsize = 13)\n",
    "plt.show()"
   ]
  },
  {
   "cell_type": "markdown",
   "metadata": {},
   "source": [
    "<div class=\"alert alert-success\"> <b>takeaway</b>:\n",
    "<br/>- as expected we see the typical development across compartments that we've seen throughout the assignment\n",
    "</div>"
   ]
  },
  {
   "cell_type": "markdown",
   "metadata": {},
   "source": [
    "#### soft lockdown "
   ]
  },
  {
   "cell_type": "markdown",
   "metadata": {},
   "source": [
    "soft lockdowns only reduce the new $R_{0_{lock}}$ less than hard lockdowns "
   ]
  },
  {
   "cell_type": "code",
   "execution_count": null,
   "metadata": {},
   "outputs": [],
   "source": [
    "# set new R_nought for when lockdown becomes effective\n",
    "new_R0 = 3"
   ]
  },
  {
   "cell_type": "code",
   "execution_count": null,
   "metadata": {},
   "outputs": [],
   "source": [
    "# ODE system including division by N representing fractional/probabilistic view\n",
    "def sird_ode_lockdown(y, t, N, gamma, mu):\n",
    "    S, I, R, D = y\n",
    "    dSdt = -beta_lockdown(t) * S * I / N\n",
    "    dIdt = beta_lockdown(t) * S * I / N - gamma * I - mu * I\n",
    "    dRdt = gamma * I\n",
    "    dDdt = mu * I\n",
    "    return dSdt, dIdt, dRdt, dDdt"
   ]
  },
  {
   "cell_type": "code",
   "execution_count": null,
   "metadata": {},
   "outputs": [],
   "source": [
    "# integration of ODEs yields S, I, and R\n",
    "ret = odeint(sird_ode_lockdown, y0, t, args=(N, Ɣ_sird, μ))\n",
    "S, I, R, D = ret.T"
   ]
  },
  {
   "cell_type": "code",
   "execution_count": null,
   "metadata": {},
   "outputs": [],
   "source": [
    "# get the day when S,I,R,D become constant and respective S,I,RD fractions\n",
    "S_bottom, S_bottom_date, I_peak, I_peak_date, R_peak, R_peak_date, D_peak, D_peak_date = get_stable_2(t, S, I, R, D)\n",
    "\n",
    "# get the day when effective reproduction = 1\n",
    "t_1 = 0\n",
    "for time in range(0,len(S)):\n",
    "    if R_nought*S[time] < 1:  \n",
    "        t_1 = time\n",
    "        break"
   ]
  },
  {
   "cell_type": "code",
   "execution_count": null,
   "metadata": {},
   "outputs": [],
   "source": [
    "# calculating effective rated pre & post lockdown t_pre = t[:L_day]\n",
    "t_pre = t[:L_day]\n",
    "R_eff_pre = R_nought*S/N\n",
    "R_eff_pre = R_eff_pre[:L_day]\n",
    "t_post = t[L_day:]\n",
    "R_eff_post = new_R0*S/N\n",
    "R_eff_post = R_eff_post[L_day:]"
   ]
  },
  {
   "cell_type": "code",
   "execution_count": null,
   "metadata": {},
   "outputs": [],
   "source": [
    "# print additional info\n",
    "print(f\"\"\"population size: {N}\n",
    "infected at t=0: {I0}\n",
    "R0={round(R_nought,2)}\n",
    "R_eff=1 at t={t_1}d\n",
    "susceptible reach bottom on day: {S_bottom_date}\n",
    "susceptible bottom number is: {S_bottom}%\n",
    "infected reach peak on day: {I_peak_date}\n",
    "infected peak is: {I_peak}%\n",
    "recovered reach peak on day: {R_peak_date}\n",
    "recovered peak is: {R_peak}\n",
    "dead reach peak on day: {D_peak_date}\n",
    "dead peak is: {D_peak}%\"\"\")\n",
    "\n",
    "# plotting the data with 4 separate curves for S(t), I(t), R(t) and  D(t)\n",
    "fig, ax = plt.subplots(figsize=(15, 10))\n",
    "ax.plot(t, S/N, \"b\", alpha=0.5, lw=2, label=\"susceptible (S)\")\n",
    "ax.plot(t, I/N, \"r\", alpha=0.5, lw=2, label=\"infected (I)\")\n",
    "ax.plot(t, R/N, \"g\", alpha=0.5, lw=2, label=\"recovered (R)\")\n",
    "ax.plot(t, D/N, \"m\", alpha=0.5, lw=2, label=\"deceased (D)\")\n",
    "ax.plot(t_pre, R_eff_pre, \"gray\", alpha=0.5, lw=2, label=\"R_effective_pre_lockdown\")\n",
    "ax.plot(t_post, R_eff_post, \"k\", alpha=0.5, lw=2, label=\"R_effective_post_lockdown\")\n",
    "ax.set_xlabel(\"time (days)\")\n",
    "ax.set_ylabel(\"fraction/absolute reproduction value\")\n",
    "ax.set_ylim(0,2)\n",
    "ax.set_xlim(0,100)\n",
    "plt.axhline(y=1,linewidth=1, color=\"k\", label = \"total population\", linestyle=':')\n",
    "ax.vlines(L_day, 0,10, colors='k', linestyles=':', label=\"lockdown commencement\")\n",
    "ax.vlines(L_day-1, 0,10, colors='k', linestyles=':')\n",
    "ax.yaxis.set_tick_params(length=0)\n",
    "ax.xaxis.set_tick_params(length=0)\n",
    "ax.grid(b=True, which='major', c='w', lw=2, ls='-')\n",
    "legend = ax.legend()\n",
    "legend.get_frame().set_alpha(0.5)\n",
    "for spine in (\"top\", \"right\", \"bottom\", \"left\"):\n",
    "    ax.spines[spine].set_visible(False)\n",
    "plt.figtext(.5,.9,\"Soft Lockdown: Population Composition along SIRD Compartments & Reproduction Number over Time\", fontsize=18, ha='center')\n",
    "plt.figtext(.5,.85,f\"with fixed parameters: Ɣ={round(Ɣ_sird, 2)}, μ={μ}\", fontsize=12, ha='center')\n",
    "plt.legend(fontsize = 13)\n",
    "plt.show()"
   ]
  },
  {
   "cell_type": "markdown",
   "metadata": {},
   "source": [
    "<div class=\"alert alert-success\"> <b>takeaway</b>:\n",
    "<br/>- we can see that the slope of the infected curve decreases accompanied by a flattening of this curve when the lockdown becomes active\n",
    "<br/>- in comparison to no lockdown the cumulative death count at the model's equilibrium slightly decreases from 8.9% to 8.7%\n",
    "<br/>- the change in individuals that never had the virus is more sigificant with a change from 1.88% to 4.3% of the population \n",
    "</div>"
   ]
  },
  {
   "cell_type": "markdown",
   "metadata": {},
   "source": [
    "#### proactive soft lockdown at t = 0"
   ]
  },
  {
   "cell_type": "markdown",
   "metadata": {},
   "source": [
    "imagine a region that proactively starts a soft lockdown at t = 0"
   ]
  },
  {
   "cell_type": "code",
   "execution_count": null,
   "metadata": {},
   "outputs": [],
   "source": [
    "# ODE system including division by N representing fractional/probabilistic view\n",
    "def sird_ode_lockdown_pro(y, t, N, gamma, mu):\n",
    "    S, I, R, D = y\n",
    "    dSdt = -beta_lockdown_pro(t) * S * I / N\n",
    "    dIdt = beta_lockdown_pro(t) * S * I / N - gamma * I - mu * I\n",
    "    dRdt = gamma * I\n",
    "    dDdt = mu * I\n",
    "    return dSdt, dIdt, dRdt, dDdt"
   ]
  },
  {
   "cell_type": "code",
   "execution_count": null,
   "metadata": {},
   "outputs": [],
   "source": [
    "# lockdown function changing the R_nought at a specified date\n",
    "def R_nought_lock_down_pro(t):\n",
    "    if t >= L_day_pro:\n",
    "        new_R_nought = new_R0\n",
    "    else:\n",
    "        new_R_nought = R_nought\n",
    "    return new_R_nought\n",
    "\n",
    "# corresponding function for respective beta\n",
    "def beta_lockdown_pro(t):\n",
    "    # solving R_nouhgt_sird formula for gamma\n",
    "    beta = R_nought_lock_down_pro(t) * (Ɣ_sird + μ)\n",
    "    return beta\n",
    "\n",
    "# set lockdown day\n",
    "L_day_pro = 0"
   ]
  },
  {
   "cell_type": "code",
   "execution_count": null,
   "metadata": {},
   "outputs": [],
   "source": [
    "# integration of ODEs yields S, I, and R\n",
    "ret = odeint(sird_ode_lockdown_pro, y0, t, args=(N, Ɣ_sird, μ))\n",
    "S, I, R, D = ret.T"
   ]
  },
  {
   "cell_type": "code",
   "execution_count": null,
   "metadata": {},
   "outputs": [],
   "source": [
    "# get the day when S,I,R,D become constant and respective S,I,RD fractions\n",
    "S_bottom, S_bottom_date, I_peak, I_peak_date, R_peak, R_peak_date, D_peak, D_peak_date = get_stable_2(t, S, I, R, D)\n",
    "\n",
    "# get the day when effective reproduction = 1\n",
    "t_1 = 0\n",
    "for time in range(0,len(S)):\n",
    "    if R_nought*S[time] < 1:  \n",
    "        t_1 = time\n",
    "        break"
   ]
  },
  {
   "cell_type": "code",
   "execution_count": null,
   "metadata": {},
   "outputs": [],
   "source": [
    "# calculating effective rated pre & post lockdown t_pre = t[:L_day_pro]\n",
    "t_pre = t[:L_day_pro]\n",
    "R_eff_pre = R_nought*S/N\n",
    "R_eff_pre = R_eff_pre[:L_day_pro]\n",
    "t_post = t[L_day_pro:]\n",
    "R_eff_post = new_R0*S/N\n",
    "R_eff_post = R_eff_post[L_day_pro:]"
   ]
  },
  {
   "cell_type": "code",
   "execution_count": null,
   "metadata": {},
   "outputs": [],
   "source": [
    "# print additional info\n",
    "print(f\"\"\"population size: {N}\n",
    "infected at t=0: {I0}\n",
    "R0={round(R_nought,2)}\n",
    "R_eff=1 at t={t_1}d\n",
    "susceptible reach bottom on day: {S_bottom_date}\n",
    "susceptible bottom number is: {S_bottom}%\n",
    "infected reach peak on day: {I_peak_date}\n",
    "infected peak is: {I_peak}%\n",
    "recovered reach peak on day: {R_peak_date}\n",
    "recovered peak is: {R_peak}\n",
    "dead reach peak on day: {D_peak_date}\n",
    "dead peak is: {D_peak}%\"\"\")\n",
    "\n",
    "# plotting the data with 4 separate curves for S(t), I(t), R(t) and  D(t)\n",
    "fig, ax = plt.subplots(figsize=(15, 10))\n",
    "ax.plot(t, S/N, \"b\", alpha=0.5, lw=2, label=\"susceptible (S)\")\n",
    "ax.plot(t, I/N, \"r\", alpha=0.5, lw=2, label=\"infected (I)\")\n",
    "ax.plot(t, R/N, \"g\", alpha=0.5, lw=2, label=\"recovered (R)\")\n",
    "ax.plot(t, D/N, \"m\", alpha=0.5, lw=2, label=\"deceased (D)\")\n",
    "ax.plot(t_pre, R_eff_pre, \"gray\", alpha=0.5, lw=2, label=\"R_effective_pre_lockdown\")\n",
    "ax.plot(t_post, R_eff_post, \"k\", alpha=0.5, lw=2, label=\"R_effective_post_lockdown\")\n",
    "ax.set_xlabel(\"time (days)\")\n",
    "ax.set_ylabel(\"fraction/absolute reproduction value\")\n",
    "ax.set_ylim(0,2)\n",
    "ax.set_xlim(0,100)\n",
    "plt.axhline(y=1,linewidth=1, color=\"k\", label = \"total population\", linestyle=':')\n",
    "ax.vlines(L_day_pro, 0,10, colors='k', linestyles=':', label=\"lockdown commencement\")\n",
    "ax.vlines(L_day_pro-1, 0,10, colors='k', linestyles=':')\n",
    "ax.yaxis.set_tick_params(length=0)\n",
    "ax.xaxis.set_tick_params(length=0)\n",
    "ax.grid(b=True, which='major', c='w', lw=2, ls='-')\n",
    "legend = ax.legend()\n",
    "legend.get_frame().set_alpha(0.5)\n",
    "for spine in (\"top\", \"right\", \"bottom\", \"left\"):\n",
    "    ax.spines[spine].set_visible(False)\n",
    "plt.figtext(.5,.9,\"Proactive Soft Lockdown: Population Composition along SIRD Compartments & Reproduction Number over Time\", fontsize=18, ha='center')\n",
    "plt.figtext(.5,.85,f\"with fixed parameters: Ɣ={round(Ɣ_sird, 2)}, μ={μ}\", fontsize=12, ha='center')\n",
    "plt.legend(fontsize = 13)\n",
    "plt.show()"
   ]
  },
  {
   "cell_type": "markdown",
   "metadata": {},
   "source": [
    "<div class=\"alert alert-success\"> <b>takeaway</b>:\n",
    "<br/>- in spite of a lockdown from t=0, we can clearly see a typical infection curve\n",
    "<br/>- in comparison to the soft lockdown the cumulative death count at the model's equilibrium slightly decreases from 8.7% to 8.6%\n",
    "<br/>- the change in individuals that never had the virus is more sigificant but still small with a change from 4.3% to 5.6% of the population \n",
    "</div>"
   ]
  },
  {
   "cell_type": "markdown",
   "metadata": {},
   "source": [
    "#### hard lockdown "
   ]
  },
  {
   "cell_type": "code",
   "execution_count": null,
   "metadata": {},
   "outputs": [],
   "source": [
    "# set new R_noughtfor when lockdown becomes effective\n",
    "new_R0 = 0.4"
   ]
  },
  {
   "cell_type": "code",
   "execution_count": null,
   "metadata": {},
   "outputs": [],
   "source": [
    "# integration of ODEs yields S, I, and R\n",
    "ret = odeint(sird_ode_lockdown, y0, t, args=(N, Ɣ_sird, μ))\n",
    "S, I, R, D = ret.T"
   ]
  },
  {
   "cell_type": "code",
   "execution_count": null,
   "metadata": {},
   "outputs": [],
   "source": [
    "# get the day when S,I,R,D become constant and respective S,I,RD fractions\n",
    "S_bottom, S_bottom_date, I_peak, I_peak_date, R_peak, R_peak_date, D_peak, D_peak_date = get_stable_2(t, S, I, R, D)\n",
    "\n",
    "# get the day when effective reproduction = 1\n",
    "t_1 = 0\n",
    "for time in range(0,len(S)):\n",
    "    if R_nought*S[time] < 1:  \n",
    "        t_1 = time\n",
    "        break"
   ]
  },
  {
   "cell_type": "code",
   "execution_count": null,
   "metadata": {},
   "outputs": [],
   "source": [
    "# calculating effective rated pre & post lockdown t_pre = t[:L_day]\n",
    "t_pre = t[:L_day]\n",
    "R_eff_pre = R_nought*S/N\n",
    "R_eff_pre = R_eff_pre[:L_day]\n",
    "t_post = t[L_day:]\n",
    "R_eff_post = new_R0*S/N\n",
    "R_eff_post = R_eff_post[L_day:]"
   ]
  },
  {
   "cell_type": "code",
   "execution_count": null,
   "metadata": {},
   "outputs": [],
   "source": [
    "# print additional info\n",
    "print(f\"\"\"population size: {N}\n",
    "infected at t=0: {I0}\n",
    "R0={round(R_nought,2)}\n",
    "R_eff=1 at t={t_1}d\n",
    "susceptible reach bottom on day: {S_bottom_date}\n",
    "susceptible bottom number is: {S_bottom}%\n",
    "infected reach peak on day: {I_peak_date}\n",
    "infected peak is: {I_peak}%\n",
    "recovered reach peak on day: {R_peak_date}\n",
    "recovered peak is: {R_peak}\n",
    "dead reach peak on day: {D_peak_date}\n",
    "dead peak is: {D_peak}%\"\"\")\n",
    "\n",
    "# plotting the data with 4 separate curves for S(t), I(t), R(t) and  D(t)\n",
    "fig, ax = plt.subplots(figsize=(15, 10))\n",
    "ax.plot(t, S/N, \"b\", alpha=0.5, lw=2, label=\"susceptible (S)\")\n",
    "ax.plot(t, I/N, \"r\", alpha=0.5, lw=2, label=\"infected (I)\")\n",
    "ax.plot(t, R/N, \"g\", alpha=0.5, lw=2, label=\"recovered (R)\")\n",
    "ax.plot(t, D/N, \"m\", alpha=0.5, lw=2, label=\"deceased (D)\")\n",
    "ax.plot(t_pre, R_eff_pre, \"gray\", alpha=0.5, lw=2, label=\"R_effective_pre_lockdown\")\n",
    "ax.plot(t_post, R_eff_post, \"k\", alpha=0.5, lw=2, label=\"R_effective_post_lockdown\")\n",
    "ax.set_xlabel(\"time (days)\")\n",
    "ax.set_ylabel(\"fraction/absolute reproduction value\")\n",
    "ax.set_ylim(0,2)\n",
    "ax.set_xlim(0,100)\n",
    "plt.axhline(y=1,linewidth=1, color=\"k\", label = \"total population\", linestyle=':')\n",
    "ax.vlines(L_day, 0,10, colors='k', linestyles=':', label=\"lockdown commencement\")\n",
    "ax.vlines(L_day-1, 0,10, colors='k', linestyles=':')\n",
    "ax.yaxis.set_tick_params(length=0)\n",
    "ax.xaxis.set_tick_params(length=0)\n",
    "ax.grid(b=True, which='major', c='w', lw=2, ls='-')\n",
    "legend = ax.legend()\n",
    "legend.get_frame().set_alpha(0.5)\n",
    "for spine in (\"top\", \"right\", \"bottom\", \"left\"):\n",
    "    ax.spines[spine].set_visible(False)\n",
    "plt.figtext(.5,.9,\"Hard Lockdown: Population composition along SIRD Compartments & Reproduction Number over Time\", fontsize=18, ha='center')\n",
    "plt.figtext(.5,.85,f\"with fixed parameters: Ɣ={round(Ɣ_sird, 2)}, μ={μ}\", fontsize=12, ha='center')\n",
    "plt.legend(fontsize = 13)\n",
    "plt.show()"
   ]
  },
  {
   "cell_type": "markdown",
   "metadata": {},
   "source": [
    "<div class=\"alert alert-success\"> <b>takeaway</b>:\n",
    "<br/>- when the lockdown becomes active the infection trends gets immediately reversed\n",
    "<br/>- in comparison to the soft lockdown the cumulative death count at the model's equilibrium decreases sigificantly from 8.7% to 6.2%\n",
    "<br/>- the change in individuals that never had the virus is huge bchange from 4.3% to 32.2% of the population \n",
    "</div>"
   ]
  }
 ],
 "metadata": {
  "kernelspec": {
   "display_name": "Python 3",
   "language": "python",
   "name": "python3"
  },
  "language_info": {
   "codemirror_mode": {
    "name": "ipython",
    "version": 3
   },
   "file_extension": ".py",
   "mimetype": "text/x-python",
   "name": "python",
   "nbconvert_exporter": "python",
   "pygments_lexer": "ipython3",
   "version": "3.8.5"
  }
 },
 "nbformat": 4,
 "nbformat_minor": 4
}
