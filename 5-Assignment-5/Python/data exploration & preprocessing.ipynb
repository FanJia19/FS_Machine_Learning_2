{
 "cells": [
  {
   "cell_type": "code",
   "execution_count": 2,
   "metadata": {},
   "outputs": [],
   "source": [
    "# imports\n",
    "import pandas as pd\n",
    "import matplotlib.pyplot as plt\n",
    "import numpy as np\n",
    "from sklearn.preprocessing import StandardScaler, MinMaxScaler"
   ]
  },
  {
   "cell_type": "markdown",
   "metadata": {},
   "source": [
    "# data"
   ]
  },
  {
   "cell_type": "code",
   "execution_count": 4,
   "metadata": {},
   "outputs": [],
   "source": [
    "# load raw data\n",
    "df = pd.read_csv(\"../Source/SpotifyFeatures.csv\")"
   ]
  },
  {
   "cell_type": "markdown",
   "metadata": {},
   "source": [
    "## data set"
   ]
  },
  {
   "cell_type": "markdown",
   "metadata": {},
   "source": [
    "for the following analyses we use data on ~233k Spotify songs from [Zaheen Hamidani](https://www.kaggle.com/zaheenhamidani/ultimate-spotify-tracks-db)\n",
    "\n",
    "it comprises the following information for each song:\n",
    "- **genre**: genre of the track; in total there are 26 genres\n",
    "- **artist name**: name of the artist\n",
    "- **track name**: name of the track\n",
    "- **track id**: Spotify ID for the track\t\n",
    "- **popularity**: measure between 0 and 100, with 100 being the most popular track; the popularity is calculated by an algorithm and is based, in the most part, on the total number of plays the track has had and how recent those plays are\n",
    "- **acousticness**: confidence measure from 0 to 1 of whether the track is acoustic; 1 represents high confidence of the track being acoustic\n",
    "- **danceability**: danceability describes how suitable a track is for dancing based on a combination of musical elements including tempo, rhythm stability, beat strength, and overall regularity; a value of 0 is least danceable and 1 is most danceable\n",
    "- **duration**: duration of the track in milliseconds\n",
    "- **energy**: measure from 0 to 1 representing a perceptual measure of intensity and activity; typically, energetic tracks feel fast, loud, and noisy; for example, death metal has high energy, while a Bach prelude scores low on the scale; perceptual features contributing to this attribute include dynamic range, perceived loudness, timbre, onset rate, and general entropy          \n",
    "- **instrumentalness**: measure from 0 to 1 representing the absence of vocal elements; “ooh” and “aah” sounds are treated as instrumental in this context; rap or spoken word tracks are clearly “vocal”; the closer the instrumentalness value is to 1, the greater likelihood the track contains no vocal content; values above 0.5 are intended to represent instrumental tracks, but confidence is higher as the value approaches 1\n",
    "- **key**: key the track is in; integers map to pitches using standard pitch class notation, e.g., 0 = C, 1 = C♯/D♭, 2 = D, and so on            \n",
    "- **liveness**: detects the presence of an audience in the recording; higher liveness values represent an increased probability that the track was performed live; a value above 0.8 provides strong likelihood that the track is live        \n",
    "- **loudness**: the overall loudness of a track in decibels (dB); loudness values are averaged across the entire track and are useful for comparing relative loudness of tracks; Loudness is the quality of a sound that is the primary psychological correlate of physical strength (amplitude); values typical range between -60 and 0 db          \n",
    "- **mode**: indicates the modality (major or minor) of a track\n",
    "- **speechiness**: detects the presence of spoken words in a track; the more exclusively speech-like the recording (e.g., talk show, audio book, poetry), the closer to 1.0 the attribute value; values above 0.66 describe tracks that are probably made entirely of spoken words; values between 0.33 and 0.66 describe tracks that may contain both music and speech, either in sections or layered, including such cases as rap music; values below 0.33 most likely represent music and other non-speech-like tracks       \n",
    "- **tempo**: overall estimated tempo of a track in beats per minute (BPM); in musical terminology, tempo is the speed or pace of a given piece and derives directly from the average beat duration          \n",
    "- **time signature: estimated overall time signature of a track; the time signature (meter) is a notational convention to specify how many beats are in each bar (or measure)   \n",
    "- **valence**: measure from 0 to 1 describing the musical positiveness; tracks with high valence sound more positive (e.g., happy, cheerful, euphoric), while tracks with low valence sound more negative (e.g., sad, depressed, angry)."
   ]
  },
  {
   "cell_type": "markdown",
   "metadata": {},
   "source": [
    "note that the underlying data set is labeled (see genre feature)\n",
    "\n",
    "in order to enable full unsupervised learning and semi-supervised learning we will have two different version of the data (labeled and unlabeled after having carried out the preprocessing steps the labels of interest are represented by the genre column\n",
    "\n",
    "the labeled data might be helpful in intuitively evaluating the methods that will be used"
   ]
  },
  {
   "cell_type": "code",
   "execution_count": 5,
   "metadata": {},
   "outputs": [
    {
     "output_type": "stream",
     "name": "stdout",
     "text": [
      "<class 'pandas.core.frame.DataFrame'>\nRangeIndex: 232725 entries, 0 to 232724\nData columns (total 18 columns):\n #   Column            Non-Null Count   Dtype  \n---  ------            --------------   -----  \n 0   genre             232725 non-null  object \n 1   artist_name       232725 non-null  object \n 2   track_name        232725 non-null  object \n 3   track_id          232725 non-null  object \n 4   popularity        232725 non-null  int64  \n 5   acousticness      232725 non-null  float64\n 6   danceability      232725 non-null  float64\n 7   duration_ms       232725 non-null  int64  \n 8   energy            232725 non-null  float64\n 9   instrumentalness  232725 non-null  float64\n 10  key               232725 non-null  object \n 11  liveness          232725 non-null  float64\n 12  loudness          232725 non-null  float64\n 13  mode              232725 non-null  object \n 14  speechiness       232725 non-null  float64\n 15  tempo             232725 non-null  float64\n 16  time_signature    232725 non-null  object \n 17  valence           232725 non-null  float64\ndtypes: float64(9), int64(2), object(7)\nmemory usage: 32.0+ MB\n"
     ]
    }
   ],
   "source": [
    "# print data info\n",
    "df.info()"
   ]
  },
  {
   "cell_type": "code",
   "execution_count": 6,
   "metadata": {},
   "outputs": [
    {
     "output_type": "execute_result",
     "data": {
      "text/plain": [
       "   genre        artist_name                        track_name  \\\n",
       "0  Movie     Henri Salvador       C'est beau de faire un Show   \n",
       "1  Movie  Martin & les fées  Perdu d'avance (par Gad Elmaleh)   \n",
       "2  Movie    Joseph Williams    Don't Let Me Be Lonely Tonight   \n",
       "3  Movie     Henri Salvador    Dis-moi Monsieur Gordon Cooper   \n",
       "4  Movie       Fabien Nataf                         Ouverture   \n",
       "\n",
       "                 track_id  popularity  acousticness  danceability  \\\n",
       "0  0BRjO6ga9RKCKjfDqeFgWV           0         0.611         0.389   \n",
       "1  0BjC1NfoEOOusryehmNudP           1         0.246         0.590   \n",
       "2  0CoSDzoNIKCRs124s9uTVy           3         0.952         0.663   \n",
       "3  0Gc6TVm52BwZD07Ki6tIvf           0         0.703         0.240   \n",
       "4  0IuslXpMROHdEPvSl1fTQK           4         0.950         0.331   \n",
       "\n",
       "   duration_ms  energy  instrumentalness key  liveness  loudness   mode  \\\n",
       "0        99373   0.910             0.000  C#    0.3460    -1.828  Major   \n",
       "1       137373   0.737             0.000  F#    0.1510    -5.559  Minor   \n",
       "2       170267   0.131             0.000   C    0.1030   -13.879  Minor   \n",
       "3       152427   0.326             0.000  C#    0.0985   -12.178  Major   \n",
       "4        82625   0.225             0.123   F    0.2020   -21.150  Major   \n",
       "\n",
       "   speechiness    tempo time_signature  valence  \n",
       "0       0.0525  166.969            4/4    0.814  \n",
       "1       0.0868  174.003            4/4    0.816  \n",
       "2       0.0362   99.488            5/4    0.368  \n",
       "3       0.0395  171.758            4/4    0.227  \n",
       "4       0.0456  140.576            4/4    0.390  "
      ],
      "text/html": "<div>\n<style scoped>\n    .dataframe tbody tr th:only-of-type {\n        vertical-align: middle;\n    }\n\n    .dataframe tbody tr th {\n        vertical-align: top;\n    }\n\n    .dataframe thead th {\n        text-align: right;\n    }\n</style>\n<table border=\"1\" class=\"dataframe\">\n  <thead>\n    <tr style=\"text-align: right;\">\n      <th></th>\n      <th>genre</th>\n      <th>artist_name</th>\n      <th>track_name</th>\n      <th>track_id</th>\n      <th>popularity</th>\n      <th>acousticness</th>\n      <th>danceability</th>\n      <th>duration_ms</th>\n      <th>energy</th>\n      <th>instrumentalness</th>\n      <th>key</th>\n      <th>liveness</th>\n      <th>loudness</th>\n      <th>mode</th>\n      <th>speechiness</th>\n      <th>tempo</th>\n      <th>time_signature</th>\n      <th>valence</th>\n    </tr>\n  </thead>\n  <tbody>\n    <tr>\n      <th>0</th>\n      <td>Movie</td>\n      <td>Henri Salvador</td>\n      <td>C'est beau de faire un Show</td>\n      <td>0BRjO6ga9RKCKjfDqeFgWV</td>\n      <td>0</td>\n      <td>0.611</td>\n      <td>0.389</td>\n      <td>99373</td>\n      <td>0.910</td>\n      <td>0.000</td>\n      <td>C#</td>\n      <td>0.3460</td>\n      <td>-1.828</td>\n      <td>Major</td>\n      <td>0.0525</td>\n      <td>166.969</td>\n      <td>4/4</td>\n      <td>0.814</td>\n    </tr>\n    <tr>\n      <th>1</th>\n      <td>Movie</td>\n      <td>Martin &amp; les fées</td>\n      <td>Perdu d'avance (par Gad Elmaleh)</td>\n      <td>0BjC1NfoEOOusryehmNudP</td>\n      <td>1</td>\n      <td>0.246</td>\n      <td>0.590</td>\n      <td>137373</td>\n      <td>0.737</td>\n      <td>0.000</td>\n      <td>F#</td>\n      <td>0.1510</td>\n      <td>-5.559</td>\n      <td>Minor</td>\n      <td>0.0868</td>\n      <td>174.003</td>\n      <td>4/4</td>\n      <td>0.816</td>\n    </tr>\n    <tr>\n      <th>2</th>\n      <td>Movie</td>\n      <td>Joseph Williams</td>\n      <td>Don't Let Me Be Lonely Tonight</td>\n      <td>0CoSDzoNIKCRs124s9uTVy</td>\n      <td>3</td>\n      <td>0.952</td>\n      <td>0.663</td>\n      <td>170267</td>\n      <td>0.131</td>\n      <td>0.000</td>\n      <td>C</td>\n      <td>0.1030</td>\n      <td>-13.879</td>\n      <td>Minor</td>\n      <td>0.0362</td>\n      <td>99.488</td>\n      <td>5/4</td>\n      <td>0.368</td>\n    </tr>\n    <tr>\n      <th>3</th>\n      <td>Movie</td>\n      <td>Henri Salvador</td>\n      <td>Dis-moi Monsieur Gordon Cooper</td>\n      <td>0Gc6TVm52BwZD07Ki6tIvf</td>\n      <td>0</td>\n      <td>0.703</td>\n      <td>0.240</td>\n      <td>152427</td>\n      <td>0.326</td>\n      <td>0.000</td>\n      <td>C#</td>\n      <td>0.0985</td>\n      <td>-12.178</td>\n      <td>Major</td>\n      <td>0.0395</td>\n      <td>171.758</td>\n      <td>4/4</td>\n      <td>0.227</td>\n    </tr>\n    <tr>\n      <th>4</th>\n      <td>Movie</td>\n      <td>Fabien Nataf</td>\n      <td>Ouverture</td>\n      <td>0IuslXpMROHdEPvSl1fTQK</td>\n      <td>4</td>\n      <td>0.950</td>\n      <td>0.331</td>\n      <td>82625</td>\n      <td>0.225</td>\n      <td>0.123</td>\n      <td>F</td>\n      <td>0.2020</td>\n      <td>-21.150</td>\n      <td>Major</td>\n      <td>0.0456</td>\n      <td>140.576</td>\n      <td>4/4</td>\n      <td>0.390</td>\n    </tr>\n  </tbody>\n</table>\n</div>"
     },
     "metadata": {},
     "execution_count": 6
    }
   ],
   "source": [
    "# display first rows\n",
    "df.head()"
   ]
  },
  {
   "cell_type": "markdown",
   "metadata": {},
   "source": [
    "## data preprocessing"
   ]
  },
  {
   "cell_type": "markdown",
   "metadata": {},
   "source": [
    "### checking for data impurities"
   ]
  },
  {
   "cell_type": "markdown",
   "metadata": {},
   "source": [
    "let's have a look at the features and their unique values ..."
   ]
  },
  {
   "cell_type": "code",
   "execution_count": 7,
   "metadata": {},
   "outputs": [
    {
     "output_type": "stream",
     "name": "stdout",
     "text": [
      "feature: genre\n",
      "['Movie' 'R&B' 'A Capella' 'Alternative' 'Country' 'Dance' 'Electronic'\n",
      " 'Anime' 'Folk' 'Blues' 'Opera' 'Hip-Hop' \"Children's Music\"\n",
      " 'Children’s Music' 'Rap' 'Indie' 'Classical' 'Pop' 'Reggae' 'Reggaeton'\n",
      " 'Jazz' 'Rock' 'Ska' 'Comedy' 'Soul' 'Soundtrack' 'World']\n",
      "unique values: 27\n",
      "\n",
      "\n",
      "feature: artist_name\n",
      "['Henri Salvador' 'Martin & les fées' 'Joseph Williams' ... 'Dharmasoul'\n",
      " 'Swim' 'Jr Thomas & The Volcanos']\n",
      "unique values: 14564\n",
      "\n",
      "\n",
      "feature: track_name\n",
      "[\"C'est beau de faire un Show\" \"Perdu d'avance (par Gad Elmaleh)\"\n",
      " \"Don't Let Me Be Lonely Tonight\" ... 'P.O.P.' 'Burning Fire'\n",
      " \"You Don't Have To Hurt No More\"]\n",
      "unique values: 148615\n",
      "\n",
      "\n",
      "feature: track_id\n",
      "['0BRjO6ga9RKCKjfDqeFgWV' '0BjC1NfoEOOusryehmNudP'\n",
      " '0CoSDzoNIKCRs124s9uTVy' ... '2iZf3EUedz9MPqbAvXdpdA'\n",
      " '1qWZdkBl4UVPj9lK6HuuFM' '34XO9RwPMKjbvRry54QzWn']\n",
      "unique values: 176774\n",
      "\n",
      "\n",
      "feature: popularity\n",
      "[  0   1   3   4   2  15  10   8   5   6   7  11  65  63  62  61  68  64\n",
      "  66  60  69  71  76  67  70  72  57  59  56  28  31  74  55  53   9  13\n",
      "  23  12  44  33  25  26  24  22  20  19  18  16  17  14  83  81  73  78\n",
      "  77  75  45  42  46  54  41  52  58  51  43  47  48  40  50  49  39  80\n",
      "  37  35  21  38  36  29  34  32  99 100  97  92  91  95  90  93  88  87\n",
      "  89  96  86  85  84  94  82  79  27  30  98]\n",
      "unique values: 101\n",
      "\n",
      "\n",
      "feature: acousticness\n",
      "[6.11e-01 2.46e-01 9.52e-01 ... 4.02e-05 9.25e-05 6.93e-06]\n",
      "unique values: 4734\n",
      "\n",
      "\n",
      "feature: danceability\n",
      "[0.389  0.59   0.663  ... 0.0584 0.0577 0.057 ]\n",
      "unique values: 1295\n",
      "\n",
      "\n",
      "feature: duration_ms\n",
      "[ 99373 137373 170267 ... 275671 279510 282447]\n",
      "unique values: 70749\n",
      "\n",
      "\n",
      "feature: energy\n",
      "[0.91    0.737   0.131   ... 0.00701 0.00156 0.00633]\n",
      "unique values: 2517\n",
      "\n",
      "\n",
      "feature: instrumentalness\n",
      "[0.      0.123   0.00086 ... 0.00667 0.0646  0.00699]\n",
      "unique values: 5400\n",
      "\n",
      "\n",
      "feature: key\n",
      "['C#' 'F#' 'C' 'F' 'G' 'E' 'D#' 'G#' 'D' 'A#' 'A' 'B']\n",
      "unique values: 12\n",
      "\n",
      "\n",
      "feature: liveness\n",
      "[0.346  0.151  0.103  ... 0.02   0.0143 0.0189]\n",
      "unique values: 1732\n",
      "\n",
      "\n",
      "feature: loudness\n",
      "[ -1.828  -5.559 -13.879 ... -16.444 -14.11  -18.792]\n",
      "unique values: 27923\n",
      "\n",
      "\n",
      "feature: mode\n",
      "['Major' 'Minor']\n",
      "unique values: 2\n",
      "\n",
      "\n",
      "feature: speechiness\n",
      "[0.0525 0.0868 0.0362 ... 0.618  0.607  0.687 ]\n",
      "unique values: 1641\n",
      "\n",
      "\n",
      "feature: tempo\n",
      "[166.969 174.003  99.488 ... 113.112 172.968 175.666]\n",
      "unique values: 78512\n",
      "\n",
      "\n",
      "feature: time_signature\n",
      "['4/4' '5/4' '3/4' '1/4' '0/4']\n",
      "unique values: 5\n",
      "\n",
      "\n",
      "feature: valence\n",
      "[0.814  0.816  0.368  ... 0.018  0.0209 0.0248]\n",
      "unique values: 1692\n",
      "\n",
      "\n"
     ]
    }
   ],
   "source": [
    "for i in list(df.columns):\n",
    "    print(f\"feature: {i}\")\n",
    "    print(df[i].unique())\n",
    "    print(f\"unique values: {len(df[i].unique())}\")\n",
    "    print(\"\\n\")"
   ]
  },
  {
   "cell_type": "markdown",
   "metadata": {},
   "source": [
    "we can make a couple of surprising observations:\n",
    "- a) there are 27 unique values for the genre, but we know from the data description it should be 26\n",
    "- b) there are only ~177k unique track IDs, so 1 row (of 233k rows in total) does not neccesarily represent 1 unique song"
   ]
  },
  {
   "cell_type": "markdown",
   "metadata": {},
   "source": [
    "a) if we look at the genre values again, we see that there are 2 distinctive values for \"Children's Music\" and \"Children’s Music\" only varying in the choice of the apostrophe, so we can easily fix this issue by harmonizing the use of one of those apostrophes ..."
   ]
  },
  {
   "cell_type": "code",
   "execution_count": 8,
   "metadata": {},
   "outputs": [],
   "source": [
    "# harmonizing all variations of the children's music genre\n",
    "df[\"genre\"] = np.where((df.genre == \"Children’s Music\"),\"Children's Music\", df.genre)"
   ]
  },
  {
   "cell_type": "markdown",
   "metadata": {},
   "source": [
    "b) having less unique track IDs than rows means that some tracks are not unique in the data"
   ]
  },
  {
   "cell_type": "code",
   "execution_count": 9,
   "metadata": {},
   "outputs": [
    {
     "output_type": "execute_result",
     "data": {
      "text/plain": [
       "                   genre artist_name  track_name                track_id  \\\n",
       "257                  R&B    Doja Cat  Go To Town  6iOvnACn4ChlAw4lWUU4dd   \n",
       "1348         Alternative    Doja Cat  Go To Town  6iOvnACn4ChlAw4lWUU4dd   \n",
       "77710   Children's Music    Doja Cat  Go To Town  6iOvnACn4ChlAw4lWUU4dd   \n",
       "93651              Indie    Doja Cat  Go To Town  6iOvnACn4ChlAw4lWUU4dd   \n",
       "113770               Pop    Doja Cat  Go To Town  6iOvnACn4ChlAw4lWUU4dd   \n",
       "\n",
       "        popularity  acousticness  danceability  duration_ms  energy  \\\n",
       "257             64        0.0716          0.71       217813    0.71   \n",
       "1348            64        0.0716          0.71       217813    0.71   \n",
       "77710           64        0.0716          0.71       217813    0.71   \n",
       "93651           64        0.0716          0.71       217813    0.71   \n",
       "113770          64        0.0716          0.71       217813    0.71   \n",
       "\n",
       "        instrumentalness key  liveness  loudness   mode  speechiness    tempo  \\\n",
       "257             0.000001   C     0.206    -2.474  Major       0.0579  169.944   \n",
       "1348            0.000001   C     0.206    -2.474  Major       0.0579  169.944   \n",
       "77710           0.000001   C     0.206    -2.474  Major       0.0579  169.944   \n",
       "93651           0.000001   C     0.206    -2.474  Major       0.0579  169.944   \n",
       "113770          0.000001   C     0.206    -2.474  Major       0.0579  169.944   \n",
       "\n",
       "       time_signature  valence  \n",
       "257               4/4      0.7  \n",
       "1348              4/4      0.7  \n",
       "77710             4/4      0.7  \n",
       "93651             4/4      0.7  \n",
       "113770            4/4      0.7  "
      ],
      "text/html": "<div>\n<style scoped>\n    .dataframe tbody tr th:only-of-type {\n        vertical-align: middle;\n    }\n\n    .dataframe tbody tr th {\n        vertical-align: top;\n    }\n\n    .dataframe thead th {\n        text-align: right;\n    }\n</style>\n<table border=\"1\" class=\"dataframe\">\n  <thead>\n    <tr style=\"text-align: right;\">\n      <th></th>\n      <th>genre</th>\n      <th>artist_name</th>\n      <th>track_name</th>\n      <th>track_id</th>\n      <th>popularity</th>\n      <th>acousticness</th>\n      <th>danceability</th>\n      <th>duration_ms</th>\n      <th>energy</th>\n      <th>instrumentalness</th>\n      <th>key</th>\n      <th>liveness</th>\n      <th>loudness</th>\n      <th>mode</th>\n      <th>speechiness</th>\n      <th>tempo</th>\n      <th>time_signature</th>\n      <th>valence</th>\n    </tr>\n  </thead>\n  <tbody>\n    <tr>\n      <th>257</th>\n      <td>R&amp;B</td>\n      <td>Doja Cat</td>\n      <td>Go To Town</td>\n      <td>6iOvnACn4ChlAw4lWUU4dd</td>\n      <td>64</td>\n      <td>0.0716</td>\n      <td>0.71</td>\n      <td>217813</td>\n      <td>0.71</td>\n      <td>0.000001</td>\n      <td>C</td>\n      <td>0.206</td>\n      <td>-2.474</td>\n      <td>Major</td>\n      <td>0.0579</td>\n      <td>169.944</td>\n      <td>4/4</td>\n      <td>0.7</td>\n    </tr>\n    <tr>\n      <th>1348</th>\n      <td>Alternative</td>\n      <td>Doja Cat</td>\n      <td>Go To Town</td>\n      <td>6iOvnACn4ChlAw4lWUU4dd</td>\n      <td>64</td>\n      <td>0.0716</td>\n      <td>0.71</td>\n      <td>217813</td>\n      <td>0.71</td>\n      <td>0.000001</td>\n      <td>C</td>\n      <td>0.206</td>\n      <td>-2.474</td>\n      <td>Major</td>\n      <td>0.0579</td>\n      <td>169.944</td>\n      <td>4/4</td>\n      <td>0.7</td>\n    </tr>\n    <tr>\n      <th>77710</th>\n      <td>Children's Music</td>\n      <td>Doja Cat</td>\n      <td>Go To Town</td>\n      <td>6iOvnACn4ChlAw4lWUU4dd</td>\n      <td>64</td>\n      <td>0.0716</td>\n      <td>0.71</td>\n      <td>217813</td>\n      <td>0.71</td>\n      <td>0.000001</td>\n      <td>C</td>\n      <td>0.206</td>\n      <td>-2.474</td>\n      <td>Major</td>\n      <td>0.0579</td>\n      <td>169.944</td>\n      <td>4/4</td>\n      <td>0.7</td>\n    </tr>\n    <tr>\n      <th>93651</th>\n      <td>Indie</td>\n      <td>Doja Cat</td>\n      <td>Go To Town</td>\n      <td>6iOvnACn4ChlAw4lWUU4dd</td>\n      <td>64</td>\n      <td>0.0716</td>\n      <td>0.71</td>\n      <td>217813</td>\n      <td>0.71</td>\n      <td>0.000001</td>\n      <td>C</td>\n      <td>0.206</td>\n      <td>-2.474</td>\n      <td>Major</td>\n      <td>0.0579</td>\n      <td>169.944</td>\n      <td>4/4</td>\n      <td>0.7</td>\n    </tr>\n    <tr>\n      <th>113770</th>\n      <td>Pop</td>\n      <td>Doja Cat</td>\n      <td>Go To Town</td>\n      <td>6iOvnACn4ChlAw4lWUU4dd</td>\n      <td>64</td>\n      <td>0.0716</td>\n      <td>0.71</td>\n      <td>217813</td>\n      <td>0.71</td>\n      <td>0.000001</td>\n      <td>C</td>\n      <td>0.206</td>\n      <td>-2.474</td>\n      <td>Major</td>\n      <td>0.0579</td>\n      <td>169.944</td>\n      <td>4/4</td>\n      <td>0.7</td>\n    </tr>\n  </tbody>\n</table>\n</div>"
     },
     "metadata": {},
     "execution_count": 9
    }
   ],
   "source": [
    "# picking the first duplicate track ID\n",
    "duplicates = df[\"track_id\"].duplicated()\n",
    "duplicate_id = df[duplicates == True][\"track_id\"].iloc[0]\n",
    "\n",
    "# get data entries for that track ID\n",
    "df[df[\"track_id\"] == duplicate_id]"
   ]
  },
  {
   "cell_type": "markdown",
   "metadata": {},
   "source": [
    "we can see that the same song appears 5 times in the data as it was categorized into 5 different genres\n",
    "\n",
    "in order to make sure that each row in the data represents a unique track we decided to only account for the first appearance (from top to bottom) of each track, meaning that all the other entries for the same song except the first one, will be removed\n",
    "\n",
    "in doing so, we are aware that information on multi-genre affiliation of songs will be lost, however, the uniqueness of data instances shall be safeguarded in the context of unsupervised learning"
   ]
  },
  {
   "cell_type": "code",
   "execution_count": 10,
   "metadata": {},
   "outputs": [
    {
     "output_type": "execute_result",
     "data": {
      "text/plain": [
       "    genre artist_name  track_name                track_id  popularity  \\\n",
       "257   R&B    Doja Cat  Go To Town  6iOvnACn4ChlAw4lWUU4dd          64   \n",
       "\n",
       "     acousticness  danceability  duration_ms  energy  instrumentalness key  \\\n",
       "257        0.0716          0.71       217813    0.71          0.000001   C   \n",
       "\n",
       "     liveness  loudness   mode  speechiness    tempo time_signature  valence  \n",
       "257     0.206    -2.474  Major       0.0579  169.944            4/4      0.7  "
      ],
      "text/html": "<div>\n<style scoped>\n    .dataframe tbody tr th:only-of-type {\n        vertical-align: middle;\n    }\n\n    .dataframe tbody tr th {\n        vertical-align: top;\n    }\n\n    .dataframe thead th {\n        text-align: right;\n    }\n</style>\n<table border=\"1\" class=\"dataframe\">\n  <thead>\n    <tr style=\"text-align: right;\">\n      <th></th>\n      <th>genre</th>\n      <th>artist_name</th>\n      <th>track_name</th>\n      <th>track_id</th>\n      <th>popularity</th>\n      <th>acousticness</th>\n      <th>danceability</th>\n      <th>duration_ms</th>\n      <th>energy</th>\n      <th>instrumentalness</th>\n      <th>key</th>\n      <th>liveness</th>\n      <th>loudness</th>\n      <th>mode</th>\n      <th>speechiness</th>\n      <th>tempo</th>\n      <th>time_signature</th>\n      <th>valence</th>\n    </tr>\n  </thead>\n  <tbody>\n    <tr>\n      <th>257</th>\n      <td>R&amp;B</td>\n      <td>Doja Cat</td>\n      <td>Go To Town</td>\n      <td>6iOvnACn4ChlAw4lWUU4dd</td>\n      <td>64</td>\n      <td>0.0716</td>\n      <td>0.71</td>\n      <td>217813</td>\n      <td>0.71</td>\n      <td>0.000001</td>\n      <td>C</td>\n      <td>0.206</td>\n      <td>-2.474</td>\n      <td>Major</td>\n      <td>0.0579</td>\n      <td>169.944</td>\n      <td>4/4</td>\n      <td>0.7</td>\n    </tr>\n  </tbody>\n</table>\n</div>"
     },
     "metadata": {},
     "execution_count": 10
    }
   ],
   "source": [
    "# removing all duplicate appearances of tracks\n",
    "df = df.drop_duplicates(subset=\"track_id\", keep=\"first\")\n",
    "\n",
    "# reset index\n",
    "df = df.reset_index(drop=True)\n",
    "\n",
    "# check result\n",
    "df[df[\"track_id\"] == duplicate_id]"
   ]
  },
  {
   "cell_type": "code",
   "execution_count": null,
   "metadata": {},
   "outputs": [],
   "source": []
  },
  {
   "cell_type": "markdown",
   "metadata": {},
   "source": [
    "let's now check how balanced the data set is with regards to the cleaned genres ..."
   ]
  },
  {
   "cell_type": "code",
   "execution_count": 11,
   "metadata": {},
   "outputs": [
    {
     "output_type": "execute_result",
     "data": {
      "text/plain": [
       "Text(0, 0.5, 'Occurences')"
      ]
     },
     "metadata": {},
     "execution_count": 11
    },
    {
     "output_type": "display_data",
     "data": {
      "text/plain": "<Figure size 1440x360 with 1 Axes>",
      "image/svg+xml": "<?xml version=\"1.0\" encoding=\"utf-8\" standalone=\"no\"?>\n<!DOCTYPE svg PUBLIC \"-//W3C//DTD SVG 1.1//EN\"\n  \"http://www.w3.org/Graphics/SVG/1.1/DTD/svg11.dtd\">\n<!-- Created with matplotlib (https://matplotlib.org/) -->\n<svg height=\"403.185313pt\" version=\"1.1\" viewBox=\"0 0 1182.890625 403.185313\" width=\"1182.890625pt\" xmlns=\"http://www.w3.org/2000/svg\" xmlns:xlink=\"http://www.w3.org/1999/xlink\">\n <metadata>\n  <rdf:RDF xmlns:cc=\"http://creativecommons.org/ns#\" xmlns:dc=\"http://purl.org/dc/elements/1.1/\" xmlns:rdf=\"http://www.w3.org/1999/02/22-rdf-syntax-ns#\">\n   <cc:Work>\n    <dc:type rdf:resource=\"http://purl.org/dc/dcmitype/StillImage\"/>\n    <dc:date>2021-05-07T15:41:15.859673</dc:date>\n    <dc:format>image/svg+xml</dc:format>\n    <dc:creator>\n     <cc:Agent>\n      <dc:title>Matplotlib v3.3.4, https://matplotlib.org/</dc:title>\n     </cc:Agent>\n    </dc:creator>\n   </cc:Work>\n  </rdf:RDF>\n </metadata>\n <defs>\n  <style type=\"text/css\">*{stroke-linecap:butt;stroke-linejoin:round;}</style>\n </defs>\n <g id=\"figure_1\">\n  <g id=\"patch_1\">\n   <path d=\"M 0 403.185313 \nL 1182.890625 403.185313 \nL 1182.890625 0 \nL 0 0 \nz\n\" style=\"fill:none;\"/>\n  </g>\n  <g id=\"axes_1\">\n   <g id=\"patch_2\">\n    <path d=\"M 59.690625 294.118125 \nL 1175.690625 294.118125 \nL 1175.690625 22.318125 \nL 59.690625 22.318125 \nz\n\" style=\"fill:#ffffff;\"/>\n   </g>\n   <g id=\"patch_3\">\n    <path clip-path=\"url(#p808caebda3)\" d=\"M 110.417898 294.118125 \nL 141.876672 294.118125 \nL 141.876672 85.352007 \nL 110.417898 85.352007 \nz\n\" style=\"fill:#1f77b4;\"/>\n   </g>\n   <g id=\"patch_4\">\n    <path clip-path=\"url(#p808caebda3)\" d=\"M 149.741365 294.118125 \nL 181.200139 294.118125 \nL 181.200139 150.882412 \nL 149.741365 150.882412 \nz\n\" style=\"fill:#1f77b4;\"/>\n   </g>\n   <g id=\"patch_5\">\n    <path clip-path=\"url(#p808caebda3)\" d=\"M 189.064832 294.118125 \nL 220.523606 294.118125 \nL 220.523606 290.93392 \nL 189.064832 290.93392 \nz\n\" style=\"fill:#1f77b4;\"/>\n   </g>\n   <g id=\"patch_6\">\n    <path clip-path=\"url(#p808caebda3)\" d=\"M 228.388299 294.118125 \nL 259.847073 294.118125 \nL 259.847073 50.753879 \nL 228.388299 50.753879 \nz\n\" style=\"fill:#1f77b4;\"/>\n   </g>\n   <g id=\"patch_7\">\n    <path clip-path=\"url(#p808caebda3)\" d=\"M 267.711767 294.118125 \nL 299.17054 294.118125 \nL 299.17054 96.56362 \nL 267.711767 96.56362 \nz\n\" style=\"fill:#1f77b4;\"/>\n   </g>\n   <g id=\"patch_8\">\n    <path clip-path=\"url(#p808caebda3)\" d=\"M 307.035234 294.118125 \nL 338.494008 294.118125 \nL 338.494008 80.535562 \nL 307.035234 80.535562 \nz\n\" style=\"fill:#1f77b4;\"/>\n   </g>\n   <g id=\"patch_9\">\n    <path clip-path=\"url(#p808caebda3)\" d=\"M 346.358701 294.118125 \nL 377.817475 294.118125 \nL 377.817475 49.308946 \nL 346.358701 49.308946 \nz\n\" style=\"fill:#1f77b4;\"/>\n   </g>\n   <g id=\"patch_10\">\n    <path clip-path=\"url(#p808caebda3)\" d=\"M 385.682168 294.118125 \nL 417.140942 294.118125 \nL 417.140942 55.035163 \nL 385.682168 55.035163 \nz\n\" style=\"fill:#1f77b4;\"/>\n   </g>\n   <g id=\"patch_11\">\n    <path clip-path=\"url(#p808caebda3)\" d=\"M 425.005636 294.118125 \nL 456.464409 294.118125 \nL 456.464409 78.769532 \nL 425.005636 78.769532 \nz\n\" style=\"fill:#1f77b4;\"/>\n   </g>\n   <g id=\"patch_12\">\n    <path clip-path=\"url(#p808caebda3)\" d=\"M 464.329103 294.118125 \nL 495.787877 294.118125 \nL 495.787877 66.781937 \nL 464.329103 66.781937 \nz\n\" style=\"fill:#1f77b4;\"/>\n   </g>\n   <g id=\"patch_13\">\n    <path clip-path=\"url(#p808caebda3)\" d=\"M 503.65257 294.118125 \nL 535.111344 294.118125 \nL 535.111344 72.56167 \nL 503.65257 72.56167 \nz\n\" style=\"fill:#1f77b4;\"/>\n   </g>\n   <g id=\"patch_14\">\n    <path clip-path=\"url(#p808caebda3)\" d=\"M 542.976037 294.118125 \nL 574.434811 294.118125 \nL 574.434811 95.760879 \nL 542.976037 95.760879 \nz\n\" style=\"fill:#1f77b4;\"/>\n   </g>\n   <g id=\"patch_15\">\n    <path clip-path=\"url(#p808caebda3)\" d=\"M 582.299504 294.118125 \nL 613.758278 294.118125 \nL 613.758278 113.742272 \nL 582.299504 113.742272 \nz\n\" style=\"fill:#1f77b4;\"/>\n   </g>\n   <g id=\"patch_16\">\n    <path clip-path=\"url(#p808caebda3)\" d=\"M 621.622972 294.118125 \nL 653.081746 294.118125 \nL 653.081746 255.158439 \nL 621.622972 255.158439 \nz\n\" style=\"fill:#1f77b4;\"/>\n   </g>\n   <g id=\"patch_17\">\n    <path clip-path=\"url(#p808caebda3)\" d=\"M 660.946439 294.118125 \nL 692.405213 294.118125 \nL 692.405213 205.334995 \nL 660.946439 205.334995 \nz\n\" style=\"fill:#1f77b4;\"/>\n   </g>\n   <g id=\"patch_18\">\n    <path clip-path=\"url(#p808caebda3)\" d=\"M 700.269906 294.118125 \nL 731.72868 294.118125 \nL 731.72868 61.028961 \nL 700.269906 61.028961 \nz\n\" style=\"fill:#1f77b4;\"/>\n   </g>\n   <g id=\"patch_19\">\n    <path clip-path=\"url(#p808caebda3)\" d=\"M 739.593373 294.118125 \nL 771.052147 294.118125 \nL 771.052147 229.443976 \nL 739.593373 229.443976 \nz\n\" style=\"fill:#1f77b4;\"/>\n   </g>\n   <g id=\"patch_20\">\n    <path clip-path=\"url(#p808caebda3)\" d=\"M 778.916841 294.118125 \nL 810.375614 294.118125 \nL 810.375614 61.671154 \nL 778.916841 61.671154 \nz\n\" style=\"fill:#1f77b4;\"/>\n   </g>\n   <g id=\"patch_21\">\n    <path clip-path=\"url(#p808caebda3)\" d=\"M 818.240308 294.118125 \nL 849.699082 294.118125 \nL 849.699082 65.363761 \nL 818.240308 65.363761 \nz\n\" style=\"fill:#1f77b4;\"/>\n   </g>\n   <g id=\"patch_22\">\n    <path clip-path=\"url(#p808caebda3)\" d=\"M 857.563775 294.118125 \nL 889.022549 294.118125 \nL 889.022549 79.010355 \nL 857.563775 79.010355 \nz\n\" style=\"fill:#1f77b4;\"/>\n   </g>\n   <g id=\"patch_23\">\n    <path clip-path=\"url(#p808caebda3)\" d=\"M 896.887242 294.118125 \nL 928.346016 294.118125 \nL 928.346016 234.528001 \nL 896.887242 234.528001 \nz\n\" style=\"fill:#1f77b4;\"/>\n   </g>\n   <g id=\"patch_24\">\n    <path clip-path=\"url(#p808caebda3)\" d=\"M 936.21071 294.118125 \nL 967.669483 294.118125 \nL 967.669483 79.599031 \nL 936.21071 79.599031 \nz\n\" style=\"fill:#1f77b4;\"/>\n   </g>\n   <g id=\"patch_25\">\n    <path clip-path=\"url(#p808caebda3)\" d=\"M 975.534177 294.118125 \nL 1006.992951 294.118125 \nL 1006.992951 35.260982 \nL 975.534177 35.260982 \nz\n\" style=\"fill:#1f77b4;\"/>\n   </g>\n   <g id=\"patch_26\">\n    <path clip-path=\"url(#p808caebda3)\" d=\"M 1014.857644 294.118125 \nL 1046.316418 294.118125 \nL 1046.316418 175.58007 \nL 1014.857644 175.58007 \nz\n\" style=\"fill:#1f77b4;\"/>\n   </g>\n   <g id=\"patch_27\">\n    <path clip-path=\"url(#p808caebda3)\" d=\"M 1054.181111 294.118125 \nL 1085.639885 294.118125 \nL 1085.639885 67.210065 \nL 1054.181111 67.210065 \nz\n\" style=\"fill:#1f77b4;\"/>\n   </g>\n   <g id=\"patch_28\">\n    <path clip-path=\"url(#p808caebda3)\" d=\"M 1093.504578 294.118125 \nL 1124.963352 294.118125 \nL 1124.963352 80.776384 \nL 1093.504578 80.776384 \nz\n\" style=\"fill:#1f77b4;\"/>\n   </g>\n   <g id=\"matplotlib.axis_1\">\n    <g id=\"xtick_1\">\n     <g id=\"line2d_1\">\n      <defs>\n       <path d=\"M 0 0 \nL 0 3.5 \n\" id=\"m0e5a88391e\" style=\"stroke:#000000;stroke-width:0.8;\"/>\n      </defs>\n      <g>\n       <use style=\"stroke:#000000;stroke-width:0.8;\" x=\"126.147285\" xlink:href=\"#m0e5a88391e\" y=\"294.118125\"/>\n      </g>\n     </g>\n     <g id=\"text_1\">\n      <!-- Movie -->\n      <g transform=\"translate(128.90666 330.715)rotate(-90)scale(0.1 -0.1)\">\n       <defs>\n        <path d=\"M 9.8125 72.90625 \nL 24.515625 72.90625 \nL 43.109375 23.296875 \nL 61.8125 72.90625 \nL 76.515625 72.90625 \nL 76.515625 0 \nL 66.890625 0 \nL 66.890625 64.015625 \nL 48.09375 14.015625 \nL 38.1875 14.015625 \nL 19.390625 64.015625 \nL 19.390625 0 \nL 9.8125 0 \nz\n\" id=\"DejaVuSans-77\"/>\n        <path d=\"M 30.609375 48.390625 \nQ 23.390625 48.390625 19.1875 42.75 \nQ 14.984375 37.109375 14.984375 27.296875 \nQ 14.984375 17.484375 19.15625 11.84375 \nQ 23.34375 6.203125 30.609375 6.203125 \nQ 37.796875 6.203125 41.984375 11.859375 \nQ 46.1875 17.53125 46.1875 27.296875 \nQ 46.1875 37.015625 41.984375 42.703125 \nQ 37.796875 48.390625 30.609375 48.390625 \nz\nM 30.609375 56 \nQ 42.328125 56 49.015625 48.375 \nQ 55.71875 40.765625 55.71875 27.296875 \nQ 55.71875 13.875 49.015625 6.21875 \nQ 42.328125 -1.421875 30.609375 -1.421875 \nQ 18.84375 -1.421875 12.171875 6.21875 \nQ 5.515625 13.875 5.515625 27.296875 \nQ 5.515625 40.765625 12.171875 48.375 \nQ 18.84375 56 30.609375 56 \nz\n\" id=\"DejaVuSans-111\"/>\n        <path d=\"M 2.984375 54.6875 \nL 12.5 54.6875 \nL 29.59375 8.796875 \nL 46.6875 54.6875 \nL 56.203125 54.6875 \nL 35.6875 0 \nL 23.484375 0 \nz\n\" id=\"DejaVuSans-118\"/>\n        <path d=\"M 9.421875 54.6875 \nL 18.40625 54.6875 \nL 18.40625 0 \nL 9.421875 0 \nz\nM 9.421875 75.984375 \nL 18.40625 75.984375 \nL 18.40625 64.59375 \nL 9.421875 64.59375 \nz\n\" id=\"DejaVuSans-105\"/>\n        <path d=\"M 56.203125 29.59375 \nL 56.203125 25.203125 \nL 14.890625 25.203125 \nQ 15.484375 15.921875 20.484375 11.0625 \nQ 25.484375 6.203125 34.421875 6.203125 \nQ 39.59375 6.203125 44.453125 7.46875 \nQ 49.3125 8.734375 54.109375 11.28125 \nL 54.109375 2.78125 \nQ 49.265625 0.734375 44.1875 -0.34375 \nQ 39.109375 -1.421875 33.890625 -1.421875 \nQ 20.796875 -1.421875 13.15625 6.1875 \nQ 5.515625 13.8125 5.515625 26.8125 \nQ 5.515625 40.234375 12.765625 48.109375 \nQ 20.015625 56 32.328125 56 \nQ 43.359375 56 49.78125 48.890625 \nQ 56.203125 41.796875 56.203125 29.59375 \nz\nM 47.21875 32.234375 \nQ 47.125 39.59375 43.09375 43.984375 \nQ 39.0625 48.390625 32.421875 48.390625 \nQ 24.90625 48.390625 20.390625 44.140625 \nQ 15.875 39.890625 15.1875 32.171875 \nz\n\" id=\"DejaVuSans-101\"/>\n       </defs>\n       <use xlink:href=\"#DejaVuSans-77\"/>\n       <use x=\"86.279297\" xlink:href=\"#DejaVuSans-111\"/>\n       <use x=\"147.460938\" xlink:href=\"#DejaVuSans-118\"/>\n       <use x=\"206.640625\" xlink:href=\"#DejaVuSans-105\"/>\n       <use x=\"234.423828\" xlink:href=\"#DejaVuSans-101\"/>\n      </g>\n     </g>\n    </g>\n    <g id=\"xtick_2\">\n     <g id=\"line2d_2\">\n      <g>\n       <use style=\"stroke:#000000;stroke-width:0.8;\" x=\"165.470752\" xlink:href=\"#m0e5a88391e\" y=\"294.118125\"/>\n      </g>\n     </g>\n     <g id=\"text_2\">\n      <!-- R&amp;B -->\n      <g transform=\"translate(168.230127 322.725937)rotate(-90)scale(0.1 -0.1)\">\n       <defs>\n        <path d=\"M 44.390625 34.1875 \nQ 47.5625 33.109375 50.5625 29.59375 \nQ 53.5625 26.078125 56.59375 19.921875 \nL 66.609375 0 \nL 56 0 \nL 46.6875 18.703125 \nQ 43.0625 26.03125 39.671875 28.421875 \nQ 36.28125 30.8125 30.421875 30.8125 \nL 19.671875 30.8125 \nL 19.671875 0 \nL 9.8125 0 \nL 9.8125 72.90625 \nL 32.078125 72.90625 \nQ 44.578125 72.90625 50.734375 67.671875 \nQ 56.890625 62.453125 56.890625 51.90625 \nQ 56.890625 45.015625 53.6875 40.46875 \nQ 50.484375 35.9375 44.390625 34.1875 \nz\nM 19.671875 64.796875 \nL 19.671875 38.921875 \nL 32.078125 38.921875 \nQ 39.203125 38.921875 42.84375 42.21875 \nQ 46.484375 45.515625 46.484375 51.90625 \nQ 46.484375 58.296875 42.84375 61.546875 \nQ 39.203125 64.796875 32.078125 64.796875 \nz\n\" id=\"DejaVuSans-82\"/>\n        <path d=\"M 24.3125 39.203125 \nQ 19.875 35.25 17.796875 31.3125 \nQ 15.71875 27.390625 15.71875 23.09375 \nQ 15.71875 15.96875 20.890625 11.234375 \nQ 26.078125 6.5 33.890625 6.5 \nQ 38.53125 6.5 42.578125 8.03125 \nQ 46.625 9.578125 50.203125 12.703125 \nz\nM 31.203125 44.671875 \nL 56 19.28125 \nQ 58.890625 23.640625 60.5 28.59375 \nQ 62.109375 33.546875 62.40625 39.109375 \nL 71.484375 39.109375 \nQ 70.90625 32.671875 68.359375 26.359375 \nQ 65.828125 20.0625 61.28125 13.921875 \nL 74.90625 0 \nL 62.59375 0 \nL 55.609375 7.171875 \nQ 50.53125 2.828125 44.96875 0.703125 \nQ 39.40625 -1.421875 33.015625 -1.421875 \nQ 21.234375 -1.421875 13.765625 5.296875 \nQ 6.296875 12.015625 6.296875 22.515625 \nQ 6.296875 28.765625 9.5625 34.25 \nQ 12.84375 39.75 19.390625 44.578125 \nQ 17.046875 47.65625 15.8125 50.703125 \nQ 14.59375 53.765625 14.59375 56.6875 \nQ 14.59375 64.59375 20.015625 69.40625 \nQ 25.4375 74.21875 34.421875 74.21875 \nQ 38.484375 74.21875 42.5 73.34375 \nQ 46.53125 72.46875 50.6875 70.703125 \nL 50.6875 61.8125 \nQ 46.4375 64.109375 42.578125 65.296875 \nQ 38.71875 66.5 35.40625 66.5 \nQ 30.28125 66.5 27.078125 63.78125 \nQ 23.875 61.078125 23.875 56.78125 \nQ 23.875 54.296875 25.3125 51.78125 \nQ 26.765625 49.265625 31.203125 44.671875 \nz\n\" id=\"DejaVuSans-38\"/>\n        <path d=\"M 19.671875 34.8125 \nL 19.671875 8.109375 \nL 35.5 8.109375 \nQ 43.453125 8.109375 47.28125 11.40625 \nQ 51.125 14.703125 51.125 21.484375 \nQ 51.125 28.328125 47.28125 31.5625 \nQ 43.453125 34.8125 35.5 34.8125 \nz\nM 19.671875 64.796875 \nL 19.671875 42.828125 \nL 34.28125 42.828125 \nQ 41.5 42.828125 45.03125 45.53125 \nQ 48.578125 48.25 48.578125 53.8125 \nQ 48.578125 59.328125 45.03125 62.0625 \nQ 41.5 64.796875 34.28125 64.796875 \nz\nM 9.8125 72.90625 \nL 35.015625 72.90625 \nQ 46.296875 72.90625 52.390625 68.21875 \nQ 58.5 63.53125 58.5 54.890625 \nQ 58.5 48.1875 55.375 44.234375 \nQ 52.25 40.28125 46.1875 39.3125 \nQ 53.46875 37.75 57.5 32.78125 \nQ 61.53125 27.828125 61.53125 20.40625 \nQ 61.53125 10.640625 54.890625 5.3125 \nQ 48.25 0 35.984375 0 \nL 9.8125 0 \nz\n\" id=\"DejaVuSans-66\"/>\n       </defs>\n       <use xlink:href=\"#DejaVuSans-82\"/>\n       <use x=\"69.482422\" xlink:href=\"#DejaVuSans-38\"/>\n       <use x=\"147.460938\" xlink:href=\"#DejaVuSans-66\"/>\n      </g>\n     </g>\n    </g>\n    <g id=\"xtick_3\">\n     <g id=\"line2d_3\">\n      <g>\n       <use style=\"stroke:#000000;stroke-width:0.8;\" x=\"204.794219\" xlink:href=\"#m0e5a88391e\" y=\"294.118125\"/>\n      </g>\n     </g>\n     <g id=\"text_3\">\n      <!-- A Capella -->\n      <g transform=\"translate(207.553594 348.43375)rotate(-90)scale(0.1 -0.1)\">\n       <defs>\n        <path d=\"M 34.1875 63.1875 \nL 20.796875 26.90625 \nL 47.609375 26.90625 \nz\nM 28.609375 72.90625 \nL 39.796875 72.90625 \nL 67.578125 0 \nL 57.328125 0 \nL 50.6875 18.703125 \nL 17.828125 18.703125 \nL 11.1875 0 \nL 0.78125 0 \nz\n\" id=\"DejaVuSans-65\"/>\n        <path id=\"DejaVuSans-32\"/>\n        <path d=\"M 64.40625 67.28125 \nL 64.40625 56.890625 \nQ 59.421875 61.53125 53.78125 63.8125 \nQ 48.140625 66.109375 41.796875 66.109375 \nQ 29.296875 66.109375 22.65625 58.46875 \nQ 16.015625 50.828125 16.015625 36.375 \nQ 16.015625 21.96875 22.65625 14.328125 \nQ 29.296875 6.6875 41.796875 6.6875 \nQ 48.140625 6.6875 53.78125 8.984375 \nQ 59.421875 11.28125 64.40625 15.921875 \nL 64.40625 5.609375 \nQ 59.234375 2.09375 53.4375 0.328125 \nQ 47.65625 -1.421875 41.21875 -1.421875 \nQ 24.65625 -1.421875 15.125 8.703125 \nQ 5.609375 18.84375 5.609375 36.375 \nQ 5.609375 53.953125 15.125 64.078125 \nQ 24.65625 74.21875 41.21875 74.21875 \nQ 47.75 74.21875 53.53125 72.484375 \nQ 59.328125 70.75 64.40625 67.28125 \nz\n\" id=\"DejaVuSans-67\"/>\n        <path d=\"M 34.28125 27.484375 \nQ 23.390625 27.484375 19.1875 25 \nQ 14.984375 22.515625 14.984375 16.5 \nQ 14.984375 11.71875 18.140625 8.90625 \nQ 21.296875 6.109375 26.703125 6.109375 \nQ 34.1875 6.109375 38.703125 11.40625 \nQ 43.21875 16.703125 43.21875 25.484375 \nL 43.21875 27.484375 \nz\nM 52.203125 31.203125 \nL 52.203125 0 \nL 43.21875 0 \nL 43.21875 8.296875 \nQ 40.140625 3.328125 35.546875 0.953125 \nQ 30.953125 -1.421875 24.3125 -1.421875 \nQ 15.921875 -1.421875 10.953125 3.296875 \nQ 6 8.015625 6 15.921875 \nQ 6 25.140625 12.171875 29.828125 \nQ 18.359375 34.515625 30.609375 34.515625 \nL 43.21875 34.515625 \nL 43.21875 35.40625 \nQ 43.21875 41.609375 39.140625 45 \nQ 35.0625 48.390625 27.6875 48.390625 \nQ 23 48.390625 18.546875 47.265625 \nQ 14.109375 46.140625 10.015625 43.890625 \nL 10.015625 52.203125 \nQ 14.9375 54.109375 19.578125 55.046875 \nQ 24.21875 56 28.609375 56 \nQ 40.484375 56 46.34375 49.84375 \nQ 52.203125 43.703125 52.203125 31.203125 \nz\n\" id=\"DejaVuSans-97\"/>\n        <path d=\"M 18.109375 8.203125 \nL 18.109375 -20.796875 \nL 9.078125 -20.796875 \nL 9.078125 54.6875 \nL 18.109375 54.6875 \nL 18.109375 46.390625 \nQ 20.953125 51.265625 25.265625 53.625 \nQ 29.59375 56 35.59375 56 \nQ 45.5625 56 51.78125 48.09375 \nQ 58.015625 40.1875 58.015625 27.296875 \nQ 58.015625 14.40625 51.78125 6.484375 \nQ 45.5625 -1.421875 35.59375 -1.421875 \nQ 29.59375 -1.421875 25.265625 0.953125 \nQ 20.953125 3.328125 18.109375 8.203125 \nz\nM 48.6875 27.296875 \nQ 48.6875 37.203125 44.609375 42.84375 \nQ 40.53125 48.484375 33.40625 48.484375 \nQ 26.265625 48.484375 22.1875 42.84375 \nQ 18.109375 37.203125 18.109375 27.296875 \nQ 18.109375 17.390625 22.1875 11.75 \nQ 26.265625 6.109375 33.40625 6.109375 \nQ 40.53125 6.109375 44.609375 11.75 \nQ 48.6875 17.390625 48.6875 27.296875 \nz\n\" id=\"DejaVuSans-112\"/>\n        <path d=\"M 9.421875 75.984375 \nL 18.40625 75.984375 \nL 18.40625 0 \nL 9.421875 0 \nz\n\" id=\"DejaVuSans-108\"/>\n       </defs>\n       <use xlink:href=\"#DejaVuSans-65\"/>\n       <use x=\"68.408203\" xlink:href=\"#DejaVuSans-32\"/>\n       <use x=\"100.195312\" xlink:href=\"#DejaVuSans-67\"/>\n       <use x=\"170.019531\" xlink:href=\"#DejaVuSans-97\"/>\n       <use x=\"231.298828\" xlink:href=\"#DejaVuSans-112\"/>\n       <use x=\"294.775391\" xlink:href=\"#DejaVuSans-101\"/>\n       <use x=\"356.298828\" xlink:href=\"#DejaVuSans-108\"/>\n       <use x=\"384.082031\" xlink:href=\"#DejaVuSans-108\"/>\n       <use x=\"411.865234\" xlink:href=\"#DejaVuSans-97\"/>\n      </g>\n     </g>\n    </g>\n    <g id=\"xtick_4\">\n     <g id=\"line2d_4\">\n      <g>\n       <use style=\"stroke:#000000;stroke-width:0.8;\" x=\"244.117686\" xlink:href=\"#m0e5a88391e\" y=\"294.118125\"/>\n      </g>\n     </g>\n     <g id=\"text_4\">\n      <!-- Alternative -->\n      <g transform=\"translate(246.877061 355.982188)rotate(-90)scale(0.1 -0.1)\">\n       <defs>\n        <path d=\"M 18.3125 70.21875 \nL 18.3125 54.6875 \nL 36.8125 54.6875 \nL 36.8125 47.703125 \nL 18.3125 47.703125 \nL 18.3125 18.015625 \nQ 18.3125 11.328125 20.140625 9.421875 \nQ 21.96875 7.515625 27.59375 7.515625 \nL 36.8125 7.515625 \nL 36.8125 0 \nL 27.59375 0 \nQ 17.1875 0 13.234375 3.875 \nQ 9.28125 7.765625 9.28125 18.015625 \nL 9.28125 47.703125 \nL 2.6875 47.703125 \nL 2.6875 54.6875 \nL 9.28125 54.6875 \nL 9.28125 70.21875 \nz\n\" id=\"DejaVuSans-116\"/>\n        <path d=\"M 41.109375 46.296875 \nQ 39.59375 47.171875 37.8125 47.578125 \nQ 36.03125 48 33.890625 48 \nQ 26.265625 48 22.1875 43.046875 \nQ 18.109375 38.09375 18.109375 28.8125 \nL 18.109375 0 \nL 9.078125 0 \nL 9.078125 54.6875 \nL 18.109375 54.6875 \nL 18.109375 46.1875 \nQ 20.953125 51.171875 25.484375 53.578125 \nQ 30.03125 56 36.53125 56 \nQ 37.453125 56 38.578125 55.875 \nQ 39.703125 55.765625 41.0625 55.515625 \nz\n\" id=\"DejaVuSans-114\"/>\n        <path d=\"M 54.890625 33.015625 \nL 54.890625 0 \nL 45.90625 0 \nL 45.90625 32.71875 \nQ 45.90625 40.484375 42.875 44.328125 \nQ 39.84375 48.1875 33.796875 48.1875 \nQ 26.515625 48.1875 22.3125 43.546875 \nQ 18.109375 38.921875 18.109375 30.90625 \nL 18.109375 0 \nL 9.078125 0 \nL 9.078125 54.6875 \nL 18.109375 54.6875 \nL 18.109375 46.1875 \nQ 21.34375 51.125 25.703125 53.5625 \nQ 30.078125 56 35.796875 56 \nQ 45.21875 56 50.046875 50.171875 \nQ 54.890625 44.34375 54.890625 33.015625 \nz\n\" id=\"DejaVuSans-110\"/>\n       </defs>\n       <use xlink:href=\"#DejaVuSans-65\"/>\n       <use x=\"68.408203\" xlink:href=\"#DejaVuSans-108\"/>\n       <use x=\"96.191406\" xlink:href=\"#DejaVuSans-116\"/>\n       <use x=\"135.400391\" xlink:href=\"#DejaVuSans-101\"/>\n       <use x=\"196.923828\" xlink:href=\"#DejaVuSans-114\"/>\n       <use x=\"236.287109\" xlink:href=\"#DejaVuSans-110\"/>\n       <use x=\"299.666016\" xlink:href=\"#DejaVuSans-97\"/>\n       <use x=\"360.945312\" xlink:href=\"#DejaVuSans-116\"/>\n       <use x=\"400.154297\" xlink:href=\"#DejaVuSans-105\"/>\n       <use x=\"427.9375\" xlink:href=\"#DejaVuSans-118\"/>\n       <use x=\"487.117188\" xlink:href=\"#DejaVuSans-101\"/>\n      </g>\n     </g>\n    </g>\n    <g id=\"xtick_5\">\n     <g id=\"line2d_5\">\n      <g>\n       <use style=\"stroke:#000000;stroke-width:0.8;\" x=\"283.441154\" xlink:href=\"#m0e5a88391e\" y=\"294.118125\"/>\n      </g>\n     </g>\n     <g id=\"text_5\">\n      <!-- Country -->\n      <g transform=\"translate(286.200529 340.844688)rotate(-90)scale(0.1 -0.1)\">\n       <defs>\n        <path d=\"M 8.5 21.578125 \nL 8.5 54.6875 \nL 17.484375 54.6875 \nL 17.484375 21.921875 \nQ 17.484375 14.15625 20.5 10.265625 \nQ 23.53125 6.390625 29.59375 6.390625 \nQ 36.859375 6.390625 41.078125 11.03125 \nQ 45.3125 15.671875 45.3125 23.6875 \nL 45.3125 54.6875 \nL 54.296875 54.6875 \nL 54.296875 0 \nL 45.3125 0 \nL 45.3125 8.40625 \nQ 42.046875 3.421875 37.71875 1 \nQ 33.40625 -1.421875 27.6875 -1.421875 \nQ 18.265625 -1.421875 13.375 4.4375 \nQ 8.5 10.296875 8.5 21.578125 \nz\nM 31.109375 56 \nz\n\" id=\"DejaVuSans-117\"/>\n        <path d=\"M 32.171875 -5.078125 \nQ 28.375 -14.84375 24.75 -17.8125 \nQ 21.140625 -20.796875 15.09375 -20.796875 \nL 7.90625 -20.796875 \nL 7.90625 -13.28125 \nL 13.1875 -13.28125 \nQ 16.890625 -13.28125 18.9375 -11.515625 \nQ 21 -9.765625 23.484375 -3.21875 \nL 25.09375 0.875 \nL 2.984375 54.6875 \nL 12.5 54.6875 \nL 29.59375 11.921875 \nL 46.6875 54.6875 \nL 56.203125 54.6875 \nz\n\" id=\"DejaVuSans-121\"/>\n       </defs>\n       <use xlink:href=\"#DejaVuSans-67\"/>\n       <use x=\"69.824219\" xlink:href=\"#DejaVuSans-111\"/>\n       <use x=\"131.005859\" xlink:href=\"#DejaVuSans-117\"/>\n       <use x=\"194.384766\" xlink:href=\"#DejaVuSans-110\"/>\n       <use x=\"257.763672\" xlink:href=\"#DejaVuSans-116\"/>\n       <use x=\"296.972656\" xlink:href=\"#DejaVuSans-114\"/>\n       <use x=\"338.085938\" xlink:href=\"#DejaVuSans-121\"/>\n      </g>\n     </g>\n    </g>\n    <g id=\"xtick_6\">\n     <g id=\"line2d_6\">\n      <g>\n       <use style=\"stroke:#000000;stroke-width:0.8;\" x=\"322.764621\" xlink:href=\"#m0e5a88391e\" y=\"294.118125\"/>\n      </g>\n     </g>\n     <g id=\"text_6\">\n      <!-- Dance -->\n      <g transform=\"translate(325.523996 332.935313)rotate(-90)scale(0.1 -0.1)\">\n       <defs>\n        <path d=\"M 19.671875 64.796875 \nL 19.671875 8.109375 \nL 31.59375 8.109375 \nQ 46.6875 8.109375 53.6875 14.9375 \nQ 60.6875 21.78125 60.6875 36.53125 \nQ 60.6875 51.171875 53.6875 57.984375 \nQ 46.6875 64.796875 31.59375 64.796875 \nz\nM 9.8125 72.90625 \nL 30.078125 72.90625 \nQ 51.265625 72.90625 61.171875 64.09375 \nQ 71.09375 55.28125 71.09375 36.53125 \nQ 71.09375 17.671875 61.125 8.828125 \nQ 51.171875 0 30.078125 0 \nL 9.8125 0 \nz\n\" id=\"DejaVuSans-68\"/>\n        <path d=\"M 48.78125 52.59375 \nL 48.78125 44.1875 \nQ 44.96875 46.296875 41.140625 47.34375 \nQ 37.3125 48.390625 33.40625 48.390625 \nQ 24.65625 48.390625 19.8125 42.84375 \nQ 14.984375 37.3125 14.984375 27.296875 \nQ 14.984375 17.28125 19.8125 11.734375 \nQ 24.65625 6.203125 33.40625 6.203125 \nQ 37.3125 6.203125 41.140625 7.25 \nQ 44.96875 8.296875 48.78125 10.40625 \nL 48.78125 2.09375 \nQ 45.015625 0.34375 40.984375 -0.53125 \nQ 36.96875 -1.421875 32.421875 -1.421875 \nQ 20.0625 -1.421875 12.78125 6.34375 \nQ 5.515625 14.109375 5.515625 27.296875 \nQ 5.515625 40.671875 12.859375 48.328125 \nQ 20.21875 56 33.015625 56 \nQ 37.15625 56 41.109375 55.140625 \nQ 45.0625 54.296875 48.78125 52.59375 \nz\n\" id=\"DejaVuSans-99\"/>\n       </defs>\n       <use xlink:href=\"#DejaVuSans-68\"/>\n       <use x=\"77.001953\" xlink:href=\"#DejaVuSans-97\"/>\n       <use x=\"138.28125\" xlink:href=\"#DejaVuSans-110\"/>\n       <use x=\"201.660156\" xlink:href=\"#DejaVuSans-99\"/>\n       <use x=\"256.640625\" xlink:href=\"#DejaVuSans-101\"/>\n      </g>\n     </g>\n    </g>\n    <g id=\"xtick_7\">\n     <g id=\"line2d_7\">\n      <g>\n       <use style=\"stroke:#000000;stroke-width:0.8;\" x=\"362.088088\" xlink:href=\"#m0e5a88391e\" y=\"294.118125\"/>\n      </g>\n     </g>\n     <g id=\"text_7\">\n      <!-- Electronic -->\n      <g transform=\"translate(364.847463 350.405625)rotate(-90)scale(0.1 -0.1)\">\n       <defs>\n        <path d=\"M 9.8125 72.90625 \nL 55.90625 72.90625 \nL 55.90625 64.59375 \nL 19.671875 64.59375 \nL 19.671875 43.015625 \nL 54.390625 43.015625 \nL 54.390625 34.71875 \nL 19.671875 34.71875 \nL 19.671875 8.296875 \nL 56.78125 8.296875 \nL 56.78125 0 \nL 9.8125 0 \nz\n\" id=\"DejaVuSans-69\"/>\n       </defs>\n       <use xlink:href=\"#DejaVuSans-69\"/>\n       <use x=\"63.183594\" xlink:href=\"#DejaVuSans-108\"/>\n       <use x=\"90.966797\" xlink:href=\"#DejaVuSans-101\"/>\n       <use x=\"152.490234\" xlink:href=\"#DejaVuSans-99\"/>\n       <use x=\"207.470703\" xlink:href=\"#DejaVuSans-116\"/>\n       <use x=\"246.679688\" xlink:href=\"#DejaVuSans-114\"/>\n       <use x=\"285.542969\" xlink:href=\"#DejaVuSans-111\"/>\n       <use x=\"346.724609\" xlink:href=\"#DejaVuSans-110\"/>\n       <use x=\"410.103516\" xlink:href=\"#DejaVuSans-105\"/>\n       <use x=\"437.886719\" xlink:href=\"#DejaVuSans-99\"/>\n      </g>\n     </g>\n    </g>\n    <g id=\"xtick_8\">\n     <g id=\"line2d_8\">\n      <g>\n       <use style=\"stroke:#000000;stroke-width:0.8;\" x=\"401.411555\" xlink:href=\"#m0e5a88391e\" y=\"294.118125\"/>\n      </g>\n     </g>\n     <g id=\"text_8\">\n      <!-- Anime -->\n      <g transform=\"translate(404.17093 332.968125)rotate(-90)scale(0.1 -0.1)\">\n       <defs>\n        <path d=\"M 52 44.1875 \nQ 55.375 50.25 60.0625 53.125 \nQ 64.75 56 71.09375 56 \nQ 79.640625 56 84.28125 50.015625 \nQ 88.921875 44.046875 88.921875 33.015625 \nL 88.921875 0 \nL 79.890625 0 \nL 79.890625 32.71875 \nQ 79.890625 40.578125 77.09375 44.375 \nQ 74.3125 48.1875 68.609375 48.1875 \nQ 61.625 48.1875 57.5625 43.546875 \nQ 53.515625 38.921875 53.515625 30.90625 \nL 53.515625 0 \nL 44.484375 0 \nL 44.484375 32.71875 \nQ 44.484375 40.625 41.703125 44.40625 \nQ 38.921875 48.1875 33.109375 48.1875 \nQ 26.21875 48.1875 22.15625 43.53125 \nQ 18.109375 38.875 18.109375 30.90625 \nL 18.109375 0 \nL 9.078125 0 \nL 9.078125 54.6875 \nL 18.109375 54.6875 \nL 18.109375 46.1875 \nQ 21.1875 51.21875 25.484375 53.609375 \nQ 29.78125 56 35.6875 56 \nQ 41.65625 56 45.828125 52.96875 \nQ 50 49.953125 52 44.1875 \nz\n\" id=\"DejaVuSans-109\"/>\n       </defs>\n       <use xlink:href=\"#DejaVuSans-65\"/>\n       <use x=\"68.408203\" xlink:href=\"#DejaVuSans-110\"/>\n       <use x=\"131.787109\" xlink:href=\"#DejaVuSans-105\"/>\n       <use x=\"159.570312\" xlink:href=\"#DejaVuSans-109\"/>\n       <use x=\"256.982422\" xlink:href=\"#DejaVuSans-101\"/>\n      </g>\n     </g>\n    </g>\n    <g id=\"xtick_9\">\n     <g id=\"line2d_9\">\n      <g>\n       <use style=\"stroke:#000000;stroke-width:0.8;\" x=\"440.735022\" xlink:href=\"#m0e5a88391e\" y=\"294.118125\"/>\n      </g>\n     </g>\n     <g id=\"text_9\">\n      <!-- Folk -->\n      <g transform=\"translate(443.494397 321.194687)rotate(-90)scale(0.1 -0.1)\">\n       <defs>\n        <path d=\"M 9.8125 72.90625 \nL 51.703125 72.90625 \nL 51.703125 64.59375 \nL 19.671875 64.59375 \nL 19.671875 43.109375 \nL 48.578125 43.109375 \nL 48.578125 34.8125 \nL 19.671875 34.8125 \nL 19.671875 0 \nL 9.8125 0 \nz\n\" id=\"DejaVuSans-70\"/>\n        <path d=\"M 9.078125 75.984375 \nL 18.109375 75.984375 \nL 18.109375 31.109375 \nL 44.921875 54.6875 \nL 56.390625 54.6875 \nL 27.390625 29.109375 \nL 57.625 0 \nL 45.90625 0 \nL 18.109375 26.703125 \nL 18.109375 0 \nL 9.078125 0 \nz\n\" id=\"DejaVuSans-107\"/>\n       </defs>\n       <use xlink:href=\"#DejaVuSans-70\"/>\n       <use x=\"53.894531\" xlink:href=\"#DejaVuSans-111\"/>\n       <use x=\"115.076172\" xlink:href=\"#DejaVuSans-108\"/>\n       <use x=\"142.859375\" xlink:href=\"#DejaVuSans-107\"/>\n      </g>\n     </g>\n    </g>\n    <g id=\"xtick_10\">\n     <g id=\"line2d_10\">\n      <g>\n       <use style=\"stroke:#000000;stroke-width:0.8;\" x=\"480.05849\" xlink:href=\"#m0e5a88391e\" y=\"294.118125\"/>\n      </g>\n     </g>\n     <g id=\"text_10\">\n      <!-- Blues -->\n      <g transform=\"translate(482.817865 328.457188)rotate(-90)scale(0.1 -0.1)\">\n       <defs>\n        <path d=\"M 44.28125 53.078125 \nL 44.28125 44.578125 \nQ 40.484375 46.53125 36.375 47.5 \nQ 32.28125 48.484375 27.875 48.484375 \nQ 21.1875 48.484375 17.84375 46.4375 \nQ 14.5 44.390625 14.5 40.28125 \nQ 14.5 37.15625 16.890625 35.375 \nQ 19.28125 33.59375 26.515625 31.984375 \nL 29.59375 31.296875 \nQ 39.15625 29.25 43.1875 25.515625 \nQ 47.21875 21.78125 47.21875 15.09375 \nQ 47.21875 7.46875 41.1875 3.015625 \nQ 35.15625 -1.421875 24.609375 -1.421875 \nQ 20.21875 -1.421875 15.453125 -0.5625 \nQ 10.6875 0.296875 5.421875 2 \nL 5.421875 11.28125 \nQ 10.40625 8.6875 15.234375 7.390625 \nQ 20.0625 6.109375 24.8125 6.109375 \nQ 31.15625 6.109375 34.5625 8.28125 \nQ 37.984375 10.453125 37.984375 14.40625 \nQ 37.984375 18.0625 35.515625 20.015625 \nQ 33.0625 21.96875 24.703125 23.78125 \nL 21.578125 24.515625 \nQ 13.234375 26.265625 9.515625 29.90625 \nQ 5.8125 33.546875 5.8125 39.890625 \nQ 5.8125 47.609375 11.28125 51.796875 \nQ 16.75 56 26.8125 56 \nQ 31.78125 56 36.171875 55.265625 \nQ 40.578125 54.546875 44.28125 53.078125 \nz\n\" id=\"DejaVuSans-115\"/>\n       </defs>\n       <use xlink:href=\"#DejaVuSans-66\"/>\n       <use x=\"68.603516\" xlink:href=\"#DejaVuSans-108\"/>\n       <use x=\"96.386719\" xlink:href=\"#DejaVuSans-117\"/>\n       <use x=\"159.765625\" xlink:href=\"#DejaVuSans-101\"/>\n       <use x=\"221.289062\" xlink:href=\"#DejaVuSans-115\"/>\n      </g>\n     </g>\n    </g>\n    <g id=\"xtick_11\">\n     <g id=\"line2d_11\">\n      <g>\n       <use style=\"stroke:#000000;stroke-width:0.8;\" x=\"519.381957\" xlink:href=\"#m0e5a88391e\" y=\"294.118125\"/>\n      </g>\n     </g>\n     <g id=\"text_11\">\n      <!-- Opera -->\n      <g transform=\"translate(522.141332 331.730625)rotate(-90)scale(0.1 -0.1)\">\n       <defs>\n        <path d=\"M 39.40625 66.21875 \nQ 28.65625 66.21875 22.328125 58.203125 \nQ 16.015625 50.203125 16.015625 36.375 \nQ 16.015625 22.609375 22.328125 14.59375 \nQ 28.65625 6.59375 39.40625 6.59375 \nQ 50.140625 6.59375 56.421875 14.59375 \nQ 62.703125 22.609375 62.703125 36.375 \nQ 62.703125 50.203125 56.421875 58.203125 \nQ 50.140625 66.21875 39.40625 66.21875 \nz\nM 39.40625 74.21875 \nQ 54.734375 74.21875 63.90625 63.9375 \nQ 73.09375 53.65625 73.09375 36.375 \nQ 73.09375 19.140625 63.90625 8.859375 \nQ 54.734375 -1.421875 39.40625 -1.421875 \nQ 24.03125 -1.421875 14.8125 8.828125 \nQ 5.609375 19.09375 5.609375 36.375 \nQ 5.609375 53.65625 14.8125 63.9375 \nQ 24.03125 74.21875 39.40625 74.21875 \nz\n\" id=\"DejaVuSans-79\"/>\n       </defs>\n       <use xlink:href=\"#DejaVuSans-79\"/>\n       <use x=\"78.710938\" xlink:href=\"#DejaVuSans-112\"/>\n       <use x=\"142.1875\" xlink:href=\"#DejaVuSans-101\"/>\n       <use x=\"203.710938\" xlink:href=\"#DejaVuSans-114\"/>\n       <use x=\"244.824219\" xlink:href=\"#DejaVuSans-97\"/>\n      </g>\n     </g>\n    </g>\n    <g id=\"xtick_12\">\n     <g id=\"line2d_12\">\n      <g>\n       <use style=\"stroke:#000000;stroke-width:0.8;\" x=\"558.705424\" xlink:href=\"#m0e5a88391e\" y=\"294.118125\"/>\n      </g>\n     </g>\n     <g id=\"text_12\">\n      <!-- Hip-Hop -->\n      <g transform=\"translate(561.464799 341.360313)rotate(-90)scale(0.1 -0.1)\">\n       <defs>\n        <path d=\"M 9.8125 72.90625 \nL 19.671875 72.90625 \nL 19.671875 43.015625 \nL 55.515625 43.015625 \nL 55.515625 72.90625 \nL 65.375 72.90625 \nL 65.375 0 \nL 55.515625 0 \nL 55.515625 34.71875 \nL 19.671875 34.71875 \nL 19.671875 0 \nL 9.8125 0 \nz\n\" id=\"DejaVuSans-72\"/>\n        <path d=\"M 4.890625 31.390625 \nL 31.203125 31.390625 \nL 31.203125 23.390625 \nL 4.890625 23.390625 \nz\n\" id=\"DejaVuSans-45\"/>\n       </defs>\n       <use xlink:href=\"#DejaVuSans-72\"/>\n       <use x=\"75.195312\" xlink:href=\"#DejaVuSans-105\"/>\n       <use x=\"102.978516\" xlink:href=\"#DejaVuSans-112\"/>\n       <use x=\"166.455078\" xlink:href=\"#DejaVuSans-45\"/>\n       <use x=\"202.539062\" xlink:href=\"#DejaVuSans-72\"/>\n       <use x=\"277.734375\" xlink:href=\"#DejaVuSans-111\"/>\n       <use x=\"338.916016\" xlink:href=\"#DejaVuSans-112\"/>\n      </g>\n     </g>\n    </g>\n    <g id=\"xtick_13\">\n     <g id=\"line2d_13\">\n      <g>\n       <use style=\"stroke:#000000;stroke-width:0.8;\" x=\"598.028891\" xlink:href=\"#m0e5a88391e\" y=\"294.118125\"/>\n      </g>\n     </g>\n     <g id=\"text_13\">\n      <!-- Children's Music -->\n      <g transform=\"translate(600.788266 382.307187)rotate(-90)scale(0.1 -0.1)\">\n       <defs>\n        <path d=\"M 54.890625 33.015625 \nL 54.890625 0 \nL 45.90625 0 \nL 45.90625 32.71875 \nQ 45.90625 40.484375 42.875 44.328125 \nQ 39.84375 48.1875 33.796875 48.1875 \nQ 26.515625 48.1875 22.3125 43.546875 \nQ 18.109375 38.921875 18.109375 30.90625 \nL 18.109375 0 \nL 9.078125 0 \nL 9.078125 75.984375 \nL 18.109375 75.984375 \nL 18.109375 46.1875 \nQ 21.34375 51.125 25.703125 53.5625 \nQ 30.078125 56 35.796875 56 \nQ 45.21875 56 50.046875 50.171875 \nQ 54.890625 44.34375 54.890625 33.015625 \nz\n\" id=\"DejaVuSans-104\"/>\n        <path d=\"M 45.40625 46.390625 \nL 45.40625 75.984375 \nL 54.390625 75.984375 \nL 54.390625 0 \nL 45.40625 0 \nL 45.40625 8.203125 \nQ 42.578125 3.328125 38.25 0.953125 \nQ 33.9375 -1.421875 27.875 -1.421875 \nQ 17.96875 -1.421875 11.734375 6.484375 \nQ 5.515625 14.40625 5.515625 27.296875 \nQ 5.515625 40.1875 11.734375 48.09375 \nQ 17.96875 56 27.875 56 \nQ 33.9375 56 38.25 53.625 \nQ 42.578125 51.265625 45.40625 46.390625 \nz\nM 14.796875 27.296875 \nQ 14.796875 17.390625 18.875 11.75 \nQ 22.953125 6.109375 30.078125 6.109375 \nQ 37.203125 6.109375 41.296875 11.75 \nQ 45.40625 17.390625 45.40625 27.296875 \nQ 45.40625 37.203125 41.296875 42.84375 \nQ 37.203125 48.484375 30.078125 48.484375 \nQ 22.953125 48.484375 18.875 42.84375 \nQ 14.796875 37.203125 14.796875 27.296875 \nz\n\" id=\"DejaVuSans-100\"/>\n        <path d=\"M 17.921875 72.90625 \nL 17.921875 45.796875 \nL 9.625 45.796875 \nL 9.625 72.90625 \nz\n\" id=\"DejaVuSans-39\"/>\n       </defs>\n       <use xlink:href=\"#DejaVuSans-67\"/>\n       <use x=\"69.824219\" xlink:href=\"#DejaVuSans-104\"/>\n       <use x=\"133.203125\" xlink:href=\"#DejaVuSans-105\"/>\n       <use x=\"160.986328\" xlink:href=\"#DejaVuSans-108\"/>\n       <use x=\"188.769531\" xlink:href=\"#DejaVuSans-100\"/>\n       <use x=\"252.246094\" xlink:href=\"#DejaVuSans-114\"/>\n       <use x=\"291.109375\" xlink:href=\"#DejaVuSans-101\"/>\n       <use x=\"352.632812\" xlink:href=\"#DejaVuSans-110\"/>\n       <use x=\"416.011719\" xlink:href=\"#DejaVuSans-39\"/>\n       <use x=\"443.501953\" xlink:href=\"#DejaVuSans-115\"/>\n       <use x=\"495.601562\" xlink:href=\"#DejaVuSans-32\"/>\n       <use x=\"527.388672\" xlink:href=\"#DejaVuSans-77\"/>\n       <use x=\"613.667969\" xlink:href=\"#DejaVuSans-117\"/>\n       <use x=\"677.046875\" xlink:href=\"#DejaVuSans-115\"/>\n       <use x=\"729.146484\" xlink:href=\"#DejaVuSans-105\"/>\n       <use x=\"756.929688\" xlink:href=\"#DejaVuSans-99\"/>\n      </g>\n     </g>\n    </g>\n    <g id=\"xtick_14\">\n     <g id=\"line2d_14\">\n      <g>\n       <use style=\"stroke:#000000;stroke-width:0.8;\" x=\"637.352359\" xlink:href=\"#m0e5a88391e\" y=\"294.118125\"/>\n      </g>\n     </g>\n     <g id=\"text_14\">\n      <!-- Rap -->\n      <g transform=\"translate(640.111734 320.318125)rotate(-90)scale(0.1 -0.1)\">\n       <use xlink:href=\"#DejaVuSans-82\"/>\n       <use x=\"67.232422\" xlink:href=\"#DejaVuSans-97\"/>\n       <use x=\"128.511719\" xlink:href=\"#DejaVuSans-112\"/>\n      </g>\n     </g>\n    </g>\n    <g id=\"xtick_15\">\n     <g id=\"line2d_15\">\n      <g>\n       <use style=\"stroke:#000000;stroke-width:0.8;\" x=\"676.675826\" xlink:href=\"#m0e5a88391e\" y=\"294.118125\"/>\n      </g>\n     </g>\n     <g id=\"text_15\">\n      <!-- Indie -->\n      <g transform=\"translate(679.435201 325.685313)rotate(-90)scale(0.1 -0.1)\">\n       <defs>\n        <path d=\"M 9.8125 72.90625 \nL 19.671875 72.90625 \nL 19.671875 0 \nL 9.8125 0 \nz\n\" id=\"DejaVuSans-73\"/>\n       </defs>\n       <use xlink:href=\"#DejaVuSans-73\"/>\n       <use x=\"29.492188\" xlink:href=\"#DejaVuSans-110\"/>\n       <use x=\"92.871094\" xlink:href=\"#DejaVuSans-100\"/>\n       <use x=\"156.347656\" xlink:href=\"#DejaVuSans-105\"/>\n       <use x=\"184.130859\" xlink:href=\"#DejaVuSans-101\"/>\n      </g>\n     </g>\n    </g>\n    <g id=\"xtick_16\">\n     <g id=\"line2d_16\">\n      <g>\n       <use style=\"stroke:#000000;stroke-width:0.8;\" x=\"715.999293\" xlink:href=\"#m0e5a88391e\" y=\"294.118125\"/>\n      </g>\n     </g>\n     <g id=\"text_16\">\n      <!-- Classical -->\n      <g transform=\"translate(718.758668 344.60875)rotate(-90)scale(0.1 -0.1)\">\n       <use xlink:href=\"#DejaVuSans-67\"/>\n       <use x=\"69.824219\" xlink:href=\"#DejaVuSans-108\"/>\n       <use x=\"97.607422\" xlink:href=\"#DejaVuSans-97\"/>\n       <use x=\"158.886719\" xlink:href=\"#DejaVuSans-115\"/>\n       <use x=\"210.986328\" xlink:href=\"#DejaVuSans-115\"/>\n       <use x=\"263.085938\" xlink:href=\"#DejaVuSans-105\"/>\n       <use x=\"290.869141\" xlink:href=\"#DejaVuSans-99\"/>\n       <use x=\"345.849609\" xlink:href=\"#DejaVuSans-97\"/>\n       <use x=\"407.128906\" xlink:href=\"#DejaVuSans-108\"/>\n      </g>\n     </g>\n    </g>\n    <g id=\"xtick_17\">\n     <g id=\"line2d_17\">\n      <g>\n       <use style=\"stroke:#000000;stroke-width:0.8;\" x=\"755.32276\" xlink:href=\"#m0e5a88391e\" y=\"294.118125\"/>\n      </g>\n     </g>\n     <g id=\"text_17\">\n      <!-- Pop -->\n      <g transform=\"translate(758.082135 319.2525)rotate(-90)scale(0.1 -0.1)\">\n       <defs>\n        <path d=\"M 19.671875 64.796875 \nL 19.671875 37.40625 \nL 32.078125 37.40625 \nQ 38.96875 37.40625 42.71875 40.96875 \nQ 46.484375 44.53125 46.484375 51.125 \nQ 46.484375 57.671875 42.71875 61.234375 \nQ 38.96875 64.796875 32.078125 64.796875 \nz\nM 9.8125 72.90625 \nL 32.078125 72.90625 \nQ 44.34375 72.90625 50.609375 67.359375 \nQ 56.890625 61.8125 56.890625 51.125 \nQ 56.890625 40.328125 50.609375 34.8125 \nQ 44.34375 29.296875 32.078125 29.296875 \nL 19.671875 29.296875 \nL 19.671875 0 \nL 9.8125 0 \nz\n\" id=\"DejaVuSans-80\"/>\n       </defs>\n       <use xlink:href=\"#DejaVuSans-80\"/>\n       <use x=\"56.677734\" xlink:href=\"#DejaVuSans-111\"/>\n       <use x=\"117.859375\" xlink:href=\"#DejaVuSans-112\"/>\n      </g>\n     </g>\n    </g>\n    <g id=\"xtick_18\">\n     <g id=\"line2d_18\">\n      <g>\n       <use style=\"stroke:#000000;stroke-width:0.8;\" x=\"794.646228\" xlink:href=\"#m0e5a88391e\" y=\"294.118125\"/>\n      </g>\n     </g>\n     <g id=\"text_18\">\n      <!-- Reggae -->\n      <g transform=\"translate(797.405603 338.747813)rotate(-90)scale(0.1 -0.1)\">\n       <defs>\n        <path d=\"M 45.40625 27.984375 \nQ 45.40625 37.75 41.375 43.109375 \nQ 37.359375 48.484375 30.078125 48.484375 \nQ 22.859375 48.484375 18.828125 43.109375 \nQ 14.796875 37.75 14.796875 27.984375 \nQ 14.796875 18.265625 18.828125 12.890625 \nQ 22.859375 7.515625 30.078125 7.515625 \nQ 37.359375 7.515625 41.375 12.890625 \nQ 45.40625 18.265625 45.40625 27.984375 \nz\nM 54.390625 6.78125 \nQ 54.390625 -7.171875 48.1875 -13.984375 \nQ 42 -20.796875 29.203125 -20.796875 \nQ 24.46875 -20.796875 20.265625 -20.09375 \nQ 16.0625 -19.390625 12.109375 -17.921875 \nL 12.109375 -9.1875 \nQ 16.0625 -11.328125 19.921875 -12.34375 \nQ 23.78125 -13.375 27.78125 -13.375 \nQ 36.625 -13.375 41.015625 -8.765625 \nQ 45.40625 -4.15625 45.40625 5.171875 \nL 45.40625 9.625 \nQ 42.625 4.78125 38.28125 2.390625 \nQ 33.9375 0 27.875 0 \nQ 17.828125 0 11.671875 7.65625 \nQ 5.515625 15.328125 5.515625 27.984375 \nQ 5.515625 40.671875 11.671875 48.328125 \nQ 17.828125 56 27.875 56 \nQ 33.9375 56 38.28125 53.609375 \nQ 42.625 51.21875 45.40625 46.390625 \nL 45.40625 54.6875 \nL 54.390625 54.6875 \nz\n\" id=\"DejaVuSans-103\"/>\n       </defs>\n       <use xlink:href=\"#DejaVuSans-82\"/>\n       <use x=\"64.982422\" xlink:href=\"#DejaVuSans-101\"/>\n       <use x=\"126.505859\" xlink:href=\"#DejaVuSans-103\"/>\n       <use x=\"189.982422\" xlink:href=\"#DejaVuSans-103\"/>\n       <use x=\"253.458984\" xlink:href=\"#DejaVuSans-97\"/>\n       <use x=\"314.738281\" xlink:href=\"#DejaVuSans-101\"/>\n      </g>\n     </g>\n    </g>\n    <g id=\"xtick_19\">\n     <g id=\"line2d_19\">\n      <g>\n       <use style=\"stroke:#000000;stroke-width:0.8;\" x=\"833.969695\" xlink:href=\"#m0e5a88391e\" y=\"294.118125\"/>\n      </g>\n     </g>\n     <g id=\"text_19\">\n      <!-- Reggaeton -->\n      <g transform=\"translate(836.72907 355.124375)rotate(-90)scale(0.1 -0.1)\">\n       <use xlink:href=\"#DejaVuSans-82\"/>\n       <use x=\"64.982422\" xlink:href=\"#DejaVuSans-101\"/>\n       <use x=\"126.505859\" xlink:href=\"#DejaVuSans-103\"/>\n       <use x=\"189.982422\" xlink:href=\"#DejaVuSans-103\"/>\n       <use x=\"253.458984\" xlink:href=\"#DejaVuSans-97\"/>\n       <use x=\"314.738281\" xlink:href=\"#DejaVuSans-101\"/>\n       <use x=\"376.261719\" xlink:href=\"#DejaVuSans-116\"/>\n       <use x=\"415.470703\" xlink:href=\"#DejaVuSans-111\"/>\n       <use x=\"476.652344\" xlink:href=\"#DejaVuSans-110\"/>\n      </g>\n     </g>\n    </g>\n    <g id=\"xtick_20\">\n     <g id=\"line2d_20\">\n      <g>\n       <use style=\"stroke:#000000;stroke-width:0.8;\" x=\"873.293162\" xlink:href=\"#m0e5a88391e\" y=\"294.118125\"/>\n      </g>\n     </g>\n     <g id=\"text_20\">\n      <!-- Jazz -->\n      <g transform=\"translate(876.052537 320.693125)rotate(-90)scale(0.1 -0.1)\">\n       <defs>\n        <path d=\"M 9.8125 72.90625 \nL 19.671875 72.90625 \nL 19.671875 5.078125 \nQ 19.671875 -8.109375 14.671875 -14.0625 \nQ 9.671875 -20.015625 -1.421875 -20.015625 \nL -5.171875 -20.015625 \nL -5.171875 -11.71875 \nL -2.09375 -11.71875 \nQ 4.4375 -11.71875 7.125 -8.046875 \nQ 9.8125 -4.390625 9.8125 5.078125 \nz\n\" id=\"DejaVuSans-74\"/>\n        <path d=\"M 5.515625 54.6875 \nL 48.1875 54.6875 \nL 48.1875 46.484375 \nL 14.40625 7.171875 \nL 48.1875 7.171875 \nL 48.1875 0 \nL 4.296875 0 \nL 4.296875 8.203125 \nL 38.09375 47.515625 \nL 5.515625 47.515625 \nz\n\" id=\"DejaVuSans-122\"/>\n       </defs>\n       <use xlink:href=\"#DejaVuSans-74\"/>\n       <use x=\"29.492188\" xlink:href=\"#DejaVuSans-97\"/>\n       <use x=\"90.771484\" xlink:href=\"#DejaVuSans-122\"/>\n       <use x=\"143.261719\" xlink:href=\"#DejaVuSans-122\"/>\n      </g>\n     </g>\n    </g>\n    <g id=\"xtick_21\">\n     <g id=\"line2d_21\">\n      <g>\n       <use style=\"stroke:#000000;stroke-width:0.8;\" x=\"912.616629\" xlink:href=\"#m0e5a88391e\" y=\"294.118125\"/>\n      </g>\n     </g>\n     <g id=\"text_21\">\n      <!-- Rock -->\n      <g transform=\"translate(915.376004 325.024375)rotate(-90)scale(0.1 -0.1)\">\n       <use xlink:href=\"#DejaVuSans-82\"/>\n       <use x=\"64.982422\" xlink:href=\"#DejaVuSans-111\"/>\n       <use x=\"126.164062\" xlink:href=\"#DejaVuSans-99\"/>\n       <use x=\"181.144531\" xlink:href=\"#DejaVuSans-107\"/>\n      </g>\n     </g>\n    </g>\n    <g id=\"xtick_22\">\n     <g id=\"line2d_22\">\n      <g>\n       <use style=\"stroke:#000000;stroke-width:0.8;\" x=\"951.940096\" xlink:href=\"#m0e5a88391e\" y=\"294.118125\"/>\n      </g>\n     </g>\n     <g id=\"text_22\">\n      <!-- Ska -->\n      <g transform=\"translate(954.699471 319.210312)rotate(-90)scale(0.1 -0.1)\">\n       <defs>\n        <path d=\"M 53.515625 70.515625 \nL 53.515625 60.890625 \nQ 47.90625 63.578125 42.921875 64.890625 \nQ 37.9375 66.21875 33.296875 66.21875 \nQ 25.25 66.21875 20.875 63.09375 \nQ 16.5 59.96875 16.5 54.203125 \nQ 16.5 49.359375 19.40625 46.890625 \nQ 22.3125 44.4375 30.421875 42.921875 \nL 36.375 41.703125 \nQ 47.40625 39.59375 52.65625 34.296875 \nQ 57.90625 29 57.90625 20.125 \nQ 57.90625 9.515625 50.796875 4.046875 \nQ 43.703125 -1.421875 29.984375 -1.421875 \nQ 24.8125 -1.421875 18.96875 -0.25 \nQ 13.140625 0.921875 6.890625 3.21875 \nL 6.890625 13.375 \nQ 12.890625 10.015625 18.65625 8.296875 \nQ 24.421875 6.59375 29.984375 6.59375 \nQ 38.421875 6.59375 43.015625 9.90625 \nQ 47.609375 13.234375 47.609375 19.390625 \nQ 47.609375 24.75 44.3125 27.78125 \nQ 41.015625 30.8125 33.5 32.328125 \nL 27.484375 33.5 \nQ 16.453125 35.6875 11.515625 40.375 \nQ 6.59375 45.0625 6.59375 53.421875 \nQ 6.59375 63.09375 13.40625 68.65625 \nQ 20.21875 74.21875 32.171875 74.21875 \nQ 37.3125 74.21875 42.625 73.28125 \nQ 47.953125 72.359375 53.515625 70.515625 \nz\n\" id=\"DejaVuSans-83\"/>\n       </defs>\n       <use xlink:href=\"#DejaVuSans-83\"/>\n       <use x=\"63.476562\" xlink:href=\"#DejaVuSans-107\"/>\n       <use x=\"119.636719\" xlink:href=\"#DejaVuSans-97\"/>\n      </g>\n     </g>\n    </g>\n    <g id=\"xtick_23\">\n     <g id=\"line2d_23\">\n      <g>\n       <use style=\"stroke:#000000;stroke-width:0.8;\" x=\"991.263564\" xlink:href=\"#m0e5a88391e\" y=\"294.118125\"/>\n      </g>\n     </g>\n     <g id=\"text_23\">\n      <!-- Comedy -->\n      <g transform=\"translate(994.022939 342.380625)rotate(-90)scale(0.1 -0.1)\">\n       <use xlink:href=\"#DejaVuSans-67\"/>\n       <use x=\"69.824219\" xlink:href=\"#DejaVuSans-111\"/>\n       <use x=\"131.005859\" xlink:href=\"#DejaVuSans-109\"/>\n       <use x=\"228.417969\" xlink:href=\"#DejaVuSans-101\"/>\n       <use x=\"289.941406\" xlink:href=\"#DejaVuSans-100\"/>\n       <use x=\"353.417969\" xlink:href=\"#DejaVuSans-121\"/>\n      </g>\n     </g>\n    </g>\n    <g id=\"xtick_24\">\n     <g id=\"line2d_24\">\n      <g>\n       <use style=\"stroke:#000000;stroke-width:0.8;\" x=\"1030.587031\" xlink:href=\"#m0e5a88391e\" y=\"294.118125\"/>\n      </g>\n     </g>\n     <g id=\"text_24\">\n      <!-- Soul -->\n      <g transform=\"translate(1033.346406 322.700938)rotate(-90)scale(0.1 -0.1)\">\n       <use xlink:href=\"#DejaVuSans-83\"/>\n       <use x=\"63.476562\" xlink:href=\"#DejaVuSans-111\"/>\n       <use x=\"124.658203\" xlink:href=\"#DejaVuSans-117\"/>\n       <use x=\"188.037109\" xlink:href=\"#DejaVuSans-108\"/>\n      </g>\n     </g>\n    </g>\n    <g id=\"xtick_25\">\n     <g id=\"line2d_25\">\n      <g>\n       <use style=\"stroke:#000000;stroke-width:0.8;\" x=\"1069.910498\" xlink:href=\"#m0e5a88391e\" y=\"294.118125\"/>\n      </g>\n     </g>\n     <g id=\"text_25\">\n      <!-- Soundtrack -->\n      <g transform=\"translate(1072.669873 358.057187)rotate(-90)scale(0.1 -0.1)\">\n       <use xlink:href=\"#DejaVuSans-83\"/>\n       <use x=\"63.476562\" xlink:href=\"#DejaVuSans-111\"/>\n       <use x=\"124.658203\" xlink:href=\"#DejaVuSans-117\"/>\n       <use x=\"188.037109\" xlink:href=\"#DejaVuSans-110\"/>\n       <use x=\"251.416016\" xlink:href=\"#DejaVuSans-100\"/>\n       <use x=\"314.892578\" xlink:href=\"#DejaVuSans-116\"/>\n       <use x=\"354.101562\" xlink:href=\"#DejaVuSans-114\"/>\n       <use x=\"395.214844\" xlink:href=\"#DejaVuSans-97\"/>\n       <use x=\"456.494141\" xlink:href=\"#DejaVuSans-99\"/>\n       <use x=\"511.474609\" xlink:href=\"#DejaVuSans-107\"/>\n      </g>\n     </g>\n    </g>\n    <g id=\"xtick_26\">\n     <g id=\"line2d_26\">\n      <g>\n       <use style=\"stroke:#000000;stroke-width:0.8;\" x=\"1109.233965\" xlink:href=\"#m0e5a88391e\" y=\"294.118125\"/>\n      </g>\n     </g>\n     <g id=\"text_26\">\n      <!-- World -->\n      <g transform=\"translate(1111.99334 329.774375)rotate(-90)scale(0.1 -0.1)\">\n       <defs>\n        <path d=\"M 3.328125 72.90625 \nL 13.28125 72.90625 \nL 28.609375 11.28125 \nL 43.890625 72.90625 \nL 54.984375 72.90625 \nL 70.3125 11.28125 \nL 85.59375 72.90625 \nL 95.609375 72.90625 \nL 77.296875 0 \nL 64.890625 0 \nL 49.515625 63.28125 \nL 33.984375 0 \nL 21.578125 0 \nz\n\" id=\"DejaVuSans-87\"/>\n       </defs>\n       <use xlink:href=\"#DejaVuSans-87\"/>\n       <use x=\"93.001953\" xlink:href=\"#DejaVuSans-111\"/>\n       <use x=\"154.183594\" xlink:href=\"#DejaVuSans-114\"/>\n       <use x=\"195.296875\" xlink:href=\"#DejaVuSans-108\"/>\n       <use x=\"223.080078\" xlink:href=\"#DejaVuSans-100\"/>\n      </g>\n     </g>\n    </g>\n    <g id=\"text_27\">\n     <!-- Genre -->\n     <g transform=\"translate(602.551563 393.905625)scale(0.1 -0.1)\">\n      <defs>\n       <path d=\"M 59.515625 10.40625 \nL 59.515625 29.984375 \nL 43.40625 29.984375 \nL 43.40625 38.09375 \nL 69.28125 38.09375 \nL 69.28125 6.78125 \nQ 63.578125 2.734375 56.6875 0.65625 \nQ 49.8125 -1.421875 42 -1.421875 \nQ 24.90625 -1.421875 15.25 8.5625 \nQ 5.609375 18.5625 5.609375 36.375 \nQ 5.609375 54.25 15.25 64.234375 \nQ 24.90625 74.21875 42 74.21875 \nQ 49.125 74.21875 55.546875 72.453125 \nQ 61.96875 70.703125 67.390625 67.28125 \nL 67.390625 56.78125 \nQ 61.921875 61.421875 55.765625 63.765625 \nQ 49.609375 66.109375 42.828125 66.109375 \nQ 29.4375 66.109375 22.71875 58.640625 \nQ 16.015625 51.171875 16.015625 36.375 \nQ 16.015625 21.625 22.71875 14.15625 \nQ 29.4375 6.6875 42.828125 6.6875 \nQ 48.046875 6.6875 52.140625 7.59375 \nQ 56.25 8.5 59.515625 10.40625 \nz\n\" id=\"DejaVuSans-71\"/>\n      </defs>\n      <use xlink:href=\"#DejaVuSans-71\"/>\n      <use x=\"77.490234\" xlink:href=\"#DejaVuSans-101\"/>\n      <use x=\"139.013672\" xlink:href=\"#DejaVuSans-110\"/>\n      <use x=\"202.392578\" xlink:href=\"#DejaVuSans-114\"/>\n      <use x=\"241.255859\" xlink:href=\"#DejaVuSans-101\"/>\n     </g>\n    </g>\n   </g>\n   <g id=\"matplotlib.axis_2\">\n    <g id=\"ytick_1\">\n     <g id=\"line2d_27\">\n      <defs>\n       <path d=\"M 0 0 \nL -3.5 0 \n\" id=\"mf465e71d61\" style=\"stroke:#000000;stroke-width:0.8;\"/>\n      </defs>\n      <g>\n       <use style=\"stroke:#000000;stroke-width:0.8;\" x=\"59.690625\" xlink:href=\"#mf465e71d61\" y=\"294.118125\"/>\n      </g>\n     </g>\n     <g id=\"text_28\">\n      <!-- 0 -->\n      <g transform=\"translate(46.328125 297.917344)scale(0.1 -0.1)\">\n       <defs>\n        <path d=\"M 31.78125 66.40625 \nQ 24.171875 66.40625 20.328125 58.90625 \nQ 16.5 51.421875 16.5 36.375 \nQ 16.5 21.390625 20.328125 13.890625 \nQ 24.171875 6.390625 31.78125 6.390625 \nQ 39.453125 6.390625 43.28125 13.890625 \nQ 47.125 21.390625 47.125 36.375 \nQ 47.125 51.421875 43.28125 58.90625 \nQ 39.453125 66.40625 31.78125 66.40625 \nz\nM 31.78125 74.21875 \nQ 44.046875 74.21875 50.515625 64.515625 \nQ 56.984375 54.828125 56.984375 36.375 \nQ 56.984375 17.96875 50.515625 8.265625 \nQ 44.046875 -1.421875 31.78125 -1.421875 \nQ 19.53125 -1.421875 13.0625 8.265625 \nQ 6.59375 17.96875 6.59375 36.375 \nQ 6.59375 54.828125 13.0625 64.515625 \nQ 19.53125 74.21875 31.78125 74.21875 \nz\n\" id=\"DejaVuSans-48\"/>\n       </defs>\n       <use xlink:href=\"#DejaVuSans-48\"/>\n      </g>\n     </g>\n    </g>\n    <g id=\"ytick_2\">\n     <g id=\"line2d_28\">\n      <g>\n       <use style=\"stroke:#000000;stroke-width:0.8;\" x=\"59.690625\" xlink:href=\"#mf465e71d61\" y=\"240.602073\"/>\n      </g>\n     </g>\n     <g id=\"text_29\">\n      <!-- 2000 -->\n      <g transform=\"translate(27.240625 244.401292)scale(0.1 -0.1)\">\n       <defs>\n        <path d=\"M 19.1875 8.296875 \nL 53.609375 8.296875 \nL 53.609375 0 \nL 7.328125 0 \nL 7.328125 8.296875 \nQ 12.9375 14.109375 22.625 23.890625 \nQ 32.328125 33.6875 34.8125 36.53125 \nQ 39.546875 41.84375 41.421875 45.53125 \nQ 43.3125 49.21875 43.3125 52.78125 \nQ 43.3125 58.59375 39.234375 62.25 \nQ 35.15625 65.921875 28.609375 65.921875 \nQ 23.96875 65.921875 18.8125 64.3125 \nQ 13.671875 62.703125 7.8125 59.421875 \nL 7.8125 69.390625 \nQ 13.765625 71.78125 18.9375 73 \nQ 24.125 74.21875 28.421875 74.21875 \nQ 39.75 74.21875 46.484375 68.546875 \nQ 53.21875 62.890625 53.21875 53.421875 \nQ 53.21875 48.921875 51.53125 44.890625 \nQ 49.859375 40.875 45.40625 35.40625 \nQ 44.1875 33.984375 37.640625 27.21875 \nQ 31.109375 20.453125 19.1875 8.296875 \nz\n\" id=\"DejaVuSans-50\"/>\n       </defs>\n       <use xlink:href=\"#DejaVuSans-50\"/>\n       <use x=\"63.623047\" xlink:href=\"#DejaVuSans-48\"/>\n       <use x=\"127.246094\" xlink:href=\"#DejaVuSans-48\"/>\n       <use x=\"190.869141\" xlink:href=\"#DejaVuSans-48\"/>\n      </g>\n     </g>\n    </g>\n    <g id=\"ytick_3\">\n     <g id=\"line2d_29\">\n      <g>\n       <use style=\"stroke:#000000;stroke-width:0.8;\" x=\"59.690625\" xlink:href=\"#mf465e71d61\" y=\"187.086021\"/>\n      </g>\n     </g>\n     <g id=\"text_30\">\n      <!-- 4000 -->\n      <g transform=\"translate(27.240625 190.88524)scale(0.1 -0.1)\">\n       <defs>\n        <path d=\"M 37.796875 64.3125 \nL 12.890625 25.390625 \nL 37.796875 25.390625 \nz\nM 35.203125 72.90625 \nL 47.609375 72.90625 \nL 47.609375 25.390625 \nL 58.015625 25.390625 \nL 58.015625 17.1875 \nL 47.609375 17.1875 \nL 47.609375 0 \nL 37.796875 0 \nL 37.796875 17.1875 \nL 4.890625 17.1875 \nL 4.890625 26.703125 \nz\n\" id=\"DejaVuSans-52\"/>\n       </defs>\n       <use xlink:href=\"#DejaVuSans-52\"/>\n       <use x=\"63.623047\" xlink:href=\"#DejaVuSans-48\"/>\n       <use x=\"127.246094\" xlink:href=\"#DejaVuSans-48\"/>\n       <use x=\"190.869141\" xlink:href=\"#DejaVuSans-48\"/>\n      </g>\n     </g>\n    </g>\n    <g id=\"ytick_4\">\n     <g id=\"line2d_30\">\n      <g>\n       <use style=\"stroke:#000000;stroke-width:0.8;\" x=\"59.690625\" xlink:href=\"#mf465e71d61\" y=\"133.569969\"/>\n      </g>\n     </g>\n     <g id=\"text_31\">\n      <!-- 6000 -->\n      <g transform=\"translate(27.240625 137.369188)scale(0.1 -0.1)\">\n       <defs>\n        <path d=\"M 33.015625 40.375 \nQ 26.375 40.375 22.484375 35.828125 \nQ 18.609375 31.296875 18.609375 23.390625 \nQ 18.609375 15.53125 22.484375 10.953125 \nQ 26.375 6.390625 33.015625 6.390625 \nQ 39.65625 6.390625 43.53125 10.953125 \nQ 47.40625 15.53125 47.40625 23.390625 \nQ 47.40625 31.296875 43.53125 35.828125 \nQ 39.65625 40.375 33.015625 40.375 \nz\nM 52.59375 71.296875 \nL 52.59375 62.3125 \nQ 48.875 64.0625 45.09375 64.984375 \nQ 41.3125 65.921875 37.59375 65.921875 \nQ 27.828125 65.921875 22.671875 59.328125 \nQ 17.53125 52.734375 16.796875 39.40625 \nQ 19.671875 43.65625 24.015625 45.921875 \nQ 28.375 48.1875 33.59375 48.1875 \nQ 44.578125 48.1875 50.953125 41.515625 \nQ 57.328125 34.859375 57.328125 23.390625 \nQ 57.328125 12.15625 50.6875 5.359375 \nQ 44.046875 -1.421875 33.015625 -1.421875 \nQ 20.359375 -1.421875 13.671875 8.265625 \nQ 6.984375 17.96875 6.984375 36.375 \nQ 6.984375 53.65625 15.1875 63.9375 \nQ 23.390625 74.21875 37.203125 74.21875 \nQ 40.921875 74.21875 44.703125 73.484375 \nQ 48.484375 72.75 52.59375 71.296875 \nz\n\" id=\"DejaVuSans-54\"/>\n       </defs>\n       <use xlink:href=\"#DejaVuSans-54\"/>\n       <use x=\"63.623047\" xlink:href=\"#DejaVuSans-48\"/>\n       <use x=\"127.246094\" xlink:href=\"#DejaVuSans-48\"/>\n       <use x=\"190.869141\" xlink:href=\"#DejaVuSans-48\"/>\n      </g>\n     </g>\n    </g>\n    <g id=\"ytick_5\">\n     <g id=\"line2d_31\">\n      <g>\n       <use style=\"stroke:#000000;stroke-width:0.8;\" x=\"59.690625\" xlink:href=\"#mf465e71d61\" y=\"80.053918\"/>\n      </g>\n     </g>\n     <g id=\"text_32\">\n      <!-- 8000 -->\n      <g transform=\"translate(27.240625 83.853136)scale(0.1 -0.1)\">\n       <defs>\n        <path d=\"M 31.78125 34.625 \nQ 24.75 34.625 20.71875 30.859375 \nQ 16.703125 27.09375 16.703125 20.515625 \nQ 16.703125 13.921875 20.71875 10.15625 \nQ 24.75 6.390625 31.78125 6.390625 \nQ 38.8125 6.390625 42.859375 10.171875 \nQ 46.921875 13.96875 46.921875 20.515625 \nQ 46.921875 27.09375 42.890625 30.859375 \nQ 38.875 34.625 31.78125 34.625 \nz\nM 21.921875 38.8125 \nQ 15.578125 40.375 12.03125 44.71875 \nQ 8.5 49.078125 8.5 55.328125 \nQ 8.5 64.0625 14.71875 69.140625 \nQ 20.953125 74.21875 31.78125 74.21875 \nQ 42.671875 74.21875 48.875 69.140625 \nQ 55.078125 64.0625 55.078125 55.328125 \nQ 55.078125 49.078125 51.53125 44.71875 \nQ 48 40.375 41.703125 38.8125 \nQ 48.828125 37.15625 52.796875 32.3125 \nQ 56.78125 27.484375 56.78125 20.515625 \nQ 56.78125 9.90625 50.3125 4.234375 \nQ 43.84375 -1.421875 31.78125 -1.421875 \nQ 19.734375 -1.421875 13.25 4.234375 \nQ 6.78125 9.90625 6.78125 20.515625 \nQ 6.78125 27.484375 10.78125 32.3125 \nQ 14.796875 37.15625 21.921875 38.8125 \nz\nM 18.3125 54.390625 \nQ 18.3125 48.734375 21.84375 45.5625 \nQ 25.390625 42.390625 31.78125 42.390625 \nQ 38.140625 42.390625 41.71875 45.5625 \nQ 45.3125 48.734375 45.3125 54.390625 \nQ 45.3125 60.0625 41.71875 63.234375 \nQ 38.140625 66.40625 31.78125 66.40625 \nQ 25.390625 66.40625 21.84375 63.234375 \nQ 18.3125 60.0625 18.3125 54.390625 \nz\n\" id=\"DejaVuSans-56\"/>\n       </defs>\n       <use xlink:href=\"#DejaVuSans-56\"/>\n       <use x=\"63.623047\" xlink:href=\"#DejaVuSans-48\"/>\n       <use x=\"127.246094\" xlink:href=\"#DejaVuSans-48\"/>\n       <use x=\"190.869141\" xlink:href=\"#DejaVuSans-48\"/>\n      </g>\n     </g>\n    </g>\n    <g id=\"ytick_6\">\n     <g id=\"line2d_32\">\n      <g>\n       <use style=\"stroke:#000000;stroke-width:0.8;\" x=\"59.690625\" xlink:href=\"#mf465e71d61\" y=\"26.537866\"/>\n      </g>\n     </g>\n     <g id=\"text_33\">\n      <!-- 10000 -->\n      <g transform=\"translate(20.878125 30.337084)scale(0.1 -0.1)\">\n       <defs>\n        <path d=\"M 12.40625 8.296875 \nL 28.515625 8.296875 \nL 28.515625 63.921875 \nL 10.984375 60.40625 \nL 10.984375 69.390625 \nL 28.421875 72.90625 \nL 38.28125 72.90625 \nL 38.28125 8.296875 \nL 54.390625 8.296875 \nL 54.390625 0 \nL 12.40625 0 \nz\n\" id=\"DejaVuSans-49\"/>\n       </defs>\n       <use xlink:href=\"#DejaVuSans-49\"/>\n       <use x=\"63.623047\" xlink:href=\"#DejaVuSans-48\"/>\n       <use x=\"127.246094\" xlink:href=\"#DejaVuSans-48\"/>\n       <use x=\"190.869141\" xlink:href=\"#DejaVuSans-48\"/>\n       <use x=\"254.492188\" xlink:href=\"#DejaVuSans-48\"/>\n      </g>\n     </g>\n    </g>\n    <g id=\"text_34\">\n     <!-- Occurences -->\n     <g transform=\"translate(14.798438 187.44)rotate(-90)scale(0.1 -0.1)\">\n      <use xlink:href=\"#DejaVuSans-79\"/>\n      <use x=\"78.710938\" xlink:href=\"#DejaVuSans-99\"/>\n      <use x=\"133.691406\" xlink:href=\"#DejaVuSans-99\"/>\n      <use x=\"188.671875\" xlink:href=\"#DejaVuSans-117\"/>\n      <use x=\"252.050781\" xlink:href=\"#DejaVuSans-114\"/>\n      <use x=\"290.914062\" xlink:href=\"#DejaVuSans-101\"/>\n      <use x=\"352.4375\" xlink:href=\"#DejaVuSans-110\"/>\n      <use x=\"415.816406\" xlink:href=\"#DejaVuSans-99\"/>\n      <use x=\"470.796875\" xlink:href=\"#DejaVuSans-101\"/>\n      <use x=\"532.320312\" xlink:href=\"#DejaVuSans-115\"/>\n     </g>\n    </g>\n   </g>\n   <g id=\"patch_29\">\n    <path d=\"M 59.690625 294.118125 \nL 59.690625 22.318125 \n\" style=\"fill:none;stroke:#000000;stroke-linecap:square;stroke-linejoin:miter;stroke-width:0.8;\"/>\n   </g>\n   <g id=\"patch_30\">\n    <path d=\"M 1175.690625 294.118125 \nL 1175.690625 22.318125 \n\" style=\"fill:none;stroke:#000000;stroke-linecap:square;stroke-linejoin:miter;stroke-width:0.8;\"/>\n   </g>\n   <g id=\"patch_31\">\n    <path d=\"M 59.690625 294.118125 \nL 1175.690625 294.118125 \n\" style=\"fill:none;stroke:#000000;stroke-linecap:square;stroke-linejoin:miter;stroke-width:0.8;\"/>\n   </g>\n   <g id=\"patch_32\">\n    <path d=\"M 59.690625 22.318125 \nL 1175.690625 22.318125 \n\" style=\"fill:none;stroke:#000000;stroke-linecap:square;stroke-linejoin:miter;stroke-width:0.8;\"/>\n   </g>\n   <g id=\"text_35\">\n    <!-- Frequencies of Genres -->\n    <g transform=\"translate(550.872188 16.318125)scale(0.12 -0.12)\">\n     <defs>\n      <path d=\"M 14.796875 27.296875 \nQ 14.796875 17.390625 18.875 11.75 \nQ 22.953125 6.109375 30.078125 6.109375 \nQ 37.203125 6.109375 41.296875 11.75 \nQ 45.40625 17.390625 45.40625 27.296875 \nQ 45.40625 37.203125 41.296875 42.84375 \nQ 37.203125 48.484375 30.078125 48.484375 \nQ 22.953125 48.484375 18.875 42.84375 \nQ 14.796875 37.203125 14.796875 27.296875 \nz\nM 45.40625 8.203125 \nQ 42.578125 3.328125 38.25 0.953125 \nQ 33.9375 -1.421875 27.875 -1.421875 \nQ 17.96875 -1.421875 11.734375 6.484375 \nQ 5.515625 14.40625 5.515625 27.296875 \nQ 5.515625 40.1875 11.734375 48.09375 \nQ 17.96875 56 27.875 56 \nQ 33.9375 56 38.25 53.625 \nQ 42.578125 51.265625 45.40625 46.390625 \nL 45.40625 54.6875 \nL 54.390625 54.6875 \nL 54.390625 -20.796875 \nL 45.40625 -20.796875 \nz\n\" id=\"DejaVuSans-113\"/>\n      <path d=\"M 37.109375 75.984375 \nL 37.109375 68.5 \nL 28.515625 68.5 \nQ 23.6875 68.5 21.796875 66.546875 \nQ 19.921875 64.59375 19.921875 59.515625 \nL 19.921875 54.6875 \nL 34.71875 54.6875 \nL 34.71875 47.703125 \nL 19.921875 47.703125 \nL 19.921875 0 \nL 10.890625 0 \nL 10.890625 47.703125 \nL 2.296875 47.703125 \nL 2.296875 54.6875 \nL 10.890625 54.6875 \nL 10.890625 58.5 \nQ 10.890625 67.625 15.140625 71.796875 \nQ 19.390625 75.984375 28.609375 75.984375 \nz\n\" id=\"DejaVuSans-102\"/>\n     </defs>\n     <use xlink:href=\"#DejaVuSans-70\"/>\n     <use x=\"50.269531\" xlink:href=\"#DejaVuSans-114\"/>\n     <use x=\"89.132812\" xlink:href=\"#DejaVuSans-101\"/>\n     <use x=\"150.65625\" xlink:href=\"#DejaVuSans-113\"/>\n     <use x=\"214.132812\" xlink:href=\"#DejaVuSans-117\"/>\n     <use x=\"277.511719\" xlink:href=\"#DejaVuSans-101\"/>\n     <use x=\"339.035156\" xlink:href=\"#DejaVuSans-110\"/>\n     <use x=\"402.414062\" xlink:href=\"#DejaVuSans-99\"/>\n     <use x=\"457.394531\" xlink:href=\"#DejaVuSans-105\"/>\n     <use x=\"485.177734\" xlink:href=\"#DejaVuSans-101\"/>\n     <use x=\"546.701172\" xlink:href=\"#DejaVuSans-115\"/>\n     <use x=\"598.800781\" xlink:href=\"#DejaVuSans-32\"/>\n     <use x=\"630.587891\" xlink:href=\"#DejaVuSans-111\"/>\n     <use x=\"691.769531\" xlink:href=\"#DejaVuSans-102\"/>\n     <use x=\"726.974609\" xlink:href=\"#DejaVuSans-32\"/>\n     <use x=\"758.761719\" xlink:href=\"#DejaVuSans-71\"/>\n     <use x=\"836.251953\" xlink:href=\"#DejaVuSans-101\"/>\n     <use x=\"897.775391\" xlink:href=\"#DejaVuSans-110\"/>\n     <use x=\"961.154297\" xlink:href=\"#DejaVuSans-114\"/>\n     <use x=\"1000.017578\" xlink:href=\"#DejaVuSans-101\"/>\n     <use x=\"1061.541016\" xlink:href=\"#DejaVuSans-115\"/>\n    </g>\n   </g>\n  </g>\n </g>\n <defs>\n  <clipPath id=\"p808caebda3\">\n   <rect height=\"271.8\" width=\"1116\" x=\"59.690625\" y=\"22.318125\"/>\n  </clipPath>\n </defs>\n</svg>\n",
      "image/png": "[encoded data removed]"
     },
     "metadata": {
      "needs_background": "light"
     }
    }
   ],
   "source": [
    "# calculate % of genre affiliation\n",
    "genres = df[\"genre\"].unique()\n",
    "\n",
    "counts = {}\n",
    "\n",
    "for genre in genres:\n",
    "    counts[genre] = df[df[\"genre\"] == genre][\"genre\"].count()\n",
    "\n",
    "# plot the distribution over genres\n",
    "fig = plt.figure(figsize=(20,5))\n",
    "plt.bar(list(counts.keys()), counts.values())\n",
    "plt.title(\"Frequencies of Genres\")\n",
    "plt.xlabel(\"Genre\")\n",
    "plt.xticks(rotation=90)\n",
    "plt.ylabel(\"Occurences\")"
   ]
  },
  {
   "cell_type": "markdown",
   "metadata": {},
   "source": [
    "### feature selection"
   ]
  },
  {
   "cell_type": "markdown",
   "metadata": {},
   "source": [
    "before applying any dimensionality reduction algorithms, we need to decide which features to include in our preprocessed data set\n",
    "\n",
    "problematic features are:\n",
    "- a) key: categorical variable with 12 categories \n",
    "- b) time signature: categorical variable with 5 categories\n",
    "- c) mode: binary categorical variable\n",
    "- d) note that the features artist name, track name and track ID will be moved into an separate auxiliary data set in case this information can be useful at a later stage for manually checking the resulting clusters by using this information  \n",
    "- e) also we need to seperate the labels from the data"
   ]
  },
  {
   "cell_type": "markdown",
   "metadata": {},
   "source": [
    "as we want to avoid one-hote-encoding-related high dimensionality, key and time signature, a) and b), can be dropped ..."
   ]
  },
  {
   "cell_type": "code",
   "execution_count": 12,
   "metadata": {},
   "outputs": [],
   "source": [
    "# dropping key and time signature features\n",
    "df = df.drop([\"key\", \"time_signature\"], axis=1)"
   ]
  },
  {
   "cell_type": "markdown",
   "metadata": {},
   "source": [
    "for the mode, c), however, we can use one-hot-encoding (major is represented by 1 and minor is represented by 0) without adding a new column ... "
   ]
  },
  {
   "cell_type": "code",
   "execution_count": 13,
   "metadata": {},
   "outputs": [],
   "source": [
    "# one-hot-encoding mode feature\n",
    "ohe = pd.get_dummies(df[\"mode\"])\n",
    "ohe = ohe.rename(columns = {\"Major\": \"mode_ohe\"})\n",
    "ohe = ohe[\"mode_ohe\"]\n",
    "ohe\n",
    "\n",
    "# drop original mode feature\n",
    "if \"mode\" in list(df.columns):\n",
    "    del df[\"mode\"]\n",
    "\n",
    "# concatenate one-hot-encoding colum\n",
    "df = pd.concat([df, ohe], axis = 1)"
   ]
  },
  {
   "cell_type": "markdown",
   "metadata": {},
   "source": [
    "now we can move the artist name, track name, track ID (all d)) and genre (e)) to a separate auxiliary data set ..."
   ]
  },
  {
   "cell_type": "code",
   "execution_count": 15,
   "metadata": {},
   "outputs": [],
   "source": [
    "# create separate table with additional information\n",
    "df_aux = df[[\"artist_name\", \"track_name\", \"track_id\", \"genre\"]]\n",
    "\n",
    "# save auxiliary table\n",
    "df_aux.to_csv(\"../Source/auxiliary_data.csv\", index = False)\n",
    "\n",
    "# drop corresponding features, except label\n",
    "df = df.drop([\"artist_name\", \"track_name\", \"track_id\"], axis=1)"
   ]
  },
  {
   "cell_type": "markdown",
   "metadata": {},
   "source": [
    "also we need to separate the label, e), from the data ..."
   ]
  },
  {
   "cell_type": "code",
   "execution_count": 16,
   "metadata": {},
   "outputs": [],
   "source": [
    "# create table for labels\n",
    "labels = df[[\"genre\"]]\n",
    "labels.to_csv(\"../Source/labels.csv\", index = False)\n",
    "\n",
    "# drop labels from data set\n",
    "df = df.drop([\"genre\"], axis=1)"
   ]
  },
  {
   "cell_type": "markdown",
   "metadata": {},
   "source": [
    "### standardization"
   ]
  },
  {
   "cell_type": "markdown",
   "metadata": {},
   "source": [
    "in this step we need to standardize the variables by rescaling them so that they’ll have the properties of a standard normal distribution with $\\mu = 0$ and $\\sigma = 1$ \n",
    "\n",
    "note that we do not touch the binary mode variable (0, 1) as it can be seen as already standardized, more specifically, normalized according to to Min-Max scaling ..."
   ]
  },
  {
   "cell_type": "code",
   "execution_count": 14,
   "metadata": {},
   "outputs": [],
   "source": [
    "# standardization of all continuous variables\n",
    "sc = StandardScaler()\n",
    "cont_var = df.iloc[:,:-1]\n",
    "X = pd.DataFrame(sc.fit_transform(cont_var), columns = cont_var.columns)\n",
    "\n",
    "# concatenate the binary variable\n",
    "X = pd.concat([X, df.iloc[:,-1]], axis = 1)\n",
    "\n",
    "# save preprocessed data\n",
    "X.to_csv(\"data/prepocessed_data.csv\", index = False)"
   ]
  },
  {
   "cell_type": "markdown",
   "metadata": {},
   "source": [
    "now we can take a look at the final preprocessed data ..."
   ]
  },
  {
   "cell_type": "code",
   "execution_count": 15,
   "metadata": {},
   "outputs": [
    {
     "data": {
      "text/html": [
       "<div>\n",
       "<style scoped>\n",
       "    .dataframe tbody tr th:only-of-type {\n",
       "        vertical-align: middle;\n",
       "    }\n",
       "\n",
       "    .dataframe tbody tr th {\n",
       "        vertical-align: top;\n",
       "    }\n",
       "\n",
       "    .dataframe thead th {\n",
       "        text-align: right;\n",
       "    }\n",
       "</style>\n",
       "<table border=\"1\" class=\"dataframe\">\n",
       "  <thead>\n",
       "    <tr style=\"text-align: right;\">\n",
       "      <th></th>\n",
       "      <th>popularity</th>\n",
       "      <th>acousticness</th>\n",
       "      <th>danceability</th>\n",
       "      <th>duration_ms</th>\n",
       "      <th>energy</th>\n",
       "      <th>instrumentalness</th>\n",
       "      <th>liveness</th>\n",
       "      <th>loudness</th>\n",
       "      <th>speechiness</th>\n",
       "      <th>tempo</th>\n",
       "      <th>valence</th>\n",
       "      <th>mode_ohe</th>\n",
       "    </tr>\n",
       "  </thead>\n",
       "  <tbody>\n",
       "    <tr>\n",
       "      <th>0</th>\n",
       "      <td>-2.085747</td>\n",
       "      <td>0.564740</td>\n",
       "      <td>-0.798733</td>\n",
       "      <td>-1.047822</td>\n",
       "      <td>1.279646</td>\n",
       "      <td>-0.532841</td>\n",
       "      <td>0.575611</td>\n",
       "      <td>1.299283</td>\n",
       "      <td>-0.366515</td>\n",
       "      <td>1.588677</td>\n",
       "      <td>1.353170</td>\n",
       "      <td>1</td>\n",
       "    </tr>\n",
       "    <tr>\n",
       "      <th>1</th>\n",
       "      <td>-2.028246</td>\n",
       "      <td>-0.431708</td>\n",
       "      <td>0.257016</td>\n",
       "      <td>-0.756663</td>\n",
       "      <td>0.652467</td>\n",
       "      <td>-0.532841</td>\n",
       "      <td>-0.348444</td>\n",
       "      <td>0.715907</td>\n",
       "      <td>-0.198661</td>\n",
       "      <td>1.813226</td>\n",
       "      <td>1.360637</td>\n",
       "      <td>0</td>\n",
       "    </tr>\n",
       "    <tr>\n",
       "      <th>2</th>\n",
       "      <td>-1.913244</td>\n",
       "      <td>1.495668</td>\n",
       "      <td>0.640447</td>\n",
       "      <td>-0.504626</td>\n",
       "      <td>-1.544471</td>\n",
       "      <td>-0.532841</td>\n",
       "      <td>-0.575904</td>\n",
       "      <td>-0.585001</td>\n",
       "      <td>-0.446282</td>\n",
       "      <td>-0.565544</td>\n",
       "      <td>-0.312134</td>\n",
       "      <td>0</td>\n",
       "    </tr>\n",
       "    <tr>\n",
       "      <th>3</th>\n",
       "      <td>-2.085747</td>\n",
       "      <td>0.815900</td>\n",
       "      <td>-1.581352</td>\n",
       "      <td>-0.641318</td>\n",
       "      <td>-0.837536</td>\n",
       "      <td>-0.532841</td>\n",
       "      <td>-0.597228</td>\n",
       "      <td>-0.319034</td>\n",
       "      <td>-0.430133</td>\n",
       "      <td>1.741558</td>\n",
       "      <td>-0.838608</td>\n",
       "      <td>1</td>\n",
       "    </tr>\n",
       "    <tr>\n",
       "      <th>4</th>\n",
       "      <td>-1.855743</td>\n",
       "      <td>1.490208</td>\n",
       "      <td>-1.103376</td>\n",
       "      <td>-1.176146</td>\n",
       "      <td>-1.203692</td>\n",
       "      <td>-0.151959</td>\n",
       "      <td>-0.106768</td>\n",
       "      <td>-1.721889</td>\n",
       "      <td>-0.400281</td>\n",
       "      <td>0.746124</td>\n",
       "      <td>-0.229989</td>\n",
       "      <td>1</td>\n",
       "    </tr>\n",
       "  </tbody>\n",
       "</table>\n",
       "</div>"
      ],
      "text/plain": [
       "   popularity  acousticness  danceability  duration_ms    energy  \\\n",
       "0   -2.085747      0.564740     -0.798733    -1.047822  1.279646   \n",
       "1   -2.028246     -0.431708      0.257016    -0.756663  0.652467   \n",
       "2   -1.913244      1.495668      0.640447    -0.504626 -1.544471   \n",
       "3   -2.085747      0.815900     -1.581352    -0.641318 -0.837536   \n",
       "4   -1.855743      1.490208     -1.103376    -1.176146 -1.203692   \n",
       "\n",
       "   instrumentalness  liveness  loudness  speechiness     tempo   valence  \\\n",
       "0         -0.532841  0.575611  1.299283    -0.366515  1.588677  1.353170   \n",
       "1         -0.532841 -0.348444  0.715907    -0.198661  1.813226  1.360637   \n",
       "2         -0.532841 -0.575904 -0.585001    -0.446282 -0.565544 -0.312134   \n",
       "3         -0.532841 -0.597228 -0.319034    -0.430133  1.741558 -0.838608   \n",
       "4         -0.151959 -0.106768 -1.721889    -0.400281  0.746124 -0.229989   \n",
       "\n",
       "   mode_ohe  \n",
       "0         1  \n",
       "1         0  \n",
       "2         0  \n",
       "3         1  \n",
       "4         1  "
      ]
     },
     "execution_count": 15,
     "metadata": {},
     "output_type": "execute_result"
    }
   ],
   "source": [
    "# display first rows of preprocessed data\n",
    "X.head()"
   ]
  }
 ],
 "metadata": {
  "kernelspec": {
   "name": "python391jvsc74a57bd07812ea015bdcee6f23a998adcdd2ef97c151c0c241b7b7070987d9313e41299d",
   "display_name": "Python 3.9.1 64-bit ('3.9')"
  },
  "language_info": {
   "codemirror_mode": {
    "name": "ipython",
    "version": 3
   },
   "file_extension": ".py",
   "mimetype": "text/x-python",
   "name": "python",
   "nbconvert_exporter": "python",
   "pygments_lexer": "ipython3",
   "version": "3.9.1"
  },
  "metadata": {
   "interpreter": {
    "hash": "7812ea015bdcee6f23a998adcdd2ef97c151c0c241b7b7070987d9313e41299d"
   }
  }
 },
 "nbformat": 4,
 "nbformat_minor": 4
}