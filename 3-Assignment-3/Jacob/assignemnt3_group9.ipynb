{
 "cells": [
  {
   "cell_type": "markdown",
   "metadata": {},
   "source": [
    "# **assignment 3**\n",
    "### by group 9"
   ]
  },
  {
   "cell_type": "code",
   "execution_count": 38,
   "metadata": {},
   "outputs": [],
   "source": [
    "# imports\n",
    "from sklearn.random_projection import johnson_lindenstrauss_min_dim\n",
    "from sklearn.random_projection import SparseRandomProjection\n",
    "from sklearn.svm import LinearSVC\n",
    "from sklearn.model_selection import train_test_split\n",
    "from sklearn import metrics\n",
    "import numpy as np\n",
    "import pandas as pd\n",
    "import seaborn as sns\n",
    "import time\n",
    "import scipy\n",
    "from sklearn import random_projection\n",
    "from scipy.sparse import csr_matrix\n",
    "from sklearn import svm\n",
    "from sklearn.utils import shuffle\n",
    "from sklearn.preprocessing import StandardScaler\n",
    "from sklearn.svm import SVC\n",
    "from sklearn.metrics import confusion_matrix,classification_report\n",
    "from sklearn.model_selection import cross_val_score, GridSearchCV\n",
    "import matplotlib.pyplot as plt\n",
    "%matplotlib inline\n",
    "import warnings\n",
    "warnings.filterwarnings('ignore')"
   ]
  },
  {
   "cell_type": "markdown",
   "metadata": {},
   "source": [
    "## task\n",
    "- analyze 2 data sets of your choice using random projections\n",
    "- study the accuracy (or a score of your choice that makes most sense for your data) (using linear support vector classification) as a function of the number of dimensions / features that survived the random projection\n",
    "- try to avoid a zig-zag curve below or around the baseline accuracy curve as your final result for both datasets\n",
    "- at least for one dataset the score is expected to be a smooth-ish curve as a function of the kept number of features\n",
    "- provide a take-home statement and explain every step\n",
    "- you will find that data that is embedded in Eucledian spaces (such as\n",
    "digits) may be more appropriate than data for which Eukledian distances\n",
    "are not an excellent distance measure"
   ]
  },
  {
   "cell_type": "markdown",
   "metadata": {},
   "source": [
    "## 1st data set: human perception of swarming"
   ]
  },
  {
   "cell_type": "markdown",
   "metadata": {},
   "source": [
    "![flocking boids.gif](https://user-images.githubusercontent.com/9216979/45744864-d3d7f400-bbff-11e8-9e3e-0bee1d2f5865.gif)"
   ]
  },
  {
   "cell_type": "markdown",
   "metadata": {},
   "source": [
    "- the data set consists of informatoon on position and other characteristics (e.g., velocity, separation) of 200 simulated bird androids (boids) in a 2-dimensional space\n",
    "\n",
    "- the data set collection includes 3 binary labels representing the human perception of flocking, aligning and grouping of the boids\n",
    "\n",
    "- for the following analysis only the binary classification with regards to flocking is taken into account\n",
    "\n",
    "- flocking behaviour refers to the way that groups of birds, insects, fish or other animals, move close to each other, being able to move as a group with the same velocity, yet without running into each other\n",
    "\n",
    "- [source](https://archive.ics.uci.edu/ml/datasets/Swarm+Behaviour)"
   ]
  },
  {
   "cell_type": "markdown",
   "metadata": {},
   "source": [
    "### import and clean data"
   ]
  },
  {
   "cell_type": "code",
   "execution_count": 9,
   "metadata": {},
   "outputs": [],
   "source": [
    "# load data\n",
    "df2 = pd.read_csv(\"data/Flocking.csv\", low_memory=False)"
   ]
  },
  {
   "cell_type": "markdown",
   "metadata": {},
   "source": [
    "let's take a look into what we are dealing with ..."
   ]
  },
  {
   "cell_type": "code",
   "execution_count": 10,
   "metadata": {},
   "outputs": [
    {
     "data": {
      "text/html": [
       "<div>\n",
       "<style scoped>\n",
       "    .dataframe tbody tr th:only-of-type {\n",
       "        vertical-align: middle;\n",
       "    }\n",
       "\n",
       "    .dataframe tbody tr th {\n",
       "        vertical-align: top;\n",
       "    }\n",
       "\n",
       "    .dataframe thead th {\n",
       "        text-align: right;\n",
       "    }\n",
       "</style>\n",
       "<table border=\"1\" class=\"dataframe\">\n",
       "  <thead>\n",
       "    <tr style=\"text-align: right;\">\n",
       "      <th></th>\n",
       "      <th>x1</th>\n",
       "      <th>y1</th>\n",
       "      <th>xVel1</th>\n",
       "      <th>yVel1</th>\n",
       "      <th>xA1</th>\n",
       "      <th>yA1</th>\n",
       "      <th>xS1</th>\n",
       "      <th>yS1</th>\n",
       "      <th>xC1</th>\n",
       "      <th>yC1</th>\n",
       "      <th>...</th>\n",
       "      <th>yVel200</th>\n",
       "      <th>xA200</th>\n",
       "      <th>yA200</th>\n",
       "      <th>xS200</th>\n",
       "      <th>yS200</th>\n",
       "      <th>xC200</th>\n",
       "      <th>yC200</th>\n",
       "      <th>nAC200</th>\n",
       "      <th>nS200</th>\n",
       "      <th>Class</th>\n",
       "    </tr>\n",
       "  </thead>\n",
       "  <tbody>\n",
       "    <tr>\n",
       "      <th>0</th>\n",
       "      <td>-1414.14</td>\n",
       "      <td>-535.22</td>\n",
       "      <td>-17.88</td>\n",
       "      <td>-7.23</td>\n",
       "      <td>0.00</td>\n",
       "      <td>0.0</td>\n",
       "      <td>0.00</td>\n",
       "      <td>0.00</td>\n",
       "      <td>0.00</td>\n",
       "      <td>0.00</td>\n",
       "      <td>...</td>\n",
       "      <td>-16.85</td>\n",
       "      <td>0.0</td>\n",
       "      <td>0.00</td>\n",
       "      <td>0.0</td>\n",
       "      <td>0.0</td>\n",
       "      <td>0.00</td>\n",
       "      <td>0.00</td>\n",
       "      <td>29</td>\n",
       "      <td>0</td>\n",
       "      <td>0</td>\n",
       "    </tr>\n",
       "    <tr>\n",
       "      <th>1</th>\n",
       "      <td>-1412.93</td>\n",
       "      <td>597.54</td>\n",
       "      <td>-13.55</td>\n",
       "      <td>-5.48</td>\n",
       "      <td>0.00</td>\n",
       "      <td>0.0</td>\n",
       "      <td>0.00</td>\n",
       "      <td>0.00</td>\n",
       "      <td>0.00</td>\n",
       "      <td>0.00</td>\n",
       "      <td>...</td>\n",
       "      <td>-12.09</td>\n",
       "      <td>0.0</td>\n",
       "      <td>0.00</td>\n",
       "      <td>0.0</td>\n",
       "      <td>0.0</td>\n",
       "      <td>0.00</td>\n",
       "      <td>0.00</td>\n",
       "      <td>44</td>\n",
       "      <td>0</td>\n",
       "      <td>0</td>\n",
       "    </tr>\n",
       "    <tr>\n",
       "      <th>2</th>\n",
       "      <td>-1407.38</td>\n",
       "      <td>70.72</td>\n",
       "      <td>-14.37</td>\n",
       "      <td>-5.81</td>\n",
       "      <td>0.00</td>\n",
       "      <td>0.0</td>\n",
       "      <td>0.00</td>\n",
       "      <td>0.00</td>\n",
       "      <td>0.00</td>\n",
       "      <td>0.00</td>\n",
       "      <td>...</td>\n",
       "      <td>-16.20</td>\n",
       "      <td>0.0</td>\n",
       "      <td>0.00</td>\n",
       "      <td>0.0</td>\n",
       "      <td>0.0</td>\n",
       "      <td>0.00</td>\n",
       "      <td>0.00</td>\n",
       "      <td>40</td>\n",
       "      <td>0</td>\n",
       "      <td>0</td>\n",
       "    </tr>\n",
       "    <tr>\n",
       "      <th>3</th>\n",
       "      <td>-1407</td>\n",
       "      <td>-759.80</td>\n",
       "      <td>-7.59</td>\n",
       "      <td>-1.27</td>\n",
       "      <td>-0.98</td>\n",
       "      <td>-0.2</td>\n",
       "      <td>0.00</td>\n",
       "      <td>0.00</td>\n",
       "      <td>0.91</td>\n",
       "      <td>0.41</td>\n",
       "      <td>...</td>\n",
       "      <td>2.99</td>\n",
       "      <td>-1.0</td>\n",
       "      <td>-0.07</td>\n",
       "      <td>0.0</td>\n",
       "      <td>0.0</td>\n",
       "      <td>-0.52</td>\n",
       "      <td>0.86</td>\n",
       "      <td>3</td>\n",
       "      <td>0</td>\n",
       "      <td>1</td>\n",
       "    </tr>\n",
       "    <tr>\n",
       "      <th>4</th>\n",
       "      <td>-1406.36</td>\n",
       "      <td>698.39</td>\n",
       "      <td>-16.54</td>\n",
       "      <td>-6.95</td>\n",
       "      <td>-1.00</td>\n",
       "      <td>0.0</td>\n",
       "      <td>-944.07</td>\n",
       "      <td>-396.62</td>\n",
       "      <td>0.00</td>\n",
       "      <td>0.00</td>\n",
       "      <td>...</td>\n",
       "      <td>-12.61</td>\n",
       "      <td>0.0</td>\n",
       "      <td>-1.00</td>\n",
       "      <td>0.0</td>\n",
       "      <td>0.0</td>\n",
       "      <td>0.00</td>\n",
       "      <td>0.00</td>\n",
       "      <td>13</td>\n",
       "      <td>0</td>\n",
       "      <td>0</td>\n",
       "    </tr>\n",
       "  </tbody>\n",
       "</table>\n",
       "<p>5 rows × 2401 columns</p>\n",
       "</div>"
      ],
      "text/plain": [
       "         x1      y1  xVel1  yVel1   xA1  yA1     xS1     yS1   xC1   yC1  ...  \\\n",
       "0  -1414.14 -535.22 -17.88  -7.23  0.00  0.0    0.00    0.00  0.00  0.00  ...   \n",
       "1  -1412.93  597.54 -13.55  -5.48  0.00  0.0    0.00    0.00  0.00  0.00  ...   \n",
       "2  -1407.38   70.72 -14.37  -5.81  0.00  0.0    0.00    0.00  0.00  0.00  ...   \n",
       "3     -1407 -759.80  -7.59  -1.27 -0.98 -0.2    0.00    0.00  0.91  0.41  ...   \n",
       "4  -1406.36  698.39 -16.54  -6.95 -1.00  0.0 -944.07 -396.62  0.00  0.00  ...   \n",
       "\n",
       "   yVel200  xA200  yA200  xS200  yS200  xC200  yC200  nAC200  nS200  Class   \n",
       "0   -16.85    0.0   0.00    0.0    0.0   0.00   0.00      29      0       0  \n",
       "1   -12.09    0.0   0.00    0.0    0.0   0.00   0.00      44      0       0  \n",
       "2   -16.20    0.0   0.00    0.0    0.0   0.00   0.00      40      0       0  \n",
       "3     2.99   -1.0  -0.07    0.0    0.0  -0.52   0.86       3      0       1  \n",
       "4   -12.61    0.0  -1.00    0.0    0.0   0.00   0.00      13      0       0  \n",
       "\n",
       "[5 rows x 2401 columns]"
      ]
     },
     "execution_count": 10,
     "metadata": {},
     "output_type": "execute_result"
    }
   ],
   "source": [
    "# display first rows\n",
    "df2.head()"
   ]
  },
  {
   "cell_type": "markdown",
   "metadata": {},
   "source": [
    "let's do some data cleaning ... "
   ]
  },
  {
   "cell_type": "code",
   "execution_count": 11,
   "metadata": {},
   "outputs": [],
   "source": [
    "# remove last row in order to handle missing value\n",
    "df2 = df2.iloc[:-1,:]\n",
    "\n",
    "# use correct data type for first feature\n",
    "df2[\"x1\"] = pd.to_numeric(df2[\"x1\"])"
   ]
  },
  {
   "cell_type": "markdown",
   "metadata": {},
   "source": [
    "now we can split and standardize the features ..."
   ]
  },
  {
   "cell_type": "code",
   "execution_count": 12,
   "metadata": {},
   "outputs": [],
   "source": [
    "# splitting into data and labels as well as training and test sets\n",
    "split = train_test_split(df2.iloc[:,:-1],\n",
    "                         df2.iloc[:,-1],\n",
    "                         test_size = 0.3,\n",
    "                         random_state = 22)\n",
    "(X_train2, X_test2, y_train2, y_test2) = split\n",
    "\n",
    "# standardization of variables\n",
    "sc = StandardScaler()\n",
    "X_train2 = sc.fit_transform(X_train2)\n",
    "X_test2 = sc.transform(X_test2)"
   ]
  },
  {
   "cell_type": "markdown",
   "metadata": {},
   "source": [
    "### relationship between $k$ and $\\epsilon$"
   ]
  },
  {
   "cell_type": "code",
   "execution_count": 13,
   "metadata": {},
   "outputs": [
    {
     "name": "stdout",
     "output_type": "stream",
     "text": [
      "mininmum # of dimensions for episilon = 0.1 is 8339\n",
      "mininmum # of dimensions for episilon = 0.15 is 3843\n",
      "mininmum # of dimensions for episilon = 0.2 is 2245\n",
      "mininmum # of dimensions for episilon = 0.25 is 1494\n",
      "mininmum # of dimensions for episilon = 0.3 is 1081\n",
      "mininmum # of dimensions for episilon = 0.4 is 663\n"
     ]
    }
   ],
   "source": [
    "for ep in [0.1,0.15,0.2,0.25,0.3,0.4]:\n",
    "    min_dim = johnson_lindenstrauss_min_dim(n_samples = X_train2.shape[0],eps = ep)\n",
    "    print(f\"mininmum # of dimensions for episilon = {ep} is {min_dim}\")"
   ]
  },
  {
   "cell_type": "code",
   "execution_count": 14,
   "metadata": {},
   "outputs": [
    {
     "data": {
      "image/png": "[encoded data removed]",
      "text/plain": [
       "<Figure size 720x360 with 1 Axes>"
      ]
     },
     "metadata": {
      "needs_background": "light"
     },
     "output_type": "display_data"
    }
   ],
   "source": [
    "# calculating minimum k for different epsilons\n",
    "eps = np.linspace(0.1, 0.4, 25)\n",
    "ks = []\n",
    "for e in eps:\n",
    "    ks.append(johnson_lindenstrauss_min_dim(len(df2),eps=e))\n",
    "    \n",
    "# plot the relationship\n",
    "plt.figure(figsize=(10, 5))\n",
    "plt.plot(eps, ks)\n",
    "plt.xlabel(\"epsilons\")\n",
    "plt.ylabel(\"minimum k\")\n",
    "plt.title(\"Effect of Epsilon on the Minimum k\")\n",
    "plt.show()"
   ]
  },
  {
   "cell_type": "markdown",
   "metadata": {},
   "source": [
    "<div class=\"alert alert-block alert-success\">\n",
    "<b>takeaway:</b> \n",
    "    \n",
    "- we can see that large $\\epsilon$ lead to a minimum $k$ of around 1000\n",
    "    \n",
    "- as the underlying data has 2401 features ($n=2401$), we know that a mapping from an $n$-dimensional space to a $k$-dimensional space exists depending on which $\\epsilon$ is chosen\n",
    "    \n",
    "</div>"
   ]
  },
  {
   "cell_type": "markdown",
   "metadata": {},
   "source": [
    "### model"
   ]
  },
  {
   "cell_type": "markdown",
   "metadata": {},
   "source": [
    "let's now apply random projections ..."
   ]
  },
  {
   "cell_type": "code",
   "execution_count": 15,
   "metadata": {},
   "outputs": [],
   "source": [
    "# create baseline accuracy value when using all dimensions\n",
    "model = LinearSVC(max_iter = 25000)\n",
    "model.fit(X_train2, y_train2)\n",
    "baseline2 = metrics.accuracy_score(model.predict(X_test2), y_test2)"
   ]
  },
  {
   "cell_type": "code",
   "execution_count": 16,
   "metadata": {},
   "outputs": [
    {
     "name": "stdout",
     "output_type": "stream",
     "text": [
      "progess: 100%\r"
     ]
    }
   ],
   "source": [
    "# ignore convergence warning\n",
    "warnings.filterwarnings(\"ignore\")\n",
    "\n",
    "# loop over the projection sizes k\n",
    "accuracies2 = []\n",
    "dims2 = list(range(2, X_test2.shape[1]+1, 50))\n",
    "\n",
    "for dim in dims2:\n",
    "    # create random projection\n",
    "    sp = SparseRandomProjection(n_components = dim)\n",
    "    X = sp.fit_transform(X_train2)\n",
    " \n",
    "    # train classifier on the sparse random projection, low max_iter to speed up process\n",
    "    model = LinearSVC(max_iter = 5000)\n",
    "    model.fit(X, y_train2)\n",
    " \n",
    "    # evaluate model and update accuracies\n",
    "    test = sp.transform(X_test2)\n",
    "    accuracies2.append(metrics.accuracy_score(model.predict(test), y_test2))\n",
    "    \n",
    "    # progress bar\n",
    "    print(f\"progess: {round(((dims2.index(dim)+1)/len(dims2))*100)}%\", end= \"\\r\")   "
   ]
  },
  {
   "cell_type": "code",
   "execution_count": 17,
   "metadata": {},
   "outputs": [
    {
     "data": {
      "image/png": "[encoded data removed]",
      "text/plain": [
       "<Figure size 1152x576 with 1 Axes>"
      ]
     },
     "metadata": {
      "needs_background": "light"
     },
     "output_type": "display_data"
    }
   ],
   "source": [
    "# plot the relationship\n",
    "plt.figure(figsize=(16, 8))\n",
    "plt.xlabel(\"number of dimensions k\")\n",
    "plt.ylabel(\"accuracy\")\n",
    "plt.xlim([2, X_test2.shape[1]])\n",
    "plt.xticks(np.arange(0, max(dims2)+1, 100))\n",
    "plt.ylim([0.5, 1.01]) \n",
    "plt.plot(dims2, [baseline2] * len(accuracies2), color = \"r\", label = \"baseline accuracy if all features are used\")\n",
    "plt.axvline(x = johnson_lindenstrauss_min_dim(len(df2),eps=0.4), color = \"k\", linestyle = \"dashed\", label = \"minimum JL lemma k for e=0.4\")\n",
    "plt.plot(dims2, accuracies2)\n",
    "plt.title(\"Accuracies Across Number of Random Projection Dimensions\")\n",
    "plt.legend(bbox_to_anchor=(1,0.1))\n",
    "plt.show()"
   ]
  },
  {
   "cell_type": "markdown",
   "metadata": {},
   "source": [
    "<div class=\"alert alert-block alert-success\">\n",
    "<b>takeaway:</b> \n",
    "    \n",
    "- we can see that using less than 100 dimensions results in relatively low accuracies\n",
    "\n",
    "- however, way before (in terms of less dimensions used) the minimum $k$ defined by the Johnson-Lindenstrauss lemma, accuracies close to 100% are yielded\n",
    "    \n",
    "</div>"
   ]
  },
  {
   "cell_type": "markdown",
   "metadata": {},
   "source": [
    "### projection efficency: compare Gaussian and sparse projections"
   ]
  },
  {
   "cell_type": "code",
   "execution_count": 20,
   "metadata": {},
   "outputs": [
    {
     "name": "stdout",
     "output_type": "stream",
     "text": [
      "[[ 3775 15078]\n",
      " [   45 16193]\n",
      " [12961  8581]\n",
      " ...\n",
      " [ 2633  2554]\n",
      " [ 9211 13607]\n",
      " [ 5485 14956]]\n"
     ]
    }
   ],
   "source": [
    "# select some pairs of items\n",
    "n = 2000\n",
    "randpairs = np.random.randint(X_train2.shape[0],size=(n,2))\n",
    "print(randpairs)"
   ]
  },
  {
   "cell_type": "markdown",
   "metadata": {},
   "source": [
    "now we can compute the distances ..."
   ]
  },
  {
   "cell_type": "code",
   "execution_count": 21,
   "metadata": {},
   "outputs": [
    {
     "name": "stdout",
     "output_type": "stream",
     "text": [
      "10.0\n"
     ]
    }
   ],
   "source": [
    "# define a distance measure between two vectors\n",
    "def dist(v1,v2):\n",
    "    return np.linalg.norm(v1-v2)\n",
    "v1 = np.array([9,10])\n",
    "v2 = np.array([3,2])\n",
    "print(dist(v1,v2))"
   ]
  },
  {
   "cell_type": "code",
   "execution_count": 23,
   "metadata": {},
   "outputs": [
    {
     "name": "stdout",
     "output_type": "stream",
     "text": [
      "total time: 0.14s\n"
     ]
    }
   ],
   "source": [
    "# distance in the original dimension\n",
    "dist_original = np.zeros(n)\n",
    "i =0\n",
    "total_time = 0.0\n",
    "\n",
    "for pair in randpairs:\n",
    "    tick = time.time()\n",
    "    v2 = X_train2[pair[1]]\n",
    "    v1 = X_train2[pair[0]]\n",
    "    dist_original[i] = dist(v1,v2)\n",
    "    tock = time.time()\n",
    "           \n",
    "    total_time = total_time+tock-tick\n",
    "    i +=1\n",
    "                      \n",
    "print(f\"total time: {round(total_time, 2)}s\")"
   ]
  },
  {
   "cell_type": "code",
   "execution_count": 26,
   "metadata": {},
   "outputs": [
    {
     "name": "stdout",
     "output_type": "stream",
     "text": [
      "total time sparse: 0.06s\n",
      "total time Gaussian: 0.01s\n"
     ]
    }
   ],
   "source": [
    "transformer_sparse = random_projection.SparseRandomProjection(eps=0.4)\n",
    "transformer_gaussian = random_projection.GaussianRandomProjection(eps=0.4)\n",
    "transformed_sparse = transformer_sparse.fit_transform(X_train2)\n",
    "transformed_gaussian = transformer_gaussian.fit_transform(X_train2)\n",
    "# distance in the reduced dimension\n",
    "dist_reduced_sparse = np.zeros(n)\n",
    "dist_reduced_gaussian = np.zeros(n)\n",
    "\n",
    "total_time_sparse = 0.0\n",
    "total_time_gaussian = 0.0\n",
    "\n",
    "i =0\n",
    "for pair in randpairs:\n",
    "    tick = time.time()\n",
    "    v1 = transformed_sparse[pair[0]]\n",
    "    v2 = transformed_sparse[pair[1]]\n",
    "    dist_reduced_sparse[i] = dist(v1,v2)\n",
    "    tock = time.time()\n",
    "    total_time_sparse = total_time_sparse+tock-tick\n",
    "    i +=1\n",
    "    \n",
    "i =0\n",
    "for pair in randpairs:\n",
    "    tick = time.time()\n",
    "    v1 = transformed_gaussian[pair[0]]\n",
    "    v2 = transformed_gaussian[pair[1]]\n",
    "    dist_reduced_gaussian[i] = dist(v1,v2)\n",
    "    tock = time.time()\n",
    "    total_time_gaussian = total_time_gaussian+tock-tick\n",
    "    i +=1\n",
    "           \n",
    "           \n",
    "print(f\"total time sparse: {round(total_time_sparse, 2)}s\")\n",
    "print(f\"total time Gaussian: {round(total_time_gaussian, 2)}s\")"
   ]
  },
  {
   "cell_type": "code",
   "execution_count": 33,
   "metadata": {},
   "outputs": [
    {
     "name": "stdout",
     "output_type": "stream",
     "text": [
      "sparse mean absolute epsilon: 0.022\n",
      "sparse max epsilon: 0.144\n",
      "Gaussian mean absolute epsilon: 0.026\n",
      "Gaussian max epsilon: 0.11\n"
     ]
    }
   ],
   "source": [
    "# how close are we after reducing dimension?\n",
    "error_sparse = dist_original - dist_reduced_sparse\n",
    "error_gaussian = dist_original - dist_reduced_gaussian\n",
    "\n",
    "#Sparse\n",
    "nz = []\n",
    "for i in range(len(error_sparse)):\n",
    "    if (dist_original[i] !=0):\n",
    "        nz.append(np.abs(error_sparse[i]/dist_original[i]))\n",
    "        \n",
    "nz_error = np.array(nz)\n",
    "print(f\"sparse mean absolute epsilon: {round(np.mean(nz_error), 3)}\")\n",
    "print(f\"sparse max epsilon: {round(np.max(nz_error), 3)}\")\n",
    "\n",
    "#Gaussian\n",
    "nz = []\n",
    "for i in range(len(error_gaussian)):\n",
    "    if (dist_original[i] !=0):\n",
    "        nz.append(np.abs(error_gaussian[i]/dist_original[i]))\n",
    "        \n",
    "nz_error = np.array(nz)\n",
    "print(f\"Gaussian mean absolute epsilon: {round(np.mean(nz_error), 3)}\")\n",
    "print(f\"Gaussian max epsilon: {round(np.max(nz_error), 3)}\")"
   ]
  },
  {
   "cell_type": "markdown",
   "metadata": {},
   "source": [
    "<div class=\"alert alert-block alert-success\">\n",
    "<b>takeaway:</b>   \n",
    "    \n",
    "- Gaussian random projections perform slightly better than sparse random projections in terms of distortion ($\\epsilon$)\n",
    "    \n",
    "</div>"
   ]
  },
  {
   "cell_type": "markdown",
   "metadata": {},
   "source": [
    "## 2nd data set: human activitiy recognition using smartphones"
   ]
  },
  {
   "cell_type": "markdown",
   "metadata": {},
   "source": [
    "![human activity.gif](https://i.pinimg.com/originals/a7/78/19/a778193d04758b169fca966fe0655645.gif)"
   ]
  },
  {
   "cell_type": "markdown",
   "metadata": {},
   "source": [
    "- the experiments have been carried out with a group of 30 volunteers within an age bracket of 19-48 years\n",
    "\n",
    "- each person performed six activities (WALKING, WALKING_UPSTAIRS, WALKING_DOWNSTAIRS, SITTING, STANDING, LAYING) wearing a smartphone (Samsung Galaxy S II) on the waist \n",
    "\n",
    "\n",
    "- using its embedded accelerometer and gyroscope, we captured 3-axial linear acceleration and 3-axial angular velocity at a constant rate of 50Hz \n",
    "\n",
    "\n",
    "- the experiments have been video-recorded to label the data manually \n",
    "\n",
    "\n",
    "- the obtained dataset has been randomly partitioned into two sets, where 70% of the volunteers was selected for generating the training data and 30% the test data\n",
    "\n",
    "\n",
    "- [source](https://www.kaggle.com/uciml/human-activity-recognition-with-smartphones)"
   ]
  },
  {
   "cell_type": "markdown",
   "metadata": {
    "heading_collapsed": true
   },
   "source": [
    "### import and clean data"
   ]
  },
  {
   "cell_type": "code",
   "execution_count": 34,
   "metadata": {
    "hidden": true
   },
   "outputs": [
    {
     "data": {
      "text/html": [
       "<div>\n",
       "<style scoped>\n",
       "    .dataframe tbody tr th:only-of-type {\n",
       "        vertical-align: middle;\n",
       "    }\n",
       "\n",
       "    .dataframe tbody tr th {\n",
       "        vertical-align: top;\n",
       "    }\n",
       "\n",
       "    .dataframe thead th {\n",
       "        text-align: right;\n",
       "    }\n",
       "</style>\n",
       "<table border=\"1\" class=\"dataframe\">\n",
       "  <thead>\n",
       "    <tr style=\"text-align: right;\">\n",
       "      <th></th>\n",
       "      <th>tBodyAcc-mean()-X</th>\n",
       "      <th>tBodyAcc-mean()-Y</th>\n",
       "      <th>tBodyAcc-mean()-Z</th>\n",
       "      <th>tBodyAcc-std()-X</th>\n",
       "      <th>tBodyAcc-std()-Y</th>\n",
       "      <th>tBodyAcc-std()-Z</th>\n",
       "      <th>tBodyAcc-mad()-X</th>\n",
       "      <th>tBodyAcc-mad()-Y</th>\n",
       "      <th>tBodyAcc-mad()-Z</th>\n",
       "      <th>tBodyAcc-max()-X</th>\n",
       "      <th>...</th>\n",
       "      <th>fBodyBodyGyroJerkMag-kurtosis()</th>\n",
       "      <th>angle(tBodyAccMean,gravity)</th>\n",
       "      <th>angle(tBodyAccJerkMean),gravityMean)</th>\n",
       "      <th>angle(tBodyGyroMean,gravityMean)</th>\n",
       "      <th>angle(tBodyGyroJerkMean,gravityMean)</th>\n",
       "      <th>angle(X,gravityMean)</th>\n",
       "      <th>angle(Y,gravityMean)</th>\n",
       "      <th>angle(Z,gravityMean)</th>\n",
       "      <th>subject</th>\n",
       "      <th>Activity</th>\n",
       "    </tr>\n",
       "  </thead>\n",
       "  <tbody>\n",
       "    <tr>\n",
       "      <th>0</th>\n",
       "      <td>0.288585</td>\n",
       "      <td>-0.020294</td>\n",
       "      <td>-0.132905</td>\n",
       "      <td>-0.995279</td>\n",
       "      <td>-0.983111</td>\n",
       "      <td>-0.913526</td>\n",
       "      <td>-0.995112</td>\n",
       "      <td>-0.983185</td>\n",
       "      <td>-0.923527</td>\n",
       "      <td>-0.934724</td>\n",
       "      <td>...</td>\n",
       "      <td>-0.710304</td>\n",
       "      <td>-0.112754</td>\n",
       "      <td>0.030400</td>\n",
       "      <td>-0.464761</td>\n",
       "      <td>-0.018446</td>\n",
       "      <td>-0.841247</td>\n",
       "      <td>0.179941</td>\n",
       "      <td>-0.058627</td>\n",
       "      <td>1</td>\n",
       "      <td>STANDING</td>\n",
       "    </tr>\n",
       "    <tr>\n",
       "      <th>1</th>\n",
       "      <td>0.278419</td>\n",
       "      <td>-0.016411</td>\n",
       "      <td>-0.123520</td>\n",
       "      <td>-0.998245</td>\n",
       "      <td>-0.975300</td>\n",
       "      <td>-0.960322</td>\n",
       "      <td>-0.998807</td>\n",
       "      <td>-0.974914</td>\n",
       "      <td>-0.957686</td>\n",
       "      <td>-0.943068</td>\n",
       "      <td>...</td>\n",
       "      <td>-0.861499</td>\n",
       "      <td>0.053477</td>\n",
       "      <td>-0.007435</td>\n",
       "      <td>-0.732626</td>\n",
       "      <td>0.703511</td>\n",
       "      <td>-0.844788</td>\n",
       "      <td>0.180289</td>\n",
       "      <td>-0.054317</td>\n",
       "      <td>1</td>\n",
       "      <td>STANDING</td>\n",
       "    </tr>\n",
       "    <tr>\n",
       "      <th>2</th>\n",
       "      <td>0.279653</td>\n",
       "      <td>-0.019467</td>\n",
       "      <td>-0.113462</td>\n",
       "      <td>-0.995380</td>\n",
       "      <td>-0.967187</td>\n",
       "      <td>-0.978944</td>\n",
       "      <td>-0.996520</td>\n",
       "      <td>-0.963668</td>\n",
       "      <td>-0.977469</td>\n",
       "      <td>-0.938692</td>\n",
       "      <td>...</td>\n",
       "      <td>-0.760104</td>\n",
       "      <td>-0.118559</td>\n",
       "      <td>0.177899</td>\n",
       "      <td>0.100699</td>\n",
       "      <td>0.808529</td>\n",
       "      <td>-0.848933</td>\n",
       "      <td>0.180637</td>\n",
       "      <td>-0.049118</td>\n",
       "      <td>1</td>\n",
       "      <td>STANDING</td>\n",
       "    </tr>\n",
       "    <tr>\n",
       "      <th>3</th>\n",
       "      <td>0.279174</td>\n",
       "      <td>-0.026201</td>\n",
       "      <td>-0.123283</td>\n",
       "      <td>-0.996091</td>\n",
       "      <td>-0.983403</td>\n",
       "      <td>-0.990675</td>\n",
       "      <td>-0.997099</td>\n",
       "      <td>-0.982750</td>\n",
       "      <td>-0.989302</td>\n",
       "      <td>-0.938692</td>\n",
       "      <td>...</td>\n",
       "      <td>-0.482845</td>\n",
       "      <td>-0.036788</td>\n",
       "      <td>-0.012892</td>\n",
       "      <td>0.640011</td>\n",
       "      <td>-0.485366</td>\n",
       "      <td>-0.848649</td>\n",
       "      <td>0.181935</td>\n",
       "      <td>-0.047663</td>\n",
       "      <td>1</td>\n",
       "      <td>STANDING</td>\n",
       "    </tr>\n",
       "    <tr>\n",
       "      <th>4</th>\n",
       "      <td>0.276629</td>\n",
       "      <td>-0.016570</td>\n",
       "      <td>-0.115362</td>\n",
       "      <td>-0.998139</td>\n",
       "      <td>-0.980817</td>\n",
       "      <td>-0.990482</td>\n",
       "      <td>-0.998321</td>\n",
       "      <td>-0.979672</td>\n",
       "      <td>-0.990441</td>\n",
       "      <td>-0.942469</td>\n",
       "      <td>...</td>\n",
       "      <td>-0.699205</td>\n",
       "      <td>0.123320</td>\n",
       "      <td>0.122542</td>\n",
       "      <td>0.693578</td>\n",
       "      <td>-0.615971</td>\n",
       "      <td>-0.847865</td>\n",
       "      <td>0.185151</td>\n",
       "      <td>-0.043892</td>\n",
       "      <td>1</td>\n",
       "      <td>STANDING</td>\n",
       "    </tr>\n",
       "  </tbody>\n",
       "</table>\n",
       "<p>5 rows × 563 columns</p>\n",
       "</div>"
      ],
      "text/plain": [
       "   tBodyAcc-mean()-X  tBodyAcc-mean()-Y  tBodyAcc-mean()-Z  tBodyAcc-std()-X  \\\n",
       "0           0.288585          -0.020294          -0.132905         -0.995279   \n",
       "1           0.278419          -0.016411          -0.123520         -0.998245   \n",
       "2           0.279653          -0.019467          -0.113462         -0.995380   \n",
       "3           0.279174          -0.026201          -0.123283         -0.996091   \n",
       "4           0.276629          -0.016570          -0.115362         -0.998139   \n",
       "\n",
       "   tBodyAcc-std()-Y  tBodyAcc-std()-Z  tBodyAcc-mad()-X  tBodyAcc-mad()-Y  \\\n",
       "0         -0.983111         -0.913526         -0.995112         -0.983185   \n",
       "1         -0.975300         -0.960322         -0.998807         -0.974914   \n",
       "2         -0.967187         -0.978944         -0.996520         -0.963668   \n",
       "3         -0.983403         -0.990675         -0.997099         -0.982750   \n",
       "4         -0.980817         -0.990482         -0.998321         -0.979672   \n",
       "\n",
       "   tBodyAcc-mad()-Z  tBodyAcc-max()-X  ...  fBodyBodyGyroJerkMag-kurtosis()  \\\n",
       "0         -0.923527         -0.934724  ...                        -0.710304   \n",
       "1         -0.957686         -0.943068  ...                        -0.861499   \n",
       "2         -0.977469         -0.938692  ...                        -0.760104   \n",
       "3         -0.989302         -0.938692  ...                        -0.482845   \n",
       "4         -0.990441         -0.942469  ...                        -0.699205   \n",
       "\n",
       "   angle(tBodyAccMean,gravity)  angle(tBodyAccJerkMean),gravityMean)  \\\n",
       "0                    -0.112754                              0.030400   \n",
       "1                     0.053477                             -0.007435   \n",
       "2                    -0.118559                              0.177899   \n",
       "3                    -0.036788                             -0.012892   \n",
       "4                     0.123320                              0.122542   \n",
       "\n",
       "   angle(tBodyGyroMean,gravityMean)  angle(tBodyGyroJerkMean,gravityMean)  \\\n",
       "0                         -0.464761                             -0.018446   \n",
       "1                         -0.732626                              0.703511   \n",
       "2                          0.100699                              0.808529   \n",
       "3                          0.640011                             -0.485366   \n",
       "4                          0.693578                             -0.615971   \n",
       "\n",
       "   angle(X,gravityMean)  angle(Y,gravityMean)  angle(Z,gravityMean)  subject  \\\n",
       "0             -0.841247              0.179941             -0.058627        1   \n",
       "1             -0.844788              0.180289             -0.054317        1   \n",
       "2             -0.848933              0.180637             -0.049118        1   \n",
       "3             -0.848649              0.181935             -0.047663        1   \n",
       "4             -0.847865              0.185151             -0.043892        1   \n",
       "\n",
       "   Activity  \n",
       "0  STANDING  \n",
       "1  STANDING  \n",
       "2  STANDING  \n",
       "3  STANDING  \n",
       "4  STANDING  \n",
       "\n",
       "[5 rows x 563 columns]"
      ]
     },
     "execution_count": 34,
     "metadata": {},
     "output_type": "execute_result"
    }
   ],
   "source": [
    "# load data\n",
    "train = pd.read_csv(\"data/train.csv\")\n",
    "test = pd.read_csv(\"data/test.csv\")\n",
    "train.head()"
   ]
  },
  {
   "cell_type": "markdown",
   "metadata": {},
   "source": [
    "let's take a look at the data's dimensionality ..."
   ]
  },
  {
   "cell_type": "code",
   "execution_count": 36,
   "metadata": {
    "hidden": true
   },
   "outputs": [
    {
     "data": {
      "text/plain": [
       "(7352, 563)"
      ]
     },
     "execution_count": 36,
     "metadata": {},
     "output_type": "execute_result"
    }
   ],
   "source": [
    "# display data shape\n",
    "train.shape"
   ]
  },
  {
   "cell_type": "code",
   "execution_count": 37,
   "metadata": {
    "hidden": true
   },
   "outputs": [
    {
     "data": {
      "text/html": [
       "<div>\n",
       "<style scoped>\n",
       "    .dataframe tbody tr th:only-of-type {\n",
       "        vertical-align: middle;\n",
       "    }\n",
       "\n",
       "    .dataframe tbody tr th {\n",
       "        vertical-align: top;\n",
       "    }\n",
       "\n",
       "    .dataframe thead th {\n",
       "        text-align: right;\n",
       "    }\n",
       "</style>\n",
       "<table border=\"1\" class=\"dataframe\">\n",
       "  <thead>\n",
       "    <tr style=\"text-align: right;\">\n",
       "      <th>col_0</th>\n",
       "      <th>count</th>\n",
       "    </tr>\n",
       "    <tr>\n",
       "      <th>Activity</th>\n",
       "      <th></th>\n",
       "    </tr>\n",
       "  </thead>\n",
       "  <tbody>\n",
       "    <tr>\n",
       "      <th>LAYING</th>\n",
       "      <td>1407</td>\n",
       "    </tr>\n",
       "    <tr>\n",
       "      <th>SITTING</th>\n",
       "      <td>1286</td>\n",
       "    </tr>\n",
       "    <tr>\n",
       "      <th>STANDING</th>\n",
       "      <td>1374</td>\n",
       "    </tr>\n",
       "    <tr>\n",
       "      <th>WALKING</th>\n",
       "      <td>1226</td>\n",
       "    </tr>\n",
       "    <tr>\n",
       "      <th>WALKING_DOWNSTAIRS</th>\n",
       "      <td>986</td>\n",
       "    </tr>\n",
       "    <tr>\n",
       "      <th>WALKING_UPSTAIRS</th>\n",
       "      <td>1073</td>\n",
       "    </tr>\n",
       "  </tbody>\n",
       "</table>\n",
       "</div>"
      ],
      "text/plain": [
       "col_0               count\n",
       "Activity                 \n",
       "LAYING               1407\n",
       "SITTING              1286\n",
       "STANDING             1374\n",
       "WALKING              1226\n",
       "WALKING_DOWNSTAIRS    986\n",
       "WALKING_UPSTAIRS     1073"
      ]
     },
     "execution_count": 37,
     "metadata": {},
     "output_type": "execute_result"
    }
   ],
   "source": [
    "# check balance of the data\n",
    "train_outcome = pd.crosstab(index=train[\"Activity\"], columns=\"count\")\n",
    "train_outcome"
   ]
  },
  {
   "cell_type": "markdown",
   "metadata": {},
   "source": [
    "<div class=\"alert alert-block alert-success\">\n",
    "<b>takeaway:</b>   \n",
    "    \n",
    "- as we can see the data is quite balanced across its different labels\n",
    "    \n",
    "</div>"
   ]
  },
  {
   "cell_type": "markdown",
   "metadata": {},
   "source": [
    "let's do some data preparation ... "
   ]
  },
  {
   "cell_type": "code",
   "execution_count": 39,
   "metadata": {
    "hidden": true
   },
   "outputs": [],
   "source": [
    "# data wrangling\n",
    "X_train = pd.DataFrame(train.drop(['Activity','subject'],axis=1))\n",
    "y_train_label = train.Activity.values.astype(object)\n",
    "X_test = pd.DataFrame(test.drop(['Activity','subject'],axis=1))\n",
    "y_test_label = test.Activity.values.astype(object)\n",
    "\n",
    "# labelEncoding -y label\n",
    "from sklearn import preprocessing\n",
    "encoder = preprocessing.LabelEncoder()\n",
    "encoder.fit(y_train_label)\n",
    "y_train = encoder.transform(y_train_label)\n",
    "encoder.fit(y_test_label)\n",
    "y_test = encoder.transform(y_test_label)\n",
    "\n",
    "# scaling the dataset\n",
    "from sklearn.preprocessing import StandardScaler\n",
    "scaler = StandardScaler()\n",
    "X_train_scaled = scaler.fit_transform(X_train)\n",
    "X_test_scaled = scaler.transform(X_test)"
   ]
  },
  {
   "cell_type": "markdown",
   "metadata": {},
   "source": [
    "### relationship between $k$ and $\\epsilon$"
   ]
  },
  {
   "cell_type": "code",
   "execution_count": 40,
   "metadata": {},
   "outputs": [],
   "source": [
    "svm_model = svm.SVC(C = 100, gamma = 0.01,kernel = 'rbf')\n",
    "svm_model.fit(X_train_scaled, y_train)\n",
    "baseline = metrics.accuracy_score(svm_model.predict(X_test_scaled), y_test)"
   ]
  },
  {
   "cell_type": "code",
   "execution_count": 42,
   "metadata": {},
   "outputs": [
    {
     "name": "stdout",
     "output_type": "stream",
     "text": [
      "mininmum # of dimensions for episilon = 0.1 is 7630\n",
      "mininmum # of dimensions for episilon = 0.15 is 3517\n",
      "mininmum # of dimensions for episilon = 0.2 is 2054\n",
      "mininmum # of dimensions for episilon = 0.25 is 1367\n",
      "mininmum # of dimensions for episilon = 0.3 is 989\n",
      "mininmum # of dimensions for episilon = 0.4 is 607\n",
      "mininmum # of dimensions for episilon = 0.49 is 440\n"
     ]
    }
   ],
   "source": [
    "for ep in [0.1,0.15,0.2,0.25,0.3,0.4,0.49]:\n",
    "    min_dim = johnson_lindenstrauss_min_dim(n_samples = X_train_scaled.shape[0],eps = ep)\n",
    "    print(f\"mininmum # of dimensions for episilon = {ep} is {min_dim}\")"
   ]
  },
  {
   "cell_type": "code",
   "execution_count": 43,
   "metadata": {},
   "outputs": [
    {
     "data": {
      "image/png": "[encoded data removed]",
      "text/plain": [
       "<Figure size 720x360 with 1 Axes>"
      ]
     },
     "metadata": {
      "needs_background": "light"
     },
     "output_type": "display_data"
    }
   ],
   "source": [
    "eps = np.linspace(0.1, 0.5, 25)\n",
    "ks = []\n",
    "for e in eps:\n",
    "    ks.append(johnson_lindenstrauss_min_dim(X_train_scaled.shape[0],eps=e))\n",
    "    \n",
    "# plot the relationship\n",
    "plt.figure(figsize=(10, 5))\n",
    "plt.plot(eps, ks)\n",
    "plt.xlabel(\"epsilons\")\n",
    "plt.ylabel(\"minimum k\")\n",
    "plt.title(\"Effect of Epsilon on the Minimum k\")\n",
    "plt.show()"
   ]
  },
  {
   "cell_type": "markdown",
   "metadata": {},
   "source": [
    "<div class=\"alert alert-block alert-success\">\n",
    "<b>takeaway:</b>   \n",
    "    \n",
    "- for a relatively large $\\epsilon = 0.4$, $k = 607$ which is still beyond the total number of feature number which is $n = 561$\n",
    "\n",
    "</div>"
   ]
  },
  {
   "cell_type": "markdown",
   "metadata": {},
   "source": [
    "### model"
   ]
  },
  {
   "cell_type": "markdown",
   "metadata": {},
   "source": [
    "let's now apply random projections ..."
   ]
  },
  {
   "cell_type": "code",
   "execution_count": 59,
   "metadata": {},
   "outputs": [
    {
     "name": "stdout",
     "output_type": "stream",
     "text": [
      "progess: 95%\r"
     ]
    }
   ],
   "source": [
    "# loop over the projection sizes k\n",
    "accuracies = []\n",
    "dims = np.int32(np.linspace(30, 560, 20))\n",
    "for dim in dims:\n",
    "    # create random projection\n",
    "    sp = SparseRandomProjection(n_components = dim)\n",
    "    X = sp.fit_transform(X_train_scaled)\n",
    " \n",
    "    # train classifier\n",
    "    svm_model = svm.SVC(C = 100, gamma = 0.01,kernel = 'rbf')\n",
    "    svm_model.fit(X, y_train)\n",
    " \n",
    "    # evaluate model and update accuracies\n",
    "    test = sp.transform(X_test_scaled)\n",
    "    accuracies.append(metrics.accuracy_score(svm_model.predict(test), y_test))\n",
    "    \n",
    "    # progress bar\n",
    "    print(f\"progess: {round(((np.where(dims==dim)[0][0])/len(dims))*100)}%\", end= \"\\r\") "
   ]
  },
  {
   "cell_type": "code",
   "execution_count": 68,
   "metadata": {},
   "outputs": [
    {
     "data": {
      "image/png": "[encoded data removed]",
      "text/plain": [
       "<Figure size 1152x576 with 1 Axes>"
      ]
     },
     "metadata": {
      "needs_background": "light"
     },
     "output_type": "display_data"
    }
   ],
   "source": [
    "# plot the relationship \n",
    "plt.figure(figsize=(16, 8))\n",
    "plt.xlabel(\"number of dimensions k\")\n",
    "plt.ylabel(\"accuracy\")\n",
    "plt.xlim([30, 700])\n",
    "plt.ylim([0, 1])\n",
    "plt.title(\"Accuracies Across Number of Random Projection Dimensions\") \n",
    "plt.plot(dims, [baseline] * len(accuracies), color = \"r\", label = \"baseline accuracy if all features are used\")\n",
    "plt.axvline(x = johnson_lindenstrauss_min_dim(len(X_train)+len(X_test),eps=0.4), color = \"k\", linestyle = \"dashed\", label = \"minimum JL lemma k for e=0.4\")\n",
    "plt.plot(dims, accuracies)\n",
    "plt.legend(bbox_to_anchor=(0.85,0.1))\n",
    "plt.show()"
   ]
  },
  {
   "cell_type": "markdown",
   "metadata": {},
   "source": [
    "<div class=\"alert alert-block alert-success\">\n",
    "<b>takeaway:</b>   \n",
    "    \n",
    "- from the plot we can see that using around 200 features the model can reach the accuracy level of the baseline model\n",
    "    \n",
    "- this number of dimensions is much less than the minimum $k$ calculation yieled from the Johnson-Lindenstrauss lemma when using $\\epsilon = 0.4$ for example which is even out of the rannge of possible dimensions\n",
    "\n",
    "</div>"
   ]
  },
  {
   "cell_type": "markdown",
   "metadata": {},
   "source": [
    "### projection efficency: compare Gaussian and sparse projections"
   ]
  },
  {
   "cell_type": "code",
   "execution_count": 69,
   "metadata": {},
   "outputs": [
    {
     "name": "stdout",
     "output_type": "stream",
     "text": [
      "[[6478 6650]\n",
      " [3936 3243]\n",
      " [6186  632]\n",
      " ...\n",
      " [3623 2222]\n",
      " [3033 3637]\n",
      " [ 498 1190]]\n"
     ]
    }
   ],
   "source": [
    "# select some pairs of items\n",
    "n = 2000\n",
    "randpairs = np.random.randint(X_train_scaled.shape[0],size=(n,2))\n",
    "print(randpairs)"
   ]
  },
  {
   "cell_type": "markdown",
   "metadata": {},
   "source": [
    "now we can compute the distances ..."
   ]
  },
  {
   "cell_type": "code",
   "execution_count": 70,
   "metadata": {},
   "outputs": [
    {
     "name": "stdout",
     "output_type": "stream",
     "text": [
      "10.0\n"
     ]
    }
   ],
   "source": [
    "# define a distance measure between two vectors\n",
    "def dist(v1,v2):\n",
    "    return np.linalg.norm(v1-v2)\n",
    "v1 = np.array([9,10])\n",
    "v2 = np.array([3,2])\n",
    "print(dist(v1,v2))"
   ]
  },
  {
   "cell_type": "code",
   "execution_count": 71,
   "metadata": {},
   "outputs": [
    {
     "name": "stdout",
     "output_type": "stream",
     "text": [
      "total time: 0.04s\n"
     ]
    }
   ],
   "source": [
    "# distance in the original dimension\n",
    "# untransformed_matrix = np.asmatrix(X_train_scaled)\n",
    "dist_original = np.zeros(n)\n",
    "i =0\n",
    "total_time = 0.0\n",
    "\n",
    "for pair in randpairs:\n",
    "    tick = time.time()\n",
    "    v2 = X_train_scaled[pair[1]]\n",
    "    v1 = X_train_scaled[pair[0]]\n",
    "    dist_original[i] = dist(v1,v2)\n",
    "    tock = time.time()\n",
    "           \n",
    "    total_time = total_time+tock-tick\n",
    "    i +=1\n",
    "              \n",
    "print(f\"total time: {round(total_time, 2)}s\")"
   ]
  },
  {
   "cell_type": "code",
   "execution_count": 72,
   "metadata": {},
   "outputs": [
    {
     "name": "stdout",
     "output_type": "stream",
     "text": [
      "total time sparse: 0.04s\n",
      "total time Gaussian: 0.02s\n"
     ]
    }
   ],
   "source": [
    "transformer_sparse = random_projection.SparseRandomProjection(eps=0.5)\n",
    "transformer_gaussian = random_projection.GaussianRandomProjection(eps=0.5)\n",
    "transformed_sparse = transformer_sparse.fit_transform(X_train_scaled)\n",
    "transformed_gaussian = transformer_gaussian.fit_transform(X_train_scaled)\n",
    "# distance in the reduced dimension\n",
    "dist_reduced_sparse = np.zeros(n)\n",
    "dist_reduced_gaussian = np.zeros(n)\n",
    "\n",
    "total_time_sparse = 0.0\n",
    "total_time_gaussian = 0.0\n",
    "\n",
    "i =0\n",
    "for pair in randpairs:\n",
    "    tick = time.time()\n",
    "    v1 = transformed_sparse[pair[0]]\n",
    "    v2 = transformed_sparse[pair[1]]\n",
    "    dist_reduced_sparse[i] = dist(v1,v2)\n",
    "    tock = time.time()\n",
    "    total_time_sparse = total_time_sparse+tock-tick\n",
    "    i +=1\n",
    "    \n",
    "i =0\n",
    "for pair in randpairs:\n",
    "    tick = time.time()\n",
    "    v1 = transformed_gaussian[pair[0]]\n",
    "    v2 = transformed_gaussian[pair[1]]\n",
    "    dist_reduced_gaussian[i] = dist(v1,v2)\n",
    "    tock = time.time()\n",
    "    total_time_gaussian = total_time_gaussian+tock-tick\n",
    "    i +=1\n",
    "           \n",
    "           \n",
    "print(f\"total time sparse: {round(total_time_sparse, 2)}s\")\n",
    "print(f\"total time Gaussian: {round(total_time_gaussian, 2)}s\")"
   ]
  },
  {
   "cell_type": "code",
   "execution_count": 73,
   "metadata": {},
   "outputs": [
    {
     "name": "stdout",
     "output_type": "stream",
     "text": [
      "sparse mean absolute epsilon: 0.029\n",
      "sparse max epsilon: 0.144\n",
      "Gaussian mean absolute epsilon: 0.023\n",
      "Gaussian max epsilon: 0.131\n"
     ]
    }
   ],
   "source": [
    "# how close are we after reducing dimension?\n",
    "error_sparse = dist_original - dist_reduced_sparse\n",
    "error_gaussian = dist_original - dist_reduced_gaussian\n",
    "\n",
    "#Sparse\n",
    "nz = []\n",
    "for i in range(len(error_sparse)):\n",
    "    if (dist_original[i] !=0):\n",
    "        nz.append(np.abs(error_sparse[i]/dist_original[i]))\n",
    "        \n",
    "nz_error = np.array(nz)\n",
    "print(f\"sparse mean absolute epsilon: {round(np.mean(nz_error), 3)}\")\n",
    "print(f\"sparse max epsilon: {round(np.max(nz_error), 3)}\")\n",
    "\n",
    "#Gaussian\n",
    "nz = []\n",
    "for i in range(len(error_gaussian)):\n",
    "    if (dist_original[i] !=0):\n",
    "        nz.append(np.abs(error_gaussian[i]/dist_original[i]))\n",
    "        \n",
    "nz_error = np.array(nz)\n",
    "print(f\"Gaussian mean absolute epsilon: {round(np.mean(nz_error), 3)}\")\n",
    "print(f\"Gaussian max epsilon: {round(np.max(nz_error), 3)}\")"
   ]
  },
  {
   "cell_type": "markdown",
   "metadata": {},
   "source": [
    "<div class=\"alert alert-block alert-success\">\n",
    "<b>takeaway:</b>   \n",
    "    \n",
    "- Gaussian random projections perform slightly better than sparse random projections in terms of distortion ($\\epsilon$)\n",
    "\n",
    "</div>"
   ]
  }
 ],
 "metadata": {
  "kernelspec": {
   "display_name": "Python 3",
   "language": "python",
   "name": "python3"
  },
  "language_info": {
   "codemirror_mode": {
    "name": "ipython",
    "version": 3
   },
   "file_extension": ".py",
   "mimetype": "text/x-python",
   "name": "python",
   "nbconvert_exporter": "python",
   "pygments_lexer": "ipython3",
   "version": "3.8.5"
  },
  "toc": {
   "base_numbering": 1,
   "nav_menu": {},
   "number_sections": true,
   "sideBar": true,
   "skip_h1_title": false,
   "title_cell": "Table of Contents",
   "title_sidebar": "Contents",
   "toc_cell": false,
   "toc_position": {},
   "toc_section_display": true,
   "toc_window_display": false
  }
 },
 "nbformat": 4,
 "nbformat_minor": 4
}
