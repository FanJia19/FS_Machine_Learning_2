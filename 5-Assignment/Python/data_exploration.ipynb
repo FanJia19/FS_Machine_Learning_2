{
 "metadata": {
  "language_info": {
   "codemirror_mode": {
    "name": "ipython",
    "version": 3
   },
   "file_extension": ".py",
   "mimetype": "text/x-python",
   "name": "python",
   "nbconvert_exporter": "python",
   "pygments_lexer": "ipython3",
   "version": "3.9.1"
  },
  "orig_nbformat": 2,
  "kernelspec": {
   "name": "python391jvsc74a57bd0b8bdd4e700647ba2b08c59e5df8b7da1dcf50a218bcd4c1bcd9b3dc92e8788e5",
   "display_name": "Python 3.9.1 64-bit"
  },
  "metadata": {
   "interpreter": {
    "hash": "aee8b7b246df8f9039afb4144a1f6fd8d2ca17a180786b69acc140d282b71a49"
   }
  }
 },
 "nbformat": 4,
 "nbformat_minor": 2,
 "cells": [
  {
   "cell_type": "code",
   "execution_count": 49,
   "metadata": {},
   "outputs": [],
   "source": [
    "# This cell is for all needed imports\n",
    "import pandas as pd \n",
    "import numpy as np \n",
    "import matplotlib.pyplot as plt \n",
    "from icecream import ic\n",
    "from sklearn.model_selection import train_test_split\n",
    "from sklearn.preprocessing import StandardScaler"
   ]
  },
  {
   "cell_type": "code",
   "execution_count": 59,
   "metadata": {},
   "outputs": [],
   "source": [
    "df = pd.read_csv('../Source/SpotifyFeatures.csv', sep = ',')"
   ]
  },
  {
   "cell_type": "code",
   "execution_count": 60,
   "metadata": {},
   "outputs": [
    {
     "output_type": "stream",
     "name": "stdout",
     "text": [
      "<class 'pandas.core.frame.DataFrame'>\nRangeIndex: 232725 entries, 0 to 232724\nData columns (total 18 columns):\n #   Column            Non-Null Count   Dtype  \n---  ------            --------------   -----  \n 0   genre             232725 non-null  object \n 1   artist_name       232725 non-null  object \n 2   track_name        232725 non-null  object \n 3   track_id          232725 non-null  object \n 4   popularity        232725 non-null  int64  \n 5   acousticness      232725 non-null  float64\n 6   danceability      232725 non-null  float64\n 7   duration_ms       232725 non-null  int64  \n 8   energy            232725 non-null  float64\n 9   instrumentalness  232725 non-null  float64\n 10  key               232725 non-null  object \n 11  liveness          232725 non-null  float64\n 12  loudness          232725 non-null  float64\n 13  mode              232725 non-null  object \n 14  speechiness       232725 non-null  float64\n 15  tempo             232725 non-null  float64\n 16  time_signature    232725 non-null  object \n 17  valence           232725 non-null  float64\ndtypes: float64(9), int64(2), object(7)\nmemory usage: 32.0+ MB\n"
     ]
    }
   ],
   "source": [
    "df.info()"
   ]
  },
  {
   "cell_type": "code",
   "execution_count": 61,
   "metadata": {},
   "outputs": [
    {
     "output_type": "execute_result",
     "data": {
      "text/plain": [
       "   genre        artist_name                        track_name  \\\n",
       "0  Movie     Henri Salvador       C'est beau de faire un Show   \n",
       "1  Movie  Martin & les fées  Perdu d'avance (par Gad Elmaleh)   \n",
       "2  Movie    Joseph Williams    Don't Let Me Be Lonely Tonight   \n",
       "3  Movie     Henri Salvador    Dis-moi Monsieur Gordon Cooper   \n",
       "\n",
       "                 track_id  popularity  acousticness  danceability  \\\n",
       "0  0BRjO6ga9RKCKjfDqeFgWV           0         0.611         0.389   \n",
       "1  0BjC1NfoEOOusryehmNudP           1         0.246         0.590   \n",
       "2  0CoSDzoNIKCRs124s9uTVy           3         0.952         0.663   \n",
       "3  0Gc6TVm52BwZD07Ki6tIvf           0         0.703         0.240   \n",
       "\n",
       "   duration_ms  energy  instrumentalness key  liveness  loudness   mode  \\\n",
       "0        99373   0.910               0.0  C#    0.3460    -1.828  Major   \n",
       "1       137373   0.737               0.0  F#    0.1510    -5.559  Minor   \n",
       "2       170267   0.131               0.0   C    0.1030   -13.879  Minor   \n",
       "3       152427   0.326               0.0  C#    0.0985   -12.178  Major   \n",
       "\n",
       "   speechiness    tempo time_signature  valence  \n",
       "0       0.0525  166.969            4/4    0.814  \n",
       "1       0.0868  174.003            4/4    0.816  \n",
       "2       0.0362   99.488            5/4    0.368  \n",
       "3       0.0395  171.758            4/4    0.227  "
      ],
      "text/html": "<div>\n<style scoped>\n    .dataframe tbody tr th:only-of-type {\n        vertical-align: middle;\n    }\n\n    .dataframe tbody tr th {\n        vertical-align: top;\n    }\n\n    .dataframe thead th {\n        text-align: right;\n    }\n</style>\n<table border=\"1\" class=\"dataframe\">\n  <thead>\n    <tr style=\"text-align: right;\">\n      <th></th>\n      <th>genre</th>\n      <th>artist_name</th>\n      <th>track_name</th>\n      <th>track_id</th>\n      <th>popularity</th>\n      <th>acousticness</th>\n      <th>danceability</th>\n      <th>duration_ms</th>\n      <th>energy</th>\n      <th>instrumentalness</th>\n      <th>key</th>\n      <th>liveness</th>\n      <th>loudness</th>\n      <th>mode</th>\n      <th>speechiness</th>\n      <th>tempo</th>\n      <th>time_signature</th>\n      <th>valence</th>\n    </tr>\n  </thead>\n  <tbody>\n    <tr>\n      <th>0</th>\n      <td>Movie</td>\n      <td>Henri Salvador</td>\n      <td>C'est beau de faire un Show</td>\n      <td>0BRjO6ga9RKCKjfDqeFgWV</td>\n      <td>0</td>\n      <td>0.611</td>\n      <td>0.389</td>\n      <td>99373</td>\n      <td>0.910</td>\n      <td>0.0</td>\n      <td>C#</td>\n      <td>0.3460</td>\n      <td>-1.828</td>\n      <td>Major</td>\n      <td>0.0525</td>\n      <td>166.969</td>\n      <td>4/4</td>\n      <td>0.814</td>\n    </tr>\n    <tr>\n      <th>1</th>\n      <td>Movie</td>\n      <td>Martin &amp; les fées</td>\n      <td>Perdu d'avance (par Gad Elmaleh)</td>\n      <td>0BjC1NfoEOOusryehmNudP</td>\n      <td>1</td>\n      <td>0.246</td>\n      <td>0.590</td>\n      <td>137373</td>\n      <td>0.737</td>\n      <td>0.0</td>\n      <td>F#</td>\n      <td>0.1510</td>\n      <td>-5.559</td>\n      <td>Minor</td>\n      <td>0.0868</td>\n      <td>174.003</td>\n      <td>4/4</td>\n      <td>0.816</td>\n    </tr>\n    <tr>\n      <th>2</th>\n      <td>Movie</td>\n      <td>Joseph Williams</td>\n      <td>Don't Let Me Be Lonely Tonight</td>\n      <td>0CoSDzoNIKCRs124s9uTVy</td>\n      <td>3</td>\n      <td>0.952</td>\n      <td>0.663</td>\n      <td>170267</td>\n      <td>0.131</td>\n      <td>0.0</td>\n      <td>C</td>\n      <td>0.1030</td>\n      <td>-13.879</td>\n      <td>Minor</td>\n      <td>0.0362</td>\n      <td>99.488</td>\n      <td>5/4</td>\n      <td>0.368</td>\n    </tr>\n    <tr>\n      <th>3</th>\n      <td>Movie</td>\n      <td>Henri Salvador</td>\n      <td>Dis-moi Monsieur Gordon Cooper</td>\n      <td>0Gc6TVm52BwZD07Ki6tIvf</td>\n      <td>0</td>\n      <td>0.703</td>\n      <td>0.240</td>\n      <td>152427</td>\n      <td>0.326</td>\n      <td>0.0</td>\n      <td>C#</td>\n      <td>0.0985</td>\n      <td>-12.178</td>\n      <td>Major</td>\n      <td>0.0395</td>\n      <td>171.758</td>\n      <td>4/4</td>\n      <td>0.227</td>\n    </tr>\n  </tbody>\n</table>\n</div>"
     },
     "metadata": {},
     "execution_count": 61
    }
   ],
   "source": [
    "df.head(4)"
   ]
  },
  {
   "source": [
    "## Feature Selection\n",
    "What to keep?\n",
    "genre, popularity, acoustiness, dancebility, duration_ms, energy, instrumentalness, liveness, loudness, speechiness, tempo, valence"
   ],
   "cell_type": "markdown",
   "metadata": {}
  },
  {
   "cell_type": "code",
   "execution_count": 62,
   "metadata": {},
   "outputs": [],
   "source": [
    "del df['artist_name']\n",
    "del df['track_name']\n",
    "del df['track_id']\n",
    "del df['key']\n",
    "del df['mode']\n",
    "del df['time_signature']"
   ]
  },
  {
   "cell_type": "code",
   "execution_count": 63,
   "metadata": {},
   "outputs": [
    {
     "output_type": "execute_result",
     "data": {
      "text/plain": [
       "   genre  popularity  acousticness  danceability  duration_ms  energy  \\\n",
       "0  Movie           0         0.611         0.389        99373   0.910   \n",
       "1  Movie           1         0.246         0.590       137373   0.737   \n",
       "2  Movie           3         0.952         0.663       170267   0.131   \n",
       "\n",
       "   instrumentalness  liveness  loudness  speechiness    tempo  valence  \n",
       "0               0.0     0.346    -1.828       0.0525  166.969    0.814  \n",
       "1               0.0     0.151    -5.559       0.0868  174.003    0.816  \n",
       "2               0.0     0.103   -13.879       0.0362   99.488    0.368  "
      ],
      "text/html": "<div>\n<style scoped>\n    .dataframe tbody tr th:only-of-type {\n        vertical-align: middle;\n    }\n\n    .dataframe tbody tr th {\n        vertical-align: top;\n    }\n\n    .dataframe thead th {\n        text-align: right;\n    }\n</style>\n<table border=\"1\" class=\"dataframe\">\n  <thead>\n    <tr style=\"text-align: right;\">\n      <th></th>\n      <th>genre</th>\n      <th>popularity</th>\n      <th>acousticness</th>\n      <th>danceability</th>\n      <th>duration_ms</th>\n      <th>energy</th>\n      <th>instrumentalness</th>\n      <th>liveness</th>\n      <th>loudness</th>\n      <th>speechiness</th>\n      <th>tempo</th>\n      <th>valence</th>\n    </tr>\n  </thead>\n  <tbody>\n    <tr>\n      <th>0</th>\n      <td>Movie</td>\n      <td>0</td>\n      <td>0.611</td>\n      <td>0.389</td>\n      <td>99373</td>\n      <td>0.910</td>\n      <td>0.0</td>\n      <td>0.346</td>\n      <td>-1.828</td>\n      <td>0.0525</td>\n      <td>166.969</td>\n      <td>0.814</td>\n    </tr>\n    <tr>\n      <th>1</th>\n      <td>Movie</td>\n      <td>1</td>\n      <td>0.246</td>\n      <td>0.590</td>\n      <td>137373</td>\n      <td>0.737</td>\n      <td>0.0</td>\n      <td>0.151</td>\n      <td>-5.559</td>\n      <td>0.0868</td>\n      <td>174.003</td>\n      <td>0.816</td>\n    </tr>\n    <tr>\n      <th>2</th>\n      <td>Movie</td>\n      <td>3</td>\n      <td>0.952</td>\n      <td>0.663</td>\n      <td>170267</td>\n      <td>0.131</td>\n      <td>0.0</td>\n      <td>0.103</td>\n      <td>-13.879</td>\n      <td>0.0362</td>\n      <td>99.488</td>\n      <td>0.368</td>\n    </tr>\n  </tbody>\n</table>\n</div>"
     },
     "metadata": {},
     "execution_count": 63
    }
   ],
   "source": [
    "df.head(3)"
   ]
  },
  {
   "cell_type": "code",
   "execution_count": 68,
   "metadata": {},
   "outputs": [],
   "source": [
    "df['genre'] = df.genre.astype('category')\n",
    "df['genre'] = df['genre'].cat.codes"
   ]
  },
  {
   "cell_type": "code",
   "execution_count": 69,
   "metadata": {},
   "outputs": [
    {
     "output_type": "stream",
     "name": "stdout",
     "text": [
      "<class 'pandas.core.frame.DataFrame'>\nRangeIndex: 232725 entries, 0 to 232724\nData columns (total 12 columns):\n #   Column            Non-Null Count   Dtype  \n---  ------            --------------   -----  \n 0   genre             232725 non-null  int8   \n 1   popularity        232725 non-null  int64  \n 2   acousticness      232725 non-null  float64\n 3   danceability      232725 non-null  float64\n 4   duration_ms       232725 non-null  int64  \n 5   energy            232725 non-null  float64\n 6   instrumentalness  232725 non-null  float64\n 7   liveness          232725 non-null  float64\n 8   loudness          232725 non-null  float64\n 9   speechiness       232725 non-null  float64\n 10  tempo             232725 non-null  float64\n 11  valence           232725 non-null  float64\ndtypes: float64(9), int64(2), int8(1)\nmemory usage: 19.8 MB\n"
     ]
    }
   ],
   "source": [
    "df.info()"
   ]
  },
  {
   "cell_type": "code",
   "execution_count": 70,
   "metadata": {},
   "outputs": [],
   "source": [
    "X = df.iloc[:, 1:]\n",
    "y = df.iloc[:, 0]"
   ]
  },
  {
   "cell_type": "code",
   "execution_count": 71,
   "metadata": {},
   "outputs": [],
   "source": [
    "sc = StandardScaler()\n",
    "X_std = sc.fit_transform(X) \n"
   ]
  },
  {
   "cell_type": "code",
   "execution_count": null,
   "metadata": {},
   "outputs": [],
   "source": []
  }
 ]
}